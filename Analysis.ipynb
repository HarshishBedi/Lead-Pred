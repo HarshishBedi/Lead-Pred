{
  "cells": [
    {
      "cell_type": "markdown",
      "metadata": {
        "id": "5db2b43c"
      },
      "source": [
        "## Problem Statement"
      ]
    },
    {
      "cell_type": "markdown",
      "metadata": {
        "id": "b9a21754"
      },
      "source": [
        "Prediction of Conversion Ratio of Leads for an X Education website"
      ]
    },
    {
      "cell_type": "code",
      "execution_count": 388,
      "metadata": {
        "id": "0cd2929f"
      },
      "outputs": [],
      "source": [
        "import pandas as pd\n",
        "import numpy as np\n",
        "import seaborn as sns\n",
        "import matplotlib.pyplot as plt\n",
        "%matplotlib inline\n",
        "\n",
        "import warnings\n",
        "warnings.filterwarnings('ignore')"
      ]
    },
    {
      "cell_type": "code",
      "execution_count": 389,
      "metadata": {
        "id": "Wwp_uhQ-Q6Kq"
      },
      "outputs": [],
      "source": [
        "leads = pd.read_csv('Leads.csv')"
      ]
    },
    {
      "cell_type": "code",
      "execution_count": 390,
      "metadata": {
        "colab": {
          "base_uri": "https://localhost:8080/",
          "height": 646
        },
        "id": "b5e8558c",
        "outputId": "bbd83c4d-081a-4efa-add7-f49435a92405"
      },
      "outputs": [
        {
          "data": {
            "text/html": [
              "<div>\n",
              "<style scoped>\n",
              "    .dataframe tbody tr th:only-of-type {\n",
              "        vertical-align: middle;\n",
              "    }\n",
              "\n",
              "    .dataframe tbody tr th {\n",
              "        vertical-align: top;\n",
              "    }\n",
              "\n",
              "    .dataframe thead th {\n",
              "        text-align: right;\n",
              "    }\n",
              "</style>\n",
              "<table border=\"1\" class=\"dataframe\">\n",
              "  <thead>\n",
              "    <tr style=\"text-align: right;\">\n",
              "      <th></th>\n",
              "      <th>Prospect ID</th>\n",
              "      <th>Lead Number</th>\n",
              "      <th>Lead Origin</th>\n",
              "      <th>Lead Source</th>\n",
              "      <th>Do Not Email</th>\n",
              "      <th>Do Not Call</th>\n",
              "      <th>Converted</th>\n",
              "      <th>TotalVisits</th>\n",
              "      <th>Total Time Spent on Website</th>\n",
              "      <th>Page Views Per Visit</th>\n",
              "      <th>...</th>\n",
              "      <th>Get updates on DM Content</th>\n",
              "      <th>Lead Profile</th>\n",
              "      <th>City</th>\n",
              "      <th>Asymmetrique Activity Index</th>\n",
              "      <th>Asymmetrique Profile Index</th>\n",
              "      <th>Asymmetrique Activity Score</th>\n",
              "      <th>Asymmetrique Profile Score</th>\n",
              "      <th>I agree to pay the amount through cheque</th>\n",
              "      <th>A free copy of Mastering The Interview</th>\n",
              "      <th>Last Notable Activity</th>\n",
              "    </tr>\n",
              "  </thead>\n",
              "  <tbody>\n",
              "    <tr>\n",
              "      <th>0</th>\n",
              "      <td>7927b2df-8bba-4d29-b9a2-b6e0beafe620</td>\n",
              "      <td>660737</td>\n",
              "      <td>API</td>\n",
              "      <td>Olark Chat</td>\n",
              "      <td>No</td>\n",
              "      <td>No</td>\n",
              "      <td>0</td>\n",
              "      <td>0.0</td>\n",
              "      <td>0</td>\n",
              "      <td>0.0</td>\n",
              "      <td>...</td>\n",
              "      <td>No</td>\n",
              "      <td>Select</td>\n",
              "      <td>Select</td>\n",
              "      <td>02.Medium</td>\n",
              "      <td>02.Medium</td>\n",
              "      <td>15.0</td>\n",
              "      <td>15.0</td>\n",
              "      <td>No</td>\n",
              "      <td>No</td>\n",
              "      <td>Modified</td>\n",
              "    </tr>\n",
              "    <tr>\n",
              "      <th>1</th>\n",
              "      <td>2a272436-5132-4136-86fa-dcc88c88f482</td>\n",
              "      <td>660728</td>\n",
              "      <td>API</td>\n",
              "      <td>Organic Search</td>\n",
              "      <td>No</td>\n",
              "      <td>No</td>\n",
              "      <td>0</td>\n",
              "      <td>5.0</td>\n",
              "      <td>674</td>\n",
              "      <td>2.5</td>\n",
              "      <td>...</td>\n",
              "      <td>No</td>\n",
              "      <td>Select</td>\n",
              "      <td>Select</td>\n",
              "      <td>02.Medium</td>\n",
              "      <td>02.Medium</td>\n",
              "      <td>15.0</td>\n",
              "      <td>15.0</td>\n",
              "      <td>No</td>\n",
              "      <td>No</td>\n",
              "      <td>Email Opened</td>\n",
              "    </tr>\n",
              "    <tr>\n",
              "      <th>2</th>\n",
              "      <td>8cc8c611-a219-4f35-ad23-fdfd2656bd8a</td>\n",
              "      <td>660727</td>\n",
              "      <td>Landing Page Submission</td>\n",
              "      <td>Direct Traffic</td>\n",
              "      <td>No</td>\n",
              "      <td>No</td>\n",
              "      <td>1</td>\n",
              "      <td>2.0</td>\n",
              "      <td>1532</td>\n",
              "      <td>2.0</td>\n",
              "      <td>...</td>\n",
              "      <td>No</td>\n",
              "      <td>Potential Lead</td>\n",
              "      <td>Mumbai</td>\n",
              "      <td>02.Medium</td>\n",
              "      <td>01.High</td>\n",
              "      <td>14.0</td>\n",
              "      <td>20.0</td>\n",
              "      <td>No</td>\n",
              "      <td>Yes</td>\n",
              "      <td>Email Opened</td>\n",
              "    </tr>\n",
              "    <tr>\n",
              "      <th>3</th>\n",
              "      <td>0cc2df48-7cf4-4e39-9de9-19797f9b38cc</td>\n",
              "      <td>660719</td>\n",
              "      <td>Landing Page Submission</td>\n",
              "      <td>Direct Traffic</td>\n",
              "      <td>No</td>\n",
              "      <td>No</td>\n",
              "      <td>0</td>\n",
              "      <td>1.0</td>\n",
              "      <td>305</td>\n",
              "      <td>1.0</td>\n",
              "      <td>...</td>\n",
              "      <td>No</td>\n",
              "      <td>Select</td>\n",
              "      <td>Mumbai</td>\n",
              "      <td>02.Medium</td>\n",
              "      <td>01.High</td>\n",
              "      <td>13.0</td>\n",
              "      <td>17.0</td>\n",
              "      <td>No</td>\n",
              "      <td>No</td>\n",
              "      <td>Modified</td>\n",
              "    </tr>\n",
              "    <tr>\n",
              "      <th>4</th>\n",
              "      <td>3256f628-e534-4826-9d63-4a8b88782852</td>\n",
              "      <td>660681</td>\n",
              "      <td>Landing Page Submission</td>\n",
              "      <td>Google</td>\n",
              "      <td>No</td>\n",
              "      <td>No</td>\n",
              "      <td>1</td>\n",
              "      <td>2.0</td>\n",
              "      <td>1428</td>\n",
              "      <td>1.0</td>\n",
              "      <td>...</td>\n",
              "      <td>No</td>\n",
              "      <td>Select</td>\n",
              "      <td>Mumbai</td>\n",
              "      <td>02.Medium</td>\n",
              "      <td>01.High</td>\n",
              "      <td>15.0</td>\n",
              "      <td>18.0</td>\n",
              "      <td>No</td>\n",
              "      <td>No</td>\n",
              "      <td>Modified</td>\n",
              "    </tr>\n",
              "  </tbody>\n",
              "</table>\n",
              "<p>5 rows × 37 columns</p>\n",
              "</div>"
            ],
            "text/plain": [
              "                            Prospect ID  Lead Number              Lead Origin  \\\n",
              "0  7927b2df-8bba-4d29-b9a2-b6e0beafe620       660737                      API   \n",
              "1  2a272436-5132-4136-86fa-dcc88c88f482       660728                      API   \n",
              "2  8cc8c611-a219-4f35-ad23-fdfd2656bd8a       660727  Landing Page Submission   \n",
              "3  0cc2df48-7cf4-4e39-9de9-19797f9b38cc       660719  Landing Page Submission   \n",
              "4  3256f628-e534-4826-9d63-4a8b88782852       660681  Landing Page Submission   \n",
              "\n",
              "      Lead Source Do Not Email Do Not Call  Converted  TotalVisits  \\\n",
              "0      Olark Chat           No          No          0          0.0   \n",
              "1  Organic Search           No          No          0          5.0   \n",
              "2  Direct Traffic           No          No          1          2.0   \n",
              "3  Direct Traffic           No          No          0          1.0   \n",
              "4          Google           No          No          1          2.0   \n",
              "\n",
              "   Total Time Spent on Website  Page Views Per Visit  ...  \\\n",
              "0                            0                   0.0  ...   \n",
              "1                          674                   2.5  ...   \n",
              "2                         1532                   2.0  ...   \n",
              "3                          305                   1.0  ...   \n",
              "4                         1428                   1.0  ...   \n",
              "\n",
              "  Get updates on DM Content    Lead Profile    City  \\\n",
              "0                        No          Select  Select   \n",
              "1                        No          Select  Select   \n",
              "2                        No  Potential Lead  Mumbai   \n",
              "3                        No          Select  Mumbai   \n",
              "4                        No          Select  Mumbai   \n",
              "\n",
              "  Asymmetrique Activity Index Asymmetrique Profile Index  \\\n",
              "0                   02.Medium                  02.Medium   \n",
              "1                   02.Medium                  02.Medium   \n",
              "2                   02.Medium                    01.High   \n",
              "3                   02.Medium                    01.High   \n",
              "4                   02.Medium                    01.High   \n",
              "\n",
              "  Asymmetrique Activity Score Asymmetrique Profile Score  \\\n",
              "0                        15.0                       15.0   \n",
              "1                        15.0                       15.0   \n",
              "2                        14.0                       20.0   \n",
              "3                        13.0                       17.0   \n",
              "4                        15.0                       18.0   \n",
              "\n",
              "  I agree to pay the amount through cheque  \\\n",
              "0                                       No   \n",
              "1                                       No   \n",
              "2                                       No   \n",
              "3                                       No   \n",
              "4                                       No   \n",
              "\n",
              "  A free copy of Mastering The Interview Last Notable Activity  \n",
              "0                                     No              Modified  \n",
              "1                                     No          Email Opened  \n",
              "2                                    Yes          Email Opened  \n",
              "3                                     No              Modified  \n",
              "4                                     No              Modified  \n",
              "\n",
              "[5 rows x 37 columns]"
            ]
          },
          "execution_count": 390,
          "metadata": {},
          "output_type": "execute_result"
        }
      ],
      "source": [
        "leads.head()"
      ]
    },
    {
      "cell_type": "code",
      "execution_count": 391,
      "metadata": {
        "colab": {
          "base_uri": "https://localhost:8080/",
          "height": 1000
        },
        "id": "eb1555e0",
        "outputId": "85bdf11d-fdbd-4e9f-fc24-5ea833f0981c"
      },
      "outputs": [
        {
          "data": {
            "text/html": [
              "<div>\n",
              "<style scoped>\n",
              "    .dataframe tbody tr th:only-of-type {\n",
              "        vertical-align: middle;\n",
              "    }\n",
              "\n",
              "    .dataframe tbody tr th {\n",
              "        vertical-align: top;\n",
              "    }\n",
              "\n",
              "    .dataframe thead th {\n",
              "        text-align: right;\n",
              "    }\n",
              "</style>\n",
              "<table border=\"1\" class=\"dataframe\">\n",
              "  <thead>\n",
              "    <tr style=\"text-align: right;\">\n",
              "      <th></th>\n",
              "      <th>0</th>\n",
              "      <th>1</th>\n",
              "      <th>2</th>\n",
              "      <th>3</th>\n",
              "      <th>4</th>\n",
              "    </tr>\n",
              "  </thead>\n",
              "  <tbody>\n",
              "    <tr>\n",
              "      <th>Prospect ID</th>\n",
              "      <td>7927b2df-8bba-4d29-b9a2-b6e0beafe620</td>\n",
              "      <td>2a272436-5132-4136-86fa-dcc88c88f482</td>\n",
              "      <td>8cc8c611-a219-4f35-ad23-fdfd2656bd8a</td>\n",
              "      <td>0cc2df48-7cf4-4e39-9de9-19797f9b38cc</td>\n",
              "      <td>3256f628-e534-4826-9d63-4a8b88782852</td>\n",
              "    </tr>\n",
              "    <tr>\n",
              "      <th>Lead Number</th>\n",
              "      <td>660737</td>\n",
              "      <td>660728</td>\n",
              "      <td>660727</td>\n",
              "      <td>660719</td>\n",
              "      <td>660681</td>\n",
              "    </tr>\n",
              "    <tr>\n",
              "      <th>Lead Origin</th>\n",
              "      <td>API</td>\n",
              "      <td>API</td>\n",
              "      <td>Landing Page Submission</td>\n",
              "      <td>Landing Page Submission</td>\n",
              "      <td>Landing Page Submission</td>\n",
              "    </tr>\n",
              "    <tr>\n",
              "      <th>Lead Source</th>\n",
              "      <td>Olark Chat</td>\n",
              "      <td>Organic Search</td>\n",
              "      <td>Direct Traffic</td>\n",
              "      <td>Direct Traffic</td>\n",
              "      <td>Google</td>\n",
              "    </tr>\n",
              "    <tr>\n",
              "      <th>Do Not Email</th>\n",
              "      <td>No</td>\n",
              "      <td>No</td>\n",
              "      <td>No</td>\n",
              "      <td>No</td>\n",
              "      <td>No</td>\n",
              "    </tr>\n",
              "    <tr>\n",
              "      <th>Do Not Call</th>\n",
              "      <td>No</td>\n",
              "      <td>No</td>\n",
              "      <td>No</td>\n",
              "      <td>No</td>\n",
              "      <td>No</td>\n",
              "    </tr>\n",
              "    <tr>\n",
              "      <th>Converted</th>\n",
              "      <td>0</td>\n",
              "      <td>0</td>\n",
              "      <td>1</td>\n",
              "      <td>0</td>\n",
              "      <td>1</td>\n",
              "    </tr>\n",
              "    <tr>\n",
              "      <th>TotalVisits</th>\n",
              "      <td>0.0</td>\n",
              "      <td>5.0</td>\n",
              "      <td>2.0</td>\n",
              "      <td>1.0</td>\n",
              "      <td>2.0</td>\n",
              "    </tr>\n",
              "    <tr>\n",
              "      <th>Total Time Spent on Website</th>\n",
              "      <td>0</td>\n",
              "      <td>674</td>\n",
              "      <td>1532</td>\n",
              "      <td>305</td>\n",
              "      <td>1428</td>\n",
              "    </tr>\n",
              "    <tr>\n",
              "      <th>Page Views Per Visit</th>\n",
              "      <td>0.0</td>\n",
              "      <td>2.5</td>\n",
              "      <td>2.0</td>\n",
              "      <td>1.0</td>\n",
              "      <td>1.0</td>\n",
              "    </tr>\n",
              "    <tr>\n",
              "      <th>Last Activity</th>\n",
              "      <td>Page Visited on Website</td>\n",
              "      <td>Email Opened</td>\n",
              "      <td>Email Opened</td>\n",
              "      <td>Unreachable</td>\n",
              "      <td>Converted to Lead</td>\n",
              "    </tr>\n",
              "    <tr>\n",
              "      <th>Country</th>\n",
              "      <td>NaN</td>\n",
              "      <td>India</td>\n",
              "      <td>India</td>\n",
              "      <td>India</td>\n",
              "      <td>India</td>\n",
              "    </tr>\n",
              "    <tr>\n",
              "      <th>Specialization</th>\n",
              "      <td>Select</td>\n",
              "      <td>Select</td>\n",
              "      <td>Business Administration</td>\n",
              "      <td>Media and Advertising</td>\n",
              "      <td>Select</td>\n",
              "    </tr>\n",
              "    <tr>\n",
              "      <th>How did you hear about X Education</th>\n",
              "      <td>Select</td>\n",
              "      <td>Select</td>\n",
              "      <td>Select</td>\n",
              "      <td>Word Of Mouth</td>\n",
              "      <td>Other</td>\n",
              "    </tr>\n",
              "    <tr>\n",
              "      <th>What is your current occupation</th>\n",
              "      <td>Unemployed</td>\n",
              "      <td>Unemployed</td>\n",
              "      <td>Student</td>\n",
              "      <td>Unemployed</td>\n",
              "      <td>Unemployed</td>\n",
              "    </tr>\n",
              "    <tr>\n",
              "      <th>What matters most to you in choosing a course</th>\n",
              "      <td>Better Career Prospects</td>\n",
              "      <td>Better Career Prospects</td>\n",
              "      <td>Better Career Prospects</td>\n",
              "      <td>Better Career Prospects</td>\n",
              "      <td>Better Career Prospects</td>\n",
              "    </tr>\n",
              "    <tr>\n",
              "      <th>Search</th>\n",
              "      <td>No</td>\n",
              "      <td>No</td>\n",
              "      <td>No</td>\n",
              "      <td>No</td>\n",
              "      <td>No</td>\n",
              "    </tr>\n",
              "    <tr>\n",
              "      <th>Magazine</th>\n",
              "      <td>No</td>\n",
              "      <td>No</td>\n",
              "      <td>No</td>\n",
              "      <td>No</td>\n",
              "      <td>No</td>\n",
              "    </tr>\n",
              "    <tr>\n",
              "      <th>Newspaper Article</th>\n",
              "      <td>No</td>\n",
              "      <td>No</td>\n",
              "      <td>No</td>\n",
              "      <td>No</td>\n",
              "      <td>No</td>\n",
              "    </tr>\n",
              "    <tr>\n",
              "      <th>X Education Forums</th>\n",
              "      <td>No</td>\n",
              "      <td>No</td>\n",
              "      <td>No</td>\n",
              "      <td>No</td>\n",
              "      <td>No</td>\n",
              "    </tr>\n",
              "    <tr>\n",
              "      <th>Newspaper</th>\n",
              "      <td>No</td>\n",
              "      <td>No</td>\n",
              "      <td>No</td>\n",
              "      <td>No</td>\n",
              "      <td>No</td>\n",
              "    </tr>\n",
              "    <tr>\n",
              "      <th>Digital Advertisement</th>\n",
              "      <td>No</td>\n",
              "      <td>No</td>\n",
              "      <td>No</td>\n",
              "      <td>No</td>\n",
              "      <td>No</td>\n",
              "    </tr>\n",
              "    <tr>\n",
              "      <th>Through Recommendations</th>\n",
              "      <td>No</td>\n",
              "      <td>No</td>\n",
              "      <td>No</td>\n",
              "      <td>No</td>\n",
              "      <td>No</td>\n",
              "    </tr>\n",
              "    <tr>\n",
              "      <th>Receive More Updates About Our Courses</th>\n",
              "      <td>No</td>\n",
              "      <td>No</td>\n",
              "      <td>No</td>\n",
              "      <td>No</td>\n",
              "      <td>No</td>\n",
              "    </tr>\n",
              "    <tr>\n",
              "      <th>Tags</th>\n",
              "      <td>Interested in other courses</td>\n",
              "      <td>Ringing</td>\n",
              "      <td>Will revert after reading the email</td>\n",
              "      <td>Ringing</td>\n",
              "      <td>Will revert after reading the email</td>\n",
              "    </tr>\n",
              "    <tr>\n",
              "      <th>Lead Quality</th>\n",
              "      <td>Low in Relevance</td>\n",
              "      <td>NaN</td>\n",
              "      <td>Might be</td>\n",
              "      <td>Not Sure</td>\n",
              "      <td>Might be</td>\n",
              "    </tr>\n",
              "    <tr>\n",
              "      <th>Update me on Supply Chain Content</th>\n",
              "      <td>No</td>\n",
              "      <td>No</td>\n",
              "      <td>No</td>\n",
              "      <td>No</td>\n",
              "      <td>No</td>\n",
              "    </tr>\n",
              "    <tr>\n",
              "      <th>Get updates on DM Content</th>\n",
              "      <td>No</td>\n",
              "      <td>No</td>\n",
              "      <td>No</td>\n",
              "      <td>No</td>\n",
              "      <td>No</td>\n",
              "    </tr>\n",
              "    <tr>\n",
              "      <th>Lead Profile</th>\n",
              "      <td>Select</td>\n",
              "      <td>Select</td>\n",
              "      <td>Potential Lead</td>\n",
              "      <td>Select</td>\n",
              "      <td>Select</td>\n",
              "    </tr>\n",
              "    <tr>\n",
              "      <th>City</th>\n",
              "      <td>Select</td>\n",
              "      <td>Select</td>\n",
              "      <td>Mumbai</td>\n",
              "      <td>Mumbai</td>\n",
              "      <td>Mumbai</td>\n",
              "    </tr>\n",
              "    <tr>\n",
              "      <th>Asymmetrique Activity Index</th>\n",
              "      <td>02.Medium</td>\n",
              "      <td>02.Medium</td>\n",
              "      <td>02.Medium</td>\n",
              "      <td>02.Medium</td>\n",
              "      <td>02.Medium</td>\n",
              "    </tr>\n",
              "    <tr>\n",
              "      <th>Asymmetrique Profile Index</th>\n",
              "      <td>02.Medium</td>\n",
              "      <td>02.Medium</td>\n",
              "      <td>01.High</td>\n",
              "      <td>01.High</td>\n",
              "      <td>01.High</td>\n",
              "    </tr>\n",
              "    <tr>\n",
              "      <th>Asymmetrique Activity Score</th>\n",
              "      <td>15.0</td>\n",
              "      <td>15.0</td>\n",
              "      <td>14.0</td>\n",
              "      <td>13.0</td>\n",
              "      <td>15.0</td>\n",
              "    </tr>\n",
              "    <tr>\n",
              "      <th>Asymmetrique Profile Score</th>\n",
              "      <td>15.0</td>\n",
              "      <td>15.0</td>\n",
              "      <td>20.0</td>\n",
              "      <td>17.0</td>\n",
              "      <td>18.0</td>\n",
              "    </tr>\n",
              "    <tr>\n",
              "      <th>I agree to pay the amount through cheque</th>\n",
              "      <td>No</td>\n",
              "      <td>No</td>\n",
              "      <td>No</td>\n",
              "      <td>No</td>\n",
              "      <td>No</td>\n",
              "    </tr>\n",
              "    <tr>\n",
              "      <th>A free copy of Mastering The Interview</th>\n",
              "      <td>No</td>\n",
              "      <td>No</td>\n",
              "      <td>Yes</td>\n",
              "      <td>No</td>\n",
              "      <td>No</td>\n",
              "    </tr>\n",
              "    <tr>\n",
              "      <th>Last Notable Activity</th>\n",
              "      <td>Modified</td>\n",
              "      <td>Email Opened</td>\n",
              "      <td>Email Opened</td>\n",
              "      <td>Modified</td>\n",
              "      <td>Modified</td>\n",
              "    </tr>\n",
              "  </tbody>\n",
              "</table>\n",
              "</div>"
            ],
            "text/plain": [
              "                                                                                  0  \\\n",
              "Prospect ID                                    7927b2df-8bba-4d29-b9a2-b6e0beafe620   \n",
              "Lead Number                                                                  660737   \n",
              "Lead Origin                                                                     API   \n",
              "Lead Source                                                              Olark Chat   \n",
              "Do Not Email                                                                     No   \n",
              "Do Not Call                                                                      No   \n",
              "Converted                                                                         0   \n",
              "TotalVisits                                                                     0.0   \n",
              "Total Time Spent on Website                                                       0   \n",
              "Page Views Per Visit                                                            0.0   \n",
              "Last Activity                                               Page Visited on Website   \n",
              "Country                                                                         NaN   \n",
              "Specialization                                                               Select   \n",
              "How did you hear about X Education                                           Select   \n",
              "What is your current occupation                                          Unemployed   \n",
              "What matters most to you in choosing a course               Better Career Prospects   \n",
              "Search                                                                           No   \n",
              "Magazine                                                                         No   \n",
              "Newspaper Article                                                                No   \n",
              "X Education Forums                                                               No   \n",
              "Newspaper                                                                        No   \n",
              "Digital Advertisement                                                            No   \n",
              "Through Recommendations                                                          No   \n",
              "Receive More Updates About Our Courses                                           No   \n",
              "Tags                                                    Interested in other courses   \n",
              "Lead Quality                                                       Low in Relevance   \n",
              "Update me on Supply Chain Content                                                No   \n",
              "Get updates on DM Content                                                        No   \n",
              "Lead Profile                                                                 Select   \n",
              "City                                                                         Select   \n",
              "Asymmetrique Activity Index                                               02.Medium   \n",
              "Asymmetrique Profile Index                                                02.Medium   \n",
              "Asymmetrique Activity Score                                                    15.0   \n",
              "Asymmetrique Profile Score                                                     15.0   \n",
              "I agree to pay the amount through cheque                                         No   \n",
              "A free copy of Mastering The Interview                                           No   \n",
              "Last Notable Activity                                                      Modified   \n",
              "\n",
              "                                                                                  1  \\\n",
              "Prospect ID                                    2a272436-5132-4136-86fa-dcc88c88f482   \n",
              "Lead Number                                                                  660728   \n",
              "Lead Origin                                                                     API   \n",
              "Lead Source                                                          Organic Search   \n",
              "Do Not Email                                                                     No   \n",
              "Do Not Call                                                                      No   \n",
              "Converted                                                                         0   \n",
              "TotalVisits                                                                     5.0   \n",
              "Total Time Spent on Website                                                     674   \n",
              "Page Views Per Visit                                                            2.5   \n",
              "Last Activity                                                          Email Opened   \n",
              "Country                                                                       India   \n",
              "Specialization                                                               Select   \n",
              "How did you hear about X Education                                           Select   \n",
              "What is your current occupation                                          Unemployed   \n",
              "What matters most to you in choosing a course               Better Career Prospects   \n",
              "Search                                                                           No   \n",
              "Magazine                                                                         No   \n",
              "Newspaper Article                                                                No   \n",
              "X Education Forums                                                               No   \n",
              "Newspaper                                                                        No   \n",
              "Digital Advertisement                                                            No   \n",
              "Through Recommendations                                                          No   \n",
              "Receive More Updates About Our Courses                                           No   \n",
              "Tags                                                                        Ringing   \n",
              "Lead Quality                                                                    NaN   \n",
              "Update me on Supply Chain Content                                                No   \n",
              "Get updates on DM Content                                                        No   \n",
              "Lead Profile                                                                 Select   \n",
              "City                                                                         Select   \n",
              "Asymmetrique Activity Index                                               02.Medium   \n",
              "Asymmetrique Profile Index                                                02.Medium   \n",
              "Asymmetrique Activity Score                                                    15.0   \n",
              "Asymmetrique Profile Score                                                     15.0   \n",
              "I agree to pay the amount through cheque                                         No   \n",
              "A free copy of Mastering The Interview                                           No   \n",
              "Last Notable Activity                                                  Email Opened   \n",
              "\n",
              "                                                                                  2  \\\n",
              "Prospect ID                                    8cc8c611-a219-4f35-ad23-fdfd2656bd8a   \n",
              "Lead Number                                                                  660727   \n",
              "Lead Origin                                                 Landing Page Submission   \n",
              "Lead Source                                                          Direct Traffic   \n",
              "Do Not Email                                                                     No   \n",
              "Do Not Call                                                                      No   \n",
              "Converted                                                                         1   \n",
              "TotalVisits                                                                     2.0   \n",
              "Total Time Spent on Website                                                    1532   \n",
              "Page Views Per Visit                                                            2.0   \n",
              "Last Activity                                                          Email Opened   \n",
              "Country                                                                       India   \n",
              "Specialization                                              Business Administration   \n",
              "How did you hear about X Education                                           Select   \n",
              "What is your current occupation                                             Student   \n",
              "What matters most to you in choosing a course               Better Career Prospects   \n",
              "Search                                                                           No   \n",
              "Magazine                                                                         No   \n",
              "Newspaper Article                                                                No   \n",
              "X Education Forums                                                               No   \n",
              "Newspaper                                                                        No   \n",
              "Digital Advertisement                                                            No   \n",
              "Through Recommendations                                                          No   \n",
              "Receive More Updates About Our Courses                                           No   \n",
              "Tags                                            Will revert after reading the email   \n",
              "Lead Quality                                                               Might be   \n",
              "Update me on Supply Chain Content                                                No   \n",
              "Get updates on DM Content                                                        No   \n",
              "Lead Profile                                                         Potential Lead   \n",
              "City                                                                         Mumbai   \n",
              "Asymmetrique Activity Index                                               02.Medium   \n",
              "Asymmetrique Profile Index                                                  01.High   \n",
              "Asymmetrique Activity Score                                                    14.0   \n",
              "Asymmetrique Profile Score                                                     20.0   \n",
              "I agree to pay the amount through cheque                                         No   \n",
              "A free copy of Mastering The Interview                                          Yes   \n",
              "Last Notable Activity                                                  Email Opened   \n",
              "\n",
              "                                                                                  3  \\\n",
              "Prospect ID                                    0cc2df48-7cf4-4e39-9de9-19797f9b38cc   \n",
              "Lead Number                                                                  660719   \n",
              "Lead Origin                                                 Landing Page Submission   \n",
              "Lead Source                                                          Direct Traffic   \n",
              "Do Not Email                                                                     No   \n",
              "Do Not Call                                                                      No   \n",
              "Converted                                                                         0   \n",
              "TotalVisits                                                                     1.0   \n",
              "Total Time Spent on Website                                                     305   \n",
              "Page Views Per Visit                                                            1.0   \n",
              "Last Activity                                                           Unreachable   \n",
              "Country                                                                       India   \n",
              "Specialization                                                Media and Advertising   \n",
              "How did you hear about X Education                                    Word Of Mouth   \n",
              "What is your current occupation                                          Unemployed   \n",
              "What matters most to you in choosing a course               Better Career Prospects   \n",
              "Search                                                                           No   \n",
              "Magazine                                                                         No   \n",
              "Newspaper Article                                                                No   \n",
              "X Education Forums                                                               No   \n",
              "Newspaper                                                                        No   \n",
              "Digital Advertisement                                                            No   \n",
              "Through Recommendations                                                          No   \n",
              "Receive More Updates About Our Courses                                           No   \n",
              "Tags                                                                        Ringing   \n",
              "Lead Quality                                                               Not Sure   \n",
              "Update me on Supply Chain Content                                                No   \n",
              "Get updates on DM Content                                                        No   \n",
              "Lead Profile                                                                 Select   \n",
              "City                                                                         Mumbai   \n",
              "Asymmetrique Activity Index                                               02.Medium   \n",
              "Asymmetrique Profile Index                                                  01.High   \n",
              "Asymmetrique Activity Score                                                    13.0   \n",
              "Asymmetrique Profile Score                                                     17.0   \n",
              "I agree to pay the amount through cheque                                         No   \n",
              "A free copy of Mastering The Interview                                           No   \n",
              "Last Notable Activity                                                      Modified   \n",
              "\n",
              "                                                                                  4  \n",
              "Prospect ID                                    3256f628-e534-4826-9d63-4a8b88782852  \n",
              "Lead Number                                                                  660681  \n",
              "Lead Origin                                                 Landing Page Submission  \n",
              "Lead Source                                                                  Google  \n",
              "Do Not Email                                                                     No  \n",
              "Do Not Call                                                                      No  \n",
              "Converted                                                                         1  \n",
              "TotalVisits                                                                     2.0  \n",
              "Total Time Spent on Website                                                    1428  \n",
              "Page Views Per Visit                                                            1.0  \n",
              "Last Activity                                                     Converted to Lead  \n",
              "Country                                                                       India  \n",
              "Specialization                                                               Select  \n",
              "How did you hear about X Education                                            Other  \n",
              "What is your current occupation                                          Unemployed  \n",
              "What matters most to you in choosing a course               Better Career Prospects  \n",
              "Search                                                                           No  \n",
              "Magazine                                                                         No  \n",
              "Newspaper Article                                                                No  \n",
              "X Education Forums                                                               No  \n",
              "Newspaper                                                                        No  \n",
              "Digital Advertisement                                                            No  \n",
              "Through Recommendations                                                          No  \n",
              "Receive More Updates About Our Courses                                           No  \n",
              "Tags                                            Will revert after reading the email  \n",
              "Lead Quality                                                               Might be  \n",
              "Update me on Supply Chain Content                                                No  \n",
              "Get updates on DM Content                                                        No  \n",
              "Lead Profile                                                                 Select  \n",
              "City                                                                         Mumbai  \n",
              "Asymmetrique Activity Index                                               02.Medium  \n",
              "Asymmetrique Profile Index                                                  01.High  \n",
              "Asymmetrique Activity Score                                                    15.0  \n",
              "Asymmetrique Profile Score                                                     18.0  \n",
              "I agree to pay the amount through cheque                                         No  \n",
              "A free copy of Mastering The Interview                                           No  \n",
              "Last Notable Activity                                                      Modified  "
            ]
          },
          "execution_count": 391,
          "metadata": {},
          "output_type": "execute_result"
        }
      ],
      "source": [
        "leads.head().T"
      ]
    },
    {
      "cell_type": "markdown",
      "metadata": {
        "id": "55f80688"
      },
      "source": [
        "# Data Cleaning"
      ]
    },
    {
      "cell_type": "code",
      "execution_count": 392,
      "metadata": {
        "colab": {
          "base_uri": "https://localhost:8080/"
        },
        "id": "06053252",
        "outputId": "0d7fdb0f-acbc-433e-b7c0-8b7e2f17dabc"
      },
      "outputs": [
        {
          "data": {
            "text/plain": [
              "9240"
            ]
          },
          "execution_count": 392,
          "metadata": {},
          "output_type": "execute_result"
        }
      ],
      "source": [
        "len(leads)"
      ]
    },
    {
      "cell_type": "markdown",
      "metadata": {
        "id": "62ed8169"
      },
      "source": [
        "The dataset has values of 9240 leads"
      ]
    },
    {
      "cell_type": "code",
      "execution_count": 393,
      "metadata": {
        "colab": {
          "base_uri": "https://localhost:8080/"
        },
        "id": "7afd0285",
        "outputId": "2ce39d1f-31c8-4448-8a49-10a1d86aa67d"
      },
      "outputs": [
        {
          "data": {
            "text/plain": [
              "0"
            ]
          },
          "execution_count": 393,
          "metadata": {},
          "output_type": "execute_result"
        }
      ],
      "source": [
        "leads['Prospect ID'].duplicated().sum()"
      ]
    },
    {
      "cell_type": "markdown",
      "metadata": {
        "id": "9b23bd5d"
      },
      "source": [
        "\n",
        "\n",
        "\n",
        "There are 0 duplicates in our data"
      ]
    },
    {
      "cell_type": "code",
      "execution_count": 394,
      "metadata": {
        "colab": {
          "base_uri": "https://localhost:8080/"
        },
        "id": "55c43b41",
        "outputId": "6289c407-4011-45a1-b353-dbd75b8389fa"
      },
      "outputs": [
        {
          "data": {
            "text/plain": [
              "Prospect ID                                       object\n",
              "Lead Number                                        int64\n",
              "Lead Origin                                       object\n",
              "Lead Source                                       object\n",
              "Do Not Email                                      object\n",
              "Do Not Call                                       object\n",
              "Converted                                          int64\n",
              "TotalVisits                                      float64\n",
              "Total Time Spent on Website                        int64\n",
              "Page Views Per Visit                             float64\n",
              "Last Activity                                     object\n",
              "Country                                           object\n",
              "Specialization                                    object\n",
              "How did you hear about X Education                object\n",
              "What is your current occupation                   object\n",
              "What matters most to you in choosing a course     object\n",
              "Search                                            object\n",
              "Magazine                                          object\n",
              "Newspaper Article                                 object\n",
              "X Education Forums                                object\n",
              "Newspaper                                         object\n",
              "Digital Advertisement                             object\n",
              "Through Recommendations                           object\n",
              "Receive More Updates About Our Courses            object\n",
              "Tags                                              object\n",
              "Lead Quality                                      object\n",
              "Update me on Supply Chain Content                 object\n",
              "Get updates on DM Content                         object\n",
              "Lead Profile                                      object\n",
              "City                                              object\n",
              "Asymmetrique Activity Index                       object\n",
              "Asymmetrique Profile Index                        object\n",
              "Asymmetrique Activity Score                      float64\n",
              "Asymmetrique Profile Score                       float64\n",
              "I agree to pay the amount through cheque          object\n",
              "A free copy of Mastering The Interview            object\n",
              "Last Notable Activity                             object\n",
              "dtype: object"
            ]
          },
          "execution_count": 394,
          "metadata": {},
          "output_type": "execute_result"
        }
      ],
      "source": [
        "leads.dtypes"
      ]
    },
    {
      "cell_type": "markdown",
      "metadata": {
        "id": "53513c26"
      },
      "source": [
        "All parameters have the correct datatype."
      ]
    },
    {
      "cell_type": "code",
      "execution_count": 395,
      "metadata": {
        "colab": {
          "base_uri": "https://localhost:8080/",
          "height": 1000
        },
        "id": "69c7204c",
        "outputId": "4b223242-5834-4aae-8fa3-cc94aea7206a"
      },
      "outputs": [
        {
          "data": {
            "text/html": [
              "<div>\n",
              "<style scoped>\n",
              "    .dataframe tbody tr th:only-of-type {\n",
              "        vertical-align: middle;\n",
              "    }\n",
              "\n",
              "    .dataframe tbody tr th {\n",
              "        vertical-align: top;\n",
              "    }\n",
              "\n",
              "    .dataframe thead th {\n",
              "        text-align: right;\n",
              "    }\n",
              "</style>\n",
              "<table border=\"1\" class=\"dataframe\">\n",
              "  <thead>\n",
              "    <tr style=\"text-align: right;\">\n",
              "      <th></th>\n",
              "      <th>Missing Values</th>\n",
              "    </tr>\n",
              "  </thead>\n",
              "  <tbody>\n",
              "    <tr>\n",
              "      <th>Lead Quality</th>\n",
              "      <td>4767</td>\n",
              "    </tr>\n",
              "    <tr>\n",
              "      <th>Asymmetrique Activity Index</th>\n",
              "      <td>4218</td>\n",
              "    </tr>\n",
              "    <tr>\n",
              "      <th>Asymmetrique Profile Score</th>\n",
              "      <td>4218</td>\n",
              "    </tr>\n",
              "    <tr>\n",
              "      <th>Asymmetrique Activity Score</th>\n",
              "      <td>4218</td>\n",
              "    </tr>\n",
              "    <tr>\n",
              "      <th>Asymmetrique Profile Index</th>\n",
              "      <td>4218</td>\n",
              "    </tr>\n",
              "    <tr>\n",
              "      <th>Tags</th>\n",
              "      <td>3353</td>\n",
              "    </tr>\n",
              "    <tr>\n",
              "      <th>Lead Profile</th>\n",
              "      <td>2709</td>\n",
              "    </tr>\n",
              "    <tr>\n",
              "      <th>What matters most to you in choosing a course</th>\n",
              "      <td>2709</td>\n",
              "    </tr>\n",
              "    <tr>\n",
              "      <th>What is your current occupation</th>\n",
              "      <td>2690</td>\n",
              "    </tr>\n",
              "    <tr>\n",
              "      <th>Country</th>\n",
              "      <td>2461</td>\n",
              "    </tr>\n",
              "    <tr>\n",
              "      <th>How did you hear about X Education</th>\n",
              "      <td>2207</td>\n",
              "    </tr>\n",
              "    <tr>\n",
              "      <th>Specialization</th>\n",
              "      <td>1438</td>\n",
              "    </tr>\n",
              "    <tr>\n",
              "      <th>City</th>\n",
              "      <td>1420</td>\n",
              "    </tr>\n",
              "    <tr>\n",
              "      <th>Page Views Per Visit</th>\n",
              "      <td>137</td>\n",
              "    </tr>\n",
              "    <tr>\n",
              "      <th>TotalVisits</th>\n",
              "      <td>137</td>\n",
              "    </tr>\n",
              "    <tr>\n",
              "      <th>Last Activity</th>\n",
              "      <td>103</td>\n",
              "    </tr>\n",
              "    <tr>\n",
              "      <th>Lead Source</th>\n",
              "      <td>36</td>\n",
              "    </tr>\n",
              "    <tr>\n",
              "      <th>Receive More Updates About Our Courses</th>\n",
              "      <td>0</td>\n",
              "    </tr>\n",
              "    <tr>\n",
              "      <th>I agree to pay the amount through cheque</th>\n",
              "      <td>0</td>\n",
              "    </tr>\n",
              "    <tr>\n",
              "      <th>Get updates on DM Content</th>\n",
              "      <td>0</td>\n",
              "    </tr>\n",
              "    <tr>\n",
              "      <th>Update me on Supply Chain Content</th>\n",
              "      <td>0</td>\n",
              "    </tr>\n",
              "    <tr>\n",
              "      <th>A free copy of Mastering The Interview</th>\n",
              "      <td>0</td>\n",
              "    </tr>\n",
              "    <tr>\n",
              "      <th>Prospect ID</th>\n",
              "      <td>0</td>\n",
              "    </tr>\n",
              "    <tr>\n",
              "      <th>Newspaper Article</th>\n",
              "      <td>0</td>\n",
              "    </tr>\n",
              "    <tr>\n",
              "      <th>Through Recommendations</th>\n",
              "      <td>0</td>\n",
              "    </tr>\n",
              "    <tr>\n",
              "      <th>Digital Advertisement</th>\n",
              "      <td>0</td>\n",
              "    </tr>\n",
              "    <tr>\n",
              "      <th>Newspaper</th>\n",
              "      <td>0</td>\n",
              "    </tr>\n",
              "    <tr>\n",
              "      <th>X Education Forums</th>\n",
              "      <td>0</td>\n",
              "    </tr>\n",
              "    <tr>\n",
              "      <th>Lead Number</th>\n",
              "      <td>0</td>\n",
              "    </tr>\n",
              "    <tr>\n",
              "      <th>Magazine</th>\n",
              "      <td>0</td>\n",
              "    </tr>\n",
              "    <tr>\n",
              "      <th>Search</th>\n",
              "      <td>0</td>\n",
              "    </tr>\n",
              "    <tr>\n",
              "      <th>Total Time Spent on Website</th>\n",
              "      <td>0</td>\n",
              "    </tr>\n",
              "    <tr>\n",
              "      <th>Converted</th>\n",
              "      <td>0</td>\n",
              "    </tr>\n",
              "    <tr>\n",
              "      <th>Do Not Call</th>\n",
              "      <td>0</td>\n",
              "    </tr>\n",
              "    <tr>\n",
              "      <th>Do Not Email</th>\n",
              "      <td>0</td>\n",
              "    </tr>\n",
              "    <tr>\n",
              "      <th>Lead Origin</th>\n",
              "      <td>0</td>\n",
              "    </tr>\n",
              "    <tr>\n",
              "      <th>Last Notable Activity</th>\n",
              "      <td>0</td>\n",
              "    </tr>\n",
              "  </tbody>\n",
              "</table>\n",
              "</div>"
            ],
            "text/plain": [
              "                                               Missing Values\n",
              "Lead Quality                                             4767\n",
              "Asymmetrique Activity Index                              4218\n",
              "Asymmetrique Profile Score                               4218\n",
              "Asymmetrique Activity Score                              4218\n",
              "Asymmetrique Profile Index                               4218\n",
              "Tags                                                     3353\n",
              "Lead Profile                                             2709\n",
              "What matters most to you in choosing a course            2709\n",
              "What is your current occupation                          2690\n",
              "Country                                                  2461\n",
              "How did you hear about X Education                       2207\n",
              "Specialization                                           1438\n",
              "City                                                     1420\n",
              "Page Views Per Visit                                      137\n",
              "TotalVisits                                               137\n",
              "Last Activity                                             103\n",
              "Lead Source                                                36\n",
              "Receive More Updates About Our Courses                      0\n",
              "I agree to pay the amount through cheque                    0\n",
              "Get updates on DM Content                                   0\n",
              "Update me on Supply Chain Content                           0\n",
              "A free copy of Mastering The Interview                      0\n",
              "Prospect ID                                                 0\n",
              "Newspaper Article                                           0\n",
              "Through Recommendations                                     0\n",
              "Digital Advertisement                                       0\n",
              "Newspaper                                                   0\n",
              "X Education Forums                                          0\n",
              "Lead Number                                                 0\n",
              "Magazine                                                    0\n",
              "Search                                                      0\n",
              "Total Time Spent on Website                                 0\n",
              "Converted                                                   0\n",
              "Do Not Call                                                 0\n",
              "Do Not Email                                                0\n",
              "Lead Origin                                                 0\n",
              "Last Notable Activity                                       0"
            ]
          },
          "execution_count": 395,
          "metadata": {},
          "output_type": "execute_result"
        }
      ],
      "source": [
        "leads.isna().sum().to_frame(name='Missing Values').sort_values('Missing Values', ascending=False)"
      ]
    },
    {
      "cell_type": "markdown",
      "metadata": {
        "id": "a0f382c2"
      },
      "source": [
        "If a column has more than 3000 missing values, it is not efficient data. We drop those columns."
      ]
    },
    {
      "cell_type": "code",
      "execution_count": 396,
      "metadata": {
        "id": "22065832"
      },
      "outputs": [],
      "source": [
        "for i in leads.columns:\n",
        "    if leads[i].isna().sum()>3000:\n",
        "        leads.drop(i, axis=1, inplace=True)"
      ]
    },
    {
      "cell_type": "markdown",
      "metadata": {
        "id": "62274441"
      },
      "source": [
        "We check and correct each column."
      ]
    },
    {
      "cell_type": "markdown",
      "metadata": {
        "id": "8dd303fb"
      },
      "source": [
        "1. Lead Source"
      ]
    },
    {
      "cell_type": "code",
      "execution_count": 397,
      "metadata": {
        "colab": {
          "base_uri": "https://localhost:8080/"
        },
        "id": "6a02b291",
        "outputId": "752a9d31-4eb7-4e95-d2a0-c90c6d25b512"
      },
      "outputs": [
        {
          "data": {
            "text/plain": [
              "Lead Source\n",
              "Google               2868\n",
              "Direct Traffic       2543\n",
              "Olark Chat           1755\n",
              "Organic Search       1154\n",
              "Reference             534\n",
              "Welingak Website      142\n",
              "Referral Sites        125\n",
              "Facebook               55\n",
              "bing                    6\n",
              "google                  5\n",
              "Click2call              4\n",
              "Press_Release           2\n",
              "Social Media            2\n",
              "Live Chat               2\n",
              "youtubechannel          1\n",
              "testone                 1\n",
              "Pay per Click Ads       1\n",
              "welearnblog_Home        1\n",
              "WeLearn                 1\n",
              "blog                    1\n",
              "NC_EDM                  1\n",
              "Name: count, dtype: int64"
            ]
          },
          "execution_count": 397,
          "metadata": {},
          "output_type": "execute_result"
        }
      ],
      "source": [
        "leads['Lead Source'].value_counts()"
      ]
    },
    {
      "cell_type": "code",
      "execution_count": 398,
      "metadata": {
        "id": "f253bdd3"
      },
      "outputs": [],
      "source": [
        "leads['Lead Source'].fillna('Google', inplace=True)"
      ]
    },
    {
      "cell_type": "markdown",
      "metadata": {
        "id": "f2ea6a57"
      },
      "source": [
        "In the 'Lead Source' column, we fill missing values with the most frequent one, that is Google"
      ]
    },
    {
      "cell_type": "code",
      "execution_count": 399,
      "metadata": {
        "id": "110977c4"
      },
      "outputs": [],
      "source": [
        "leads['Lead Source'] = leads['Lead Source'].str.replace('google', 'Google')"
      ]
    },
    {
      "cell_type": "markdown",
      "metadata": {
        "id": "d2c07cfd"
      },
      "source": [
        "And also we check and correct if columns name are not written differently."
      ]
    },
    {
      "cell_type": "code",
      "execution_count": 400,
      "metadata": {
        "colab": {
          "base_uri": "https://localhost:8080/"
        },
        "id": "555908f9",
        "outputId": "58dadf4f-2ed7-4306-ec5c-005f6ea34ea7"
      },
      "outputs": [
        {
          "data": {
            "text/plain": [
              "array(['Olark Chat', 'Organic Search', 'Direct Traffic', 'Google',\n",
              "       'Referral Sites', 'Welingak Website', 'Reference', 'Facebook',\n",
              "       'blog', 'Pay per Click Ads', 'bing', 'Social Media', 'WeLearn',\n",
              "       'Click2call', 'Live Chat', 'welearnblog_Home', 'youtubechannel',\n",
              "       'testone', 'Press_Release', 'NC_EDM'], dtype=object)"
            ]
          },
          "execution_count": 400,
          "metadata": {},
          "output_type": "execute_result"
        }
      ],
      "source": [
        "leads['Lead Source'].unique()"
      ]
    },
    {
      "cell_type": "markdown",
      "metadata": {
        "id": "48c6e78c"
      },
      "source": [
        "2. Last Activity"
      ]
    },
    {
      "cell_type": "code",
      "execution_count": 401,
      "metadata": {
        "colab": {
          "base_uri": "https://localhost:8080/"
        },
        "id": "fba9479e",
        "outputId": "d3b2944d-9921-4acb-a35b-6f4e656b0078"
      },
      "outputs": [
        {
          "data": {
            "text/plain": [
              "Last Activity\n",
              "Email Opened                    3437\n",
              "SMS Sent                        2745\n",
              "Olark Chat Conversation          973\n",
              "Page Visited on Website          640\n",
              "Converted to Lead                428\n",
              "Email Bounced                    326\n",
              "Email Link Clicked               267\n",
              "Form Submitted on Website        116\n",
              "Unreachable                       93\n",
              "Unsubscribed                      61\n",
              "Had a Phone Conversation          30\n",
              "Approached upfront                 9\n",
              "View in browser link Clicked       6\n",
              "Email Received                     2\n",
              "Email Marked Spam                  2\n",
              "Visited Booth in Tradeshow         1\n",
              "Resubscribed to emails             1\n",
              "Name: count, dtype: int64"
            ]
          },
          "execution_count": 401,
          "metadata": {},
          "output_type": "execute_result"
        }
      ],
      "source": [
        "leads['Last Activity'].value_counts()"
      ]
    },
    {
      "cell_type": "markdown",
      "metadata": {
        "id": "aca96c9c"
      },
      "source": [
        "If we don't have information about last activity of leads, let's simply fill that rows with \"Other\""
      ]
    },
    {
      "cell_type": "code",
      "execution_count": 402,
      "metadata": {
        "id": "273ecead"
      },
      "outputs": [],
      "source": [
        "leads['Last Activity'].fillna('Other', inplace=True)"
      ]
    },
    {
      "cell_type": "markdown",
      "metadata": {
        "id": "a425e0eb"
      },
      "source": [
        "3. City"
      ]
    },
    {
      "cell_type": "code",
      "execution_count": 403,
      "metadata": {
        "colab": {
          "base_uri": "https://localhost:8080/"
        },
        "id": "e0a62427",
        "outputId": "549e5723-4c94-4342-84de-00ae6b2cbf42"
      },
      "outputs": [
        {
          "data": {
            "text/plain": [
              "City\n",
              "Mumbai                         3222\n",
              "Select                         2249\n",
              "Thane & Outskirts               752\n",
              "Other Cities                    686\n",
              "Other Cities of Maharashtra     457\n",
              "Other Metro Cities              380\n",
              "Tier II Cities                   74\n",
              "Name: count, dtype: int64"
            ]
          },
          "execution_count": 403,
          "metadata": {},
          "output_type": "execute_result"
        }
      ],
      "source": [
        "leads['City'].value_counts()"
      ]
    },
    {
      "cell_type": "markdown",
      "metadata": {
        "id": "71ba1a1a"
      },
      "source": [
        "We see some rows are named \"Select\". Those leads haven'y chosen the city, and we also fill missing values with \"Select\"."
      ]
    },
    {
      "cell_type": "code",
      "execution_count": 404,
      "metadata": {
        "id": "3ca51fee"
      },
      "outputs": [],
      "source": [
        "leads['City'].fillna('Select', inplace=True)"
      ]
    },
    {
      "cell_type": "markdown",
      "metadata": {
        "id": "c83c6263"
      },
      "source": [
        "4. Specialization"
      ]
    },
    {
      "cell_type": "code",
      "execution_count": 405,
      "metadata": {
        "colab": {
          "base_uri": "https://localhost:8080/"
        },
        "id": "fcdf1cc9",
        "outputId": "94860974-c74c-4eb8-9f0e-05ed9acb3af7"
      },
      "outputs": [
        {
          "data": {
            "text/plain": [
              "Specialization\n",
              "Select                               1942\n",
              "Finance Management                    976\n",
              "Human Resource Management             848\n",
              "Marketing Management                  838\n",
              "Operations Management                 503\n",
              "Business Administration               403\n",
              "IT Projects Management                366\n",
              "Supply Chain Management               349\n",
              "Banking, Investment And Insurance     338\n",
              "Travel and Tourism                    203\n",
              "Media and Advertising                 203\n",
              "International Business                178\n",
              "Healthcare Management                 159\n",
              "Hospitality Management                114\n",
              "E-COMMERCE                            112\n",
              "Retail Management                     100\n",
              "Rural and Agribusiness                 73\n",
              "E-Business                             57\n",
              "Services Excellence                    40\n",
              "Name: count, dtype: int64"
            ]
          },
          "execution_count": 405,
          "metadata": {},
          "output_type": "execute_result"
        }
      ],
      "source": [
        "leads['Specialization'].value_counts()"
      ]
    },
    {
      "cell_type": "markdown",
      "metadata": {
        "id": "15465d6c"
      },
      "source": [
        "We see some rows are named \"Select\". Those leads haven'y chosen the specialization, and we also fill missing values with \"Select\"."
      ]
    },
    {
      "cell_type": "code",
      "execution_count": 406,
      "metadata": {
        "id": "93cbf1a9"
      },
      "outputs": [],
      "source": [
        "leads['Specialization'].fillna('Select', inplace=True)"
      ]
    },
    {
      "cell_type": "markdown",
      "metadata": {
        "id": "61f3f53e"
      },
      "source": [
        "5. How did you hear about X Education"
      ]
    },
    {
      "cell_type": "code",
      "execution_count": 407,
      "metadata": {
        "colab": {
          "base_uri": "https://localhost:8080/"
        },
        "id": "5cce205d",
        "outputId": "65ba804b-131c-475d-8947-2cf10e29a6ee"
      },
      "outputs": [
        {
          "data": {
            "text/plain": [
              "How did you hear about X Education\n",
              "Select                   5043\n",
              "Online Search             808\n",
              "Word Of Mouth             348\n",
              "Student of SomeSchool     310\n",
              "Other                     186\n",
              "Multiple Sources          152\n",
              "Advertisements             70\n",
              "Social Media               67\n",
              "Email                      26\n",
              "SMS                        23\n",
              "Name: count, dtype: int64"
            ]
          },
          "execution_count": 407,
          "metadata": {},
          "output_type": "execute_result"
        }
      ],
      "source": [
        "leads['How did you hear about X Education'].value_counts()"
      ]
    },
    {
      "cell_type": "markdown",
      "metadata": {
        "id": "13e70c0a"
      },
      "source": [
        "We see some rows are named \"Select\". Those leads haven'y chosen the How did you hear about X Education, and we also fill missing values with \"Select\"."
      ]
    },
    {
      "cell_type": "code",
      "execution_count": 408,
      "metadata": {
        "id": "9411aed4"
      },
      "outputs": [],
      "source": [
        "leads['How did you hear about X Education'].fillna('Select', inplace=True)"
      ]
    },
    {
      "cell_type": "markdown",
      "metadata": {
        "id": "3f26c9e3"
      },
      "source": [
        "6. Country"
      ]
    },
    {
      "cell_type": "code",
      "execution_count": 409,
      "metadata": {
        "colab": {
          "base_uri": "https://localhost:8080/"
        },
        "id": "7379d98e",
        "outputId": "f2faddfa-f398-4ffa-e356-917d97e07822"
      },
      "outputs": [
        {
          "data": {
            "text/plain": [
              "Country\n",
              "India                   6492\n",
              "United States             69\n",
              "United Arab Emirates      53\n",
              "Singapore                 24\n",
              "Saudi Arabia              21\n",
              "United Kingdom            15\n",
              "Australia                 13\n",
              "Qatar                     10\n",
              "Hong Kong                  7\n",
              "Bahrain                    7\n",
              "Oman                       6\n",
              "France                     6\n",
              "unknown                    5\n",
              "South Africa               4\n",
              "Nigeria                    4\n",
              "Germany                    4\n",
              "Kuwait                     4\n",
              "Canada                     4\n",
              "Sweden                     3\n",
              "China                      2\n",
              "Asia/Pacific Region        2\n",
              "Uganda                     2\n",
              "Bangladesh                 2\n",
              "Italy                      2\n",
              "Belgium                    2\n",
              "Netherlands                2\n",
              "Ghana                      2\n",
              "Philippines                2\n",
              "Russia                     1\n",
              "Switzerland                1\n",
              "Vietnam                    1\n",
              "Denmark                    1\n",
              "Tanzania                   1\n",
              "Liberia                    1\n",
              "Malaysia                   1\n",
              "Kenya                      1\n",
              "Sri Lanka                  1\n",
              "Indonesia                  1\n",
              "Name: count, dtype: int64"
            ]
          },
          "execution_count": 409,
          "metadata": {},
          "output_type": "execute_result"
        }
      ],
      "source": [
        "leads['Country'].value_counts()"
      ]
    },
    {
      "cell_type": "code",
      "execution_count": 410,
      "metadata": {
        "colab": {
          "base_uri": "https://localhost:8080/"
        },
        "id": "985ac417",
        "outputId": "fb5e6488-69ef-44dc-bccb-3edfc08e9830"
      },
      "outputs": [
        {
          "data": {
            "text/plain": [
              "array(['Select', 'Thane & Outskirts', 'Other Cities of Maharashtra',\n",
              "       'Mumbai', 'Other Cities', 'Other Metro Cities', 'Tier II Cities'],\n",
              "      dtype=object)"
            ]
          },
          "execution_count": 410,
          "metadata": {},
          "output_type": "execute_result"
        }
      ],
      "source": [
        "leads[(leads['Country'].isna())&(leads['City'].isna()==False)]['City'].unique()"
      ]
    },
    {
      "cell_type": "markdown",
      "metadata": {
        "id": "6510cf4f"
      },
      "source": [
        "We check what values city column have when Country column's variables are missing."
      ]
    },
    {
      "cell_type": "code",
      "execution_count": 411,
      "metadata": {
        "id": "4022c239"
      },
      "outputs": [],
      "source": [
        "leads.loc[(leads['Country'].isna())&(leads['City']=='Mumbai'), 'Country'] = 'India'\n",
        "leads.loc[(leads['Country'].isna())&(leads['City']=='Other Cities of Maharashtra'), 'Country'] = 'India'\n",
        "leads['Country'].fillna('unknown', inplace=True)"
      ]
    },
    {
      "cell_type": "markdown",
      "metadata": {
        "id": "bb349fd1"
      },
      "source": [
        "Mumbai and Maharashtra are in India, we can fill that missing rows with India. But for rest we will fill with \"unknown\"."
      ]
    },
    {
      "cell_type": "markdown",
      "metadata": {
        "id": "403ae4b3"
      },
      "source": [
        "7. What is your current occupation"
      ]
    },
    {
      "cell_type": "code",
      "execution_count": 412,
      "metadata": {
        "colab": {
          "base_uri": "https://localhost:8080/"
        },
        "id": "a48ad0b9",
        "outputId": "771dc8aa-ca96-45f7-d9a1-406e7c09c75c"
      },
      "outputs": [
        {
          "data": {
            "text/plain": [
              "What is your current occupation\n",
              "Unemployed              5600\n",
              "Working Professional     706\n",
              "Student                  210\n",
              "Other                     16\n",
              "Housewife                 10\n",
              "Businessman                8\n",
              "Name: count, dtype: int64"
            ]
          },
          "execution_count": 412,
          "metadata": {},
          "output_type": "execute_result"
        }
      ],
      "source": [
        "leads['What is your current occupation'].value_counts()"
      ]
    },
    {
      "cell_type": "code",
      "execution_count": 413,
      "metadata": {
        "id": "1a6b97bc"
      },
      "outputs": [],
      "source": [
        "leads['What is your current occupation'].fillna('Other', inplace=True)"
      ]
    },
    {
      "cell_type": "markdown",
      "metadata": {
        "id": "fe483b47"
      },
      "source": [
        "8. Lead Profile"
      ]
    },
    {
      "cell_type": "code",
      "execution_count": 414,
      "metadata": {
        "colab": {
          "base_uri": "https://localhost:8080/"
        },
        "id": "a68f337f",
        "outputId": "1a59424c-0a77-49c5-ec14-81b8a99bd313"
      },
      "outputs": [
        {
          "data": {
            "text/plain": [
              "Lead Profile\n",
              "Select                         4146\n",
              "Potential Lead                 1613\n",
              "Other Leads                     487\n",
              "Student of SomeSchool           241\n",
              "Lateral Student                  24\n",
              "Dual Specialization Student      20\n",
              "Name: count, dtype: int64"
            ]
          },
          "execution_count": 414,
          "metadata": {},
          "output_type": "execute_result"
        }
      ],
      "source": [
        "leads['Lead Profile'].value_counts()"
      ]
    },
    {
      "cell_type": "code",
      "execution_count": 415,
      "metadata": {
        "id": "844db136"
      },
      "outputs": [],
      "source": [
        "leads['Lead Profile'].fillna('Select', inplace=True)"
      ]
    },
    {
      "cell_type": "markdown",
      "metadata": {
        "id": "7b1a2af9"
      },
      "source": [
        "9. What matters most to you in choosing a course"
      ]
    },
    {
      "cell_type": "code",
      "execution_count": 416,
      "metadata": {
        "colab": {
          "base_uri": "https://localhost:8080/"
        },
        "id": "025b6f50",
        "outputId": "9f69cced-adb8-4e6b-a83b-3967916d3052"
      },
      "outputs": [
        {
          "data": {
            "text/plain": [
              "What matters most to you in choosing a course\n",
              "Better Career Prospects      6528\n",
              "Flexibility & Convenience       2\n",
              "Other                           1\n",
              "Name: count, dtype: int64"
            ]
          },
          "execution_count": 416,
          "metadata": {},
          "output_type": "execute_result"
        }
      ],
      "source": [
        "leads['What matters most to you in choosing a course'].value_counts()"
      ]
    },
    {
      "cell_type": "code",
      "execution_count": 417,
      "metadata": {
        "id": "68cec527"
      },
      "outputs": [],
      "source": [
        "leads['What matters most to you in choosing a course'].fillna('Other', inplace=True)"
      ]
    },
    {
      "cell_type": "markdown",
      "metadata": {
        "id": "b7bd4b4b"
      },
      "source": [
        "10. TotalVisits"
      ]
    },
    {
      "cell_type": "code",
      "execution_count": 418,
      "metadata": {
        "colab": {
          "base_uri": "https://localhost:8080/",
          "height": 300
        },
        "id": "e49d94a5",
        "outputId": "5d5c1a4a-2b1e-4e25-ec42-80a621ac55e3"
      },
      "outputs": [
        {
          "data": {
            "text/html": [
              "<div>\n",
              "<style scoped>\n",
              "    .dataframe tbody tr th:only-of-type {\n",
              "        vertical-align: middle;\n",
              "    }\n",
              "\n",
              "    .dataframe tbody tr th {\n",
              "        vertical-align: top;\n",
              "    }\n",
              "\n",
              "    .dataframe thead th {\n",
              "        text-align: right;\n",
              "    }\n",
              "</style>\n",
              "<table border=\"1\" class=\"dataframe\">\n",
              "  <thead>\n",
              "    <tr style=\"text-align: right;\">\n",
              "      <th></th>\n",
              "      <th>Lead Number</th>\n",
              "      <th>Converted</th>\n",
              "      <th>TotalVisits</th>\n",
              "      <th>Total Time Spent on Website</th>\n",
              "      <th>Page Views Per Visit</th>\n",
              "    </tr>\n",
              "  </thead>\n",
              "  <tbody>\n",
              "    <tr>\n",
              "      <th>count</th>\n",
              "      <td>9240.000000</td>\n",
              "      <td>9240.000000</td>\n",
              "      <td>9103.000000</td>\n",
              "      <td>9240.000000</td>\n",
              "      <td>9103.000000</td>\n",
              "    </tr>\n",
              "    <tr>\n",
              "      <th>mean</th>\n",
              "      <td>617188.435606</td>\n",
              "      <td>0.385390</td>\n",
              "      <td>3.445238</td>\n",
              "      <td>487.698268</td>\n",
              "      <td>2.362820</td>\n",
              "    </tr>\n",
              "    <tr>\n",
              "      <th>std</th>\n",
              "      <td>23405.995698</td>\n",
              "      <td>0.486714</td>\n",
              "      <td>4.854853</td>\n",
              "      <td>548.021466</td>\n",
              "      <td>2.161418</td>\n",
              "    </tr>\n",
              "    <tr>\n",
              "      <th>min</th>\n",
              "      <td>579533.000000</td>\n",
              "      <td>0.000000</td>\n",
              "      <td>0.000000</td>\n",
              "      <td>0.000000</td>\n",
              "      <td>0.000000</td>\n",
              "    </tr>\n",
              "    <tr>\n",
              "      <th>25%</th>\n",
              "      <td>596484.500000</td>\n",
              "      <td>0.000000</td>\n",
              "      <td>1.000000</td>\n",
              "      <td>12.000000</td>\n",
              "      <td>1.000000</td>\n",
              "    </tr>\n",
              "    <tr>\n",
              "      <th>50%</th>\n",
              "      <td>615479.000000</td>\n",
              "      <td>0.000000</td>\n",
              "      <td>3.000000</td>\n",
              "      <td>248.000000</td>\n",
              "      <td>2.000000</td>\n",
              "    </tr>\n",
              "    <tr>\n",
              "      <th>75%</th>\n",
              "      <td>637387.250000</td>\n",
              "      <td>1.000000</td>\n",
              "      <td>5.000000</td>\n",
              "      <td>936.000000</td>\n",
              "      <td>3.000000</td>\n",
              "    </tr>\n",
              "    <tr>\n",
              "      <th>max</th>\n",
              "      <td>660737.000000</td>\n",
              "      <td>1.000000</td>\n",
              "      <td>251.000000</td>\n",
              "      <td>2272.000000</td>\n",
              "      <td>55.000000</td>\n",
              "    </tr>\n",
              "  </tbody>\n",
              "</table>\n",
              "</div>"
            ],
            "text/plain": [
              "         Lead Number    Converted  TotalVisits  Total Time Spent on Website  \\\n",
              "count    9240.000000  9240.000000  9103.000000                  9240.000000   \n",
              "mean   617188.435606     0.385390     3.445238                   487.698268   \n",
              "std     23405.995698     0.486714     4.854853                   548.021466   \n",
              "min    579533.000000     0.000000     0.000000                     0.000000   \n",
              "25%    596484.500000     0.000000     1.000000                    12.000000   \n",
              "50%    615479.000000     0.000000     3.000000                   248.000000   \n",
              "75%    637387.250000     1.000000     5.000000                   936.000000   \n",
              "max    660737.000000     1.000000   251.000000                  2272.000000   \n",
              "\n",
              "       Page Views Per Visit  \n",
              "count           9103.000000  \n",
              "mean               2.362820  \n",
              "std                2.161418  \n",
              "min                0.000000  \n",
              "25%                1.000000  \n",
              "50%                2.000000  \n",
              "75%                3.000000  \n",
              "max               55.000000  "
            ]
          },
          "execution_count": 418,
          "metadata": {},
          "output_type": "execute_result"
        }
      ],
      "source": [
        "leads.describe()"
      ]
    },
    {
      "cell_type": "code",
      "execution_count": 419,
      "metadata": {
        "id": "8c965dd6"
      },
      "outputs": [],
      "source": [
        "leads['TotalVisits'].fillna(3, inplace=True)"
      ]
    },
    {
      "cell_type": "markdown",
      "metadata": {
        "id": "0bb21ad9"
      },
      "source": [
        "11. Page Views Per Visit"
      ]
    },
    {
      "cell_type": "code",
      "execution_count": 420,
      "metadata": {
        "id": "8aa75b46"
      },
      "outputs": [],
      "source": [
        "leads['Page Views Per Visit'].fillna(2, inplace=True)"
      ]
    },
    {
      "cell_type": "code",
      "execution_count": 421,
      "metadata": {
        "colab": {
          "base_uri": "https://localhost:8080/",
          "height": 904
        },
        "id": "P6CAXCy3vRw8",
        "outputId": "7a5f51cb-07d4-4752-8fc8-f603d59f7808"
      },
      "outputs": [
        {
          "data": {
            "text/html": [
              "<div>\n",
              "<style scoped>\n",
              "    .dataframe tbody tr th:only-of-type {\n",
              "        vertical-align: middle;\n",
              "    }\n",
              "\n",
              "    .dataframe tbody tr th {\n",
              "        vertical-align: top;\n",
              "    }\n",
              "\n",
              "    .dataframe thead th {\n",
              "        text-align: right;\n",
              "    }\n",
              "</style>\n",
              "<table border=\"1\" class=\"dataframe\">\n",
              "  <thead>\n",
              "    <tr style=\"text-align: right;\">\n",
              "      <th></th>\n",
              "      <th>Lead Origin</th>\n",
              "      <th>Lead Source</th>\n",
              "      <th>Do Not Email</th>\n",
              "      <th>Do Not Call</th>\n",
              "      <th>Converted</th>\n",
              "      <th>TotalVisits</th>\n",
              "      <th>Total Time Spent on Website</th>\n",
              "      <th>Page Views Per Visit</th>\n",
              "      <th>Last Activity</th>\n",
              "      <th>Country</th>\n",
              "      <th>...</th>\n",
              "      <th>Digital Advertisement</th>\n",
              "      <th>Through Recommendations</th>\n",
              "      <th>Receive More Updates About Our Courses</th>\n",
              "      <th>Update me on Supply Chain Content</th>\n",
              "      <th>Get updates on DM Content</th>\n",
              "      <th>Lead Profile</th>\n",
              "      <th>City</th>\n",
              "      <th>I agree to pay the amount through cheque</th>\n",
              "      <th>A free copy of Mastering The Interview</th>\n",
              "      <th>Last Notable Activity</th>\n",
              "    </tr>\n",
              "  </thead>\n",
              "  <tbody>\n",
              "    <tr>\n",
              "      <th>0</th>\n",
              "      <td>API</td>\n",
              "      <td>Olark Chat</td>\n",
              "      <td>No</td>\n",
              "      <td>No</td>\n",
              "      <td>0</td>\n",
              "      <td>0.0</td>\n",
              "      <td>0</td>\n",
              "      <td>0.00</td>\n",
              "      <td>Page Visited on Website</td>\n",
              "      <td>unknown</td>\n",
              "      <td>...</td>\n",
              "      <td>No</td>\n",
              "      <td>No</td>\n",
              "      <td>No</td>\n",
              "      <td>No</td>\n",
              "      <td>No</td>\n",
              "      <td>Select</td>\n",
              "      <td>Select</td>\n",
              "      <td>No</td>\n",
              "      <td>No</td>\n",
              "      <td>Modified</td>\n",
              "    </tr>\n",
              "    <tr>\n",
              "      <th>1</th>\n",
              "      <td>API</td>\n",
              "      <td>Organic Search</td>\n",
              "      <td>No</td>\n",
              "      <td>No</td>\n",
              "      <td>0</td>\n",
              "      <td>5.0</td>\n",
              "      <td>674</td>\n",
              "      <td>2.50</td>\n",
              "      <td>Email Opened</td>\n",
              "      <td>India</td>\n",
              "      <td>...</td>\n",
              "      <td>No</td>\n",
              "      <td>No</td>\n",
              "      <td>No</td>\n",
              "      <td>No</td>\n",
              "      <td>No</td>\n",
              "      <td>Select</td>\n",
              "      <td>Select</td>\n",
              "      <td>No</td>\n",
              "      <td>No</td>\n",
              "      <td>Email Opened</td>\n",
              "    </tr>\n",
              "    <tr>\n",
              "      <th>2</th>\n",
              "      <td>Landing Page Submission</td>\n",
              "      <td>Direct Traffic</td>\n",
              "      <td>No</td>\n",
              "      <td>No</td>\n",
              "      <td>1</td>\n",
              "      <td>2.0</td>\n",
              "      <td>1532</td>\n",
              "      <td>2.00</td>\n",
              "      <td>Email Opened</td>\n",
              "      <td>India</td>\n",
              "      <td>...</td>\n",
              "      <td>No</td>\n",
              "      <td>No</td>\n",
              "      <td>No</td>\n",
              "      <td>No</td>\n",
              "      <td>No</td>\n",
              "      <td>Potential Lead</td>\n",
              "      <td>Mumbai</td>\n",
              "      <td>No</td>\n",
              "      <td>Yes</td>\n",
              "      <td>Email Opened</td>\n",
              "    </tr>\n",
              "    <tr>\n",
              "      <th>3</th>\n",
              "      <td>Landing Page Submission</td>\n",
              "      <td>Direct Traffic</td>\n",
              "      <td>No</td>\n",
              "      <td>No</td>\n",
              "      <td>0</td>\n",
              "      <td>1.0</td>\n",
              "      <td>305</td>\n",
              "      <td>1.00</td>\n",
              "      <td>Unreachable</td>\n",
              "      <td>India</td>\n",
              "      <td>...</td>\n",
              "      <td>No</td>\n",
              "      <td>No</td>\n",
              "      <td>No</td>\n",
              "      <td>No</td>\n",
              "      <td>No</td>\n",
              "      <td>Select</td>\n",
              "      <td>Mumbai</td>\n",
              "      <td>No</td>\n",
              "      <td>No</td>\n",
              "      <td>Modified</td>\n",
              "    </tr>\n",
              "    <tr>\n",
              "      <th>4</th>\n",
              "      <td>Landing Page Submission</td>\n",
              "      <td>Google</td>\n",
              "      <td>No</td>\n",
              "      <td>No</td>\n",
              "      <td>1</td>\n",
              "      <td>2.0</td>\n",
              "      <td>1428</td>\n",
              "      <td>1.00</td>\n",
              "      <td>Converted to Lead</td>\n",
              "      <td>India</td>\n",
              "      <td>...</td>\n",
              "      <td>No</td>\n",
              "      <td>No</td>\n",
              "      <td>No</td>\n",
              "      <td>No</td>\n",
              "      <td>No</td>\n",
              "      <td>Select</td>\n",
              "      <td>Mumbai</td>\n",
              "      <td>No</td>\n",
              "      <td>No</td>\n",
              "      <td>Modified</td>\n",
              "    </tr>\n",
              "    <tr>\n",
              "      <th>...</th>\n",
              "      <td>...</td>\n",
              "      <td>...</td>\n",
              "      <td>...</td>\n",
              "      <td>...</td>\n",
              "      <td>...</td>\n",
              "      <td>...</td>\n",
              "      <td>...</td>\n",
              "      <td>...</td>\n",
              "      <td>...</td>\n",
              "      <td>...</td>\n",
              "      <td>...</td>\n",
              "      <td>...</td>\n",
              "      <td>...</td>\n",
              "      <td>...</td>\n",
              "      <td>...</td>\n",
              "      <td>...</td>\n",
              "      <td>...</td>\n",
              "      <td>...</td>\n",
              "      <td>...</td>\n",
              "      <td>...</td>\n",
              "      <td>...</td>\n",
              "    </tr>\n",
              "    <tr>\n",
              "      <th>9235</th>\n",
              "      <td>Landing Page Submission</td>\n",
              "      <td>Direct Traffic</td>\n",
              "      <td>Yes</td>\n",
              "      <td>No</td>\n",
              "      <td>1</td>\n",
              "      <td>8.0</td>\n",
              "      <td>1845</td>\n",
              "      <td>2.67</td>\n",
              "      <td>Email Marked Spam</td>\n",
              "      <td>Saudi Arabia</td>\n",
              "      <td>...</td>\n",
              "      <td>No</td>\n",
              "      <td>No</td>\n",
              "      <td>No</td>\n",
              "      <td>No</td>\n",
              "      <td>No</td>\n",
              "      <td>Potential Lead</td>\n",
              "      <td>Mumbai</td>\n",
              "      <td>No</td>\n",
              "      <td>No</td>\n",
              "      <td>Email Marked Spam</td>\n",
              "    </tr>\n",
              "    <tr>\n",
              "      <th>9236</th>\n",
              "      <td>Landing Page Submission</td>\n",
              "      <td>Direct Traffic</td>\n",
              "      <td>No</td>\n",
              "      <td>No</td>\n",
              "      <td>0</td>\n",
              "      <td>2.0</td>\n",
              "      <td>238</td>\n",
              "      <td>2.00</td>\n",
              "      <td>SMS Sent</td>\n",
              "      <td>India</td>\n",
              "      <td>...</td>\n",
              "      <td>No</td>\n",
              "      <td>No</td>\n",
              "      <td>No</td>\n",
              "      <td>No</td>\n",
              "      <td>No</td>\n",
              "      <td>Potential Lead</td>\n",
              "      <td>Mumbai</td>\n",
              "      <td>No</td>\n",
              "      <td>Yes</td>\n",
              "      <td>SMS Sent</td>\n",
              "    </tr>\n",
              "    <tr>\n",
              "      <th>9237</th>\n",
              "      <td>Landing Page Submission</td>\n",
              "      <td>Direct Traffic</td>\n",
              "      <td>Yes</td>\n",
              "      <td>No</td>\n",
              "      <td>0</td>\n",
              "      <td>2.0</td>\n",
              "      <td>199</td>\n",
              "      <td>2.00</td>\n",
              "      <td>SMS Sent</td>\n",
              "      <td>India</td>\n",
              "      <td>...</td>\n",
              "      <td>No</td>\n",
              "      <td>No</td>\n",
              "      <td>No</td>\n",
              "      <td>No</td>\n",
              "      <td>No</td>\n",
              "      <td>Potential Lead</td>\n",
              "      <td>Mumbai</td>\n",
              "      <td>No</td>\n",
              "      <td>Yes</td>\n",
              "      <td>SMS Sent</td>\n",
              "    </tr>\n",
              "    <tr>\n",
              "      <th>9238</th>\n",
              "      <td>Landing Page Submission</td>\n",
              "      <td>Google</td>\n",
              "      <td>No</td>\n",
              "      <td>No</td>\n",
              "      <td>1</td>\n",
              "      <td>3.0</td>\n",
              "      <td>499</td>\n",
              "      <td>3.00</td>\n",
              "      <td>SMS Sent</td>\n",
              "      <td>India</td>\n",
              "      <td>...</td>\n",
              "      <td>No</td>\n",
              "      <td>No</td>\n",
              "      <td>No</td>\n",
              "      <td>No</td>\n",
              "      <td>No</td>\n",
              "      <td>Select</td>\n",
              "      <td>Other Metro Cities</td>\n",
              "      <td>No</td>\n",
              "      <td>No</td>\n",
              "      <td>SMS Sent</td>\n",
              "    </tr>\n",
              "    <tr>\n",
              "      <th>9239</th>\n",
              "      <td>Landing Page Submission</td>\n",
              "      <td>Direct Traffic</td>\n",
              "      <td>No</td>\n",
              "      <td>No</td>\n",
              "      <td>1</td>\n",
              "      <td>6.0</td>\n",
              "      <td>1279</td>\n",
              "      <td>3.00</td>\n",
              "      <td>SMS Sent</td>\n",
              "      <td>Bangladesh</td>\n",
              "      <td>...</td>\n",
              "      <td>No</td>\n",
              "      <td>No</td>\n",
              "      <td>No</td>\n",
              "      <td>No</td>\n",
              "      <td>No</td>\n",
              "      <td>Potential Lead</td>\n",
              "      <td>Other Cities</td>\n",
              "      <td>No</td>\n",
              "      <td>Yes</td>\n",
              "      <td>Modified</td>\n",
              "    </tr>\n",
              "  </tbody>\n",
              "</table>\n",
              "<p>9240 rows × 29 columns</p>\n",
              "</div>"
            ],
            "text/plain": [
              "                  Lead Origin     Lead Source Do Not Email Do Not Call  \\\n",
              "0                         API      Olark Chat           No          No   \n",
              "1                         API  Organic Search           No          No   \n",
              "2     Landing Page Submission  Direct Traffic           No          No   \n",
              "3     Landing Page Submission  Direct Traffic           No          No   \n",
              "4     Landing Page Submission          Google           No          No   \n",
              "...                       ...             ...          ...         ...   \n",
              "9235  Landing Page Submission  Direct Traffic          Yes          No   \n",
              "9236  Landing Page Submission  Direct Traffic           No          No   \n",
              "9237  Landing Page Submission  Direct Traffic          Yes          No   \n",
              "9238  Landing Page Submission          Google           No          No   \n",
              "9239  Landing Page Submission  Direct Traffic           No          No   \n",
              "\n",
              "      Converted  TotalVisits  Total Time Spent on Website  \\\n",
              "0             0          0.0                            0   \n",
              "1             0          5.0                          674   \n",
              "2             1          2.0                         1532   \n",
              "3             0          1.0                          305   \n",
              "4             1          2.0                         1428   \n",
              "...         ...          ...                          ...   \n",
              "9235          1          8.0                         1845   \n",
              "9236          0          2.0                          238   \n",
              "9237          0          2.0                          199   \n",
              "9238          1          3.0                          499   \n",
              "9239          1          6.0                         1279   \n",
              "\n",
              "      Page Views Per Visit            Last Activity       Country  ...  \\\n",
              "0                     0.00  Page Visited on Website       unknown  ...   \n",
              "1                     2.50             Email Opened         India  ...   \n",
              "2                     2.00             Email Opened         India  ...   \n",
              "3                     1.00              Unreachable         India  ...   \n",
              "4                     1.00        Converted to Lead         India  ...   \n",
              "...                    ...                      ...           ...  ...   \n",
              "9235                  2.67        Email Marked Spam  Saudi Arabia  ...   \n",
              "9236                  2.00                 SMS Sent         India  ...   \n",
              "9237                  2.00                 SMS Sent         India  ...   \n",
              "9238                  3.00                 SMS Sent         India  ...   \n",
              "9239                  3.00                 SMS Sent    Bangladesh  ...   \n",
              "\n",
              "     Digital Advertisement Through Recommendations  \\\n",
              "0                       No                      No   \n",
              "1                       No                      No   \n",
              "2                       No                      No   \n",
              "3                       No                      No   \n",
              "4                       No                      No   \n",
              "...                    ...                     ...   \n",
              "9235                    No                      No   \n",
              "9236                    No                      No   \n",
              "9237                    No                      No   \n",
              "9238                    No                      No   \n",
              "9239                    No                      No   \n",
              "\n",
              "     Receive More Updates About Our Courses Update me on Supply Chain Content  \\\n",
              "0                                        No                                No   \n",
              "1                                        No                                No   \n",
              "2                                        No                                No   \n",
              "3                                        No                                No   \n",
              "4                                        No                                No   \n",
              "...                                     ...                               ...   \n",
              "9235                                     No                                No   \n",
              "9236                                     No                                No   \n",
              "9237                                     No                                No   \n",
              "9238                                     No                                No   \n",
              "9239                                     No                                No   \n",
              "\n",
              "     Get updates on DM Content    Lead Profile                City  \\\n",
              "0                           No          Select              Select   \n",
              "1                           No          Select              Select   \n",
              "2                           No  Potential Lead              Mumbai   \n",
              "3                           No          Select              Mumbai   \n",
              "4                           No          Select              Mumbai   \n",
              "...                        ...             ...                 ...   \n",
              "9235                        No  Potential Lead              Mumbai   \n",
              "9236                        No  Potential Lead              Mumbai   \n",
              "9237                        No  Potential Lead              Mumbai   \n",
              "9238                        No          Select  Other Metro Cities   \n",
              "9239                        No  Potential Lead        Other Cities   \n",
              "\n",
              "     I agree to pay the amount through cheque  \\\n",
              "0                                          No   \n",
              "1                                          No   \n",
              "2                                          No   \n",
              "3                                          No   \n",
              "4                                          No   \n",
              "...                                       ...   \n",
              "9235                                       No   \n",
              "9236                                       No   \n",
              "9237                                       No   \n",
              "9238                                       No   \n",
              "9239                                       No   \n",
              "\n",
              "     A free copy of Mastering The Interview Last Notable Activity  \n",
              "0                                        No              Modified  \n",
              "1                                        No          Email Opened  \n",
              "2                                       Yes          Email Opened  \n",
              "3                                        No              Modified  \n",
              "4                                        No              Modified  \n",
              "...                                     ...                   ...  \n",
              "9235                                     No     Email Marked Spam  \n",
              "9236                                    Yes              SMS Sent  \n",
              "9237                                    Yes              SMS Sent  \n",
              "9238                                     No              SMS Sent  \n",
              "9239                                    Yes              Modified  \n",
              "\n",
              "[9240 rows x 29 columns]"
            ]
          },
          "execution_count": 421,
          "metadata": {},
          "output_type": "execute_result"
        }
      ],
      "source": [
        "leads.drop(['Lead Number', 'Prospect ID'], axis = 1)"
      ]
    },
    {
      "cell_type": "markdown",
      "metadata": {
        "id": "aeb30cc1"
      },
      "source": [
        "Let's make all column names follow the same nameing convention"
      ]
    },
    {
      "cell_type": "code",
      "execution_count": 422,
      "metadata": {
        "id": "9fcc1675"
      },
      "outputs": [],
      "source": [
        "leads.columns = leads.columns.str.lower().str.replace(' ','_')\n",
        "string_columns = list(leads.dtypes[leads.dtypes=='Object'].index)\n",
        "\n",
        "for col in string_columns:\n",
        "    leads[col] = leads[col].str.lower().str.replace(' ', '_')"
      ]
    },
    {
      "cell_type": "markdown",
      "metadata": {
        "id": "ec533a89"
      },
      "source": [
        "Split our data into train and test datasets"
      ]
    },
    {
      "cell_type": "code",
      "execution_count": 423,
      "metadata": {
        "id": "f68d7ab2"
      },
      "outputs": [],
      "source": [
        "from sklearn.model_selection import train_test_split"
      ]
    },
    {
      "cell_type": "code",
      "execution_count": 424,
      "metadata": {
        "id": "4e54432d"
      },
      "outputs": [],
      "source": [
        "train_full, test_X = train_test_split(leads, test_size=0.2, random_state=1)"
      ]
    },
    {
      "cell_type": "code",
      "execution_count": 425,
      "metadata": {
        "id": "eac0ce84"
      },
      "outputs": [],
      "source": [
        "train_X, val_X = train_test_split(train_full, test_size=0.2, random_state=1)"
      ]
    },
    {
      "cell_type": "code",
      "execution_count": 426,
      "metadata": {
        "id": "98ac33a7"
      },
      "outputs": [],
      "source": [
        "train_y = train_X['converted'].values.reshape(-1,1)\n",
        "val_y = val_X['converted'].values.reshape(-1,1)\n",
        "test_y = test_X['converted'].values.reshape(-1,1)"
      ]
    },
    {
      "cell_type": "code",
      "execution_count": 427,
      "metadata": {
        "colab": {
          "base_uri": "https://localhost:8080/"
        },
        "id": "caa83fe2",
        "outputId": "7c4dd39b-c96b-4d16-a538-f13b5ae3bdbb"
      },
      "outputs": [
        {
          "name": "stdout",
          "output_type": "stream",
          "text": [
            "5913\n",
            "1479\n",
            "1848\n"
          ]
        }
      ],
      "source": [
        "print(f'{len(train_y)}\\n{len(val_y)}\\n{len(test_y)}')"
      ]
    },
    {
      "cell_type": "markdown",
      "metadata": {
        "id": "ea181a3e"
      },
      "source": [
        "# Dividing the Data"
      ]
    },
    {
      "cell_type": "markdown",
      "metadata": {
        "id": "db148971"
      },
      "source": [
        "Let's make two lists: categorical, containing names of categorical variables and numerical, containing names of numerical variables"
      ]
    },
    {
      "cell_type": "code",
      "execution_count": 428,
      "metadata": {
        "id": "4bedce85"
      },
      "outputs": [],
      "source": [
        "categorical_df = leads.select_dtypes(include='object')\n",
        "categorical_df.drop(['prospect_id'], axis=1, inplace=True)\n",
        "categorical = list(categorical_df.columns)\n",
        "\n",
        "numerical_df = leads.select_dtypes(exclude='object')\n",
        "numerical_df.drop(['lead_number', 'converted'], axis=1, inplace=True)\n",
        "numerical = list(numerical_df)"
      ]
    },
    {
      "cell_type": "code",
      "execution_count": 429,
      "metadata": {
        "colab": {
          "base_uri": "https://localhost:8080/",
          "height": 833
        },
        "id": "1bda2cec",
        "outputId": "c77011ef-7ac2-4f1e-efa8-6e28a085ae65"
      },
      "outputs": [
        {
          "data": {
            "text/html": [
              "<div>\n",
              "<style scoped>\n",
              "    .dataframe tbody tr th:only-of-type {\n",
              "        vertical-align: middle;\n",
              "    }\n",
              "\n",
              "    .dataframe tbody tr th {\n",
              "        vertical-align: top;\n",
              "    }\n",
              "\n",
              "    .dataframe thead th {\n",
              "        text-align: right;\n",
              "    }\n",
              "</style>\n",
              "<table border=\"1\" class=\"dataframe\">\n",
              "  <thead>\n",
              "    <tr style=\"text-align: right;\">\n",
              "      <th></th>\n",
              "      <th>nunique</th>\n",
              "    </tr>\n",
              "  </thead>\n",
              "  <tbody>\n",
              "    <tr>\n",
              "      <th>country</th>\n",
              "      <td>35</td>\n",
              "    </tr>\n",
              "    <tr>\n",
              "      <th>lead_source</th>\n",
              "      <td>19</td>\n",
              "    </tr>\n",
              "    <tr>\n",
              "      <th>specialization</th>\n",
              "      <td>19</td>\n",
              "    </tr>\n",
              "    <tr>\n",
              "      <th>last_activity</th>\n",
              "      <td>17</td>\n",
              "    </tr>\n",
              "    <tr>\n",
              "      <th>last_notable_activity</th>\n",
              "      <td>15</td>\n",
              "    </tr>\n",
              "    <tr>\n",
              "      <th>how_did_you_hear_about_x_education</th>\n",
              "      <td>10</td>\n",
              "    </tr>\n",
              "    <tr>\n",
              "      <th>city</th>\n",
              "      <td>7</td>\n",
              "    </tr>\n",
              "    <tr>\n",
              "      <th>lead_profile</th>\n",
              "      <td>6</td>\n",
              "    </tr>\n",
              "    <tr>\n",
              "      <th>what_is_your_current_occupation</th>\n",
              "      <td>6</td>\n",
              "    </tr>\n",
              "    <tr>\n",
              "      <th>lead_origin</th>\n",
              "      <td>5</td>\n",
              "    </tr>\n",
              "    <tr>\n",
              "      <th>search</th>\n",
              "      <td>2</td>\n",
              "    </tr>\n",
              "    <tr>\n",
              "      <th>what_matters_most_to_you_in_choosing_a_course</th>\n",
              "      <td>2</td>\n",
              "    </tr>\n",
              "    <tr>\n",
              "      <th>newspaper</th>\n",
              "      <td>2</td>\n",
              "    </tr>\n",
              "    <tr>\n",
              "      <th>digital_advertisement</th>\n",
              "      <td>2</td>\n",
              "    </tr>\n",
              "    <tr>\n",
              "      <th>through_recommendations</th>\n",
              "      <td>2</td>\n",
              "    </tr>\n",
              "    <tr>\n",
              "      <th>do_not_call</th>\n",
              "      <td>2</td>\n",
              "    </tr>\n",
              "    <tr>\n",
              "      <th>do_not_email</th>\n",
              "      <td>2</td>\n",
              "    </tr>\n",
              "    <tr>\n",
              "      <th>a_free_copy_of_mastering_the_interview</th>\n",
              "      <td>2</td>\n",
              "    </tr>\n",
              "    <tr>\n",
              "      <th>newspaper_article</th>\n",
              "      <td>2</td>\n",
              "    </tr>\n",
              "    <tr>\n",
              "      <th>magazine</th>\n",
              "      <td>1</td>\n",
              "    </tr>\n",
              "    <tr>\n",
              "      <th>x_education_forums</th>\n",
              "      <td>1</td>\n",
              "    </tr>\n",
              "    <tr>\n",
              "      <th>receive_more_updates_about_our_courses</th>\n",
              "      <td>1</td>\n",
              "    </tr>\n",
              "    <tr>\n",
              "      <th>update_me_on_supply_chain_content</th>\n",
              "      <td>1</td>\n",
              "    </tr>\n",
              "    <tr>\n",
              "      <th>get_updates_on_dm_content</th>\n",
              "      <td>1</td>\n",
              "    </tr>\n",
              "    <tr>\n",
              "      <th>i_agree_to_pay_the_amount_through_cheque</th>\n",
              "      <td>1</td>\n",
              "    </tr>\n",
              "  </tbody>\n",
              "</table>\n",
              "</div>"
            ],
            "text/plain": [
              "                                               nunique\n",
              "country                                             35\n",
              "lead_source                                         19\n",
              "specialization                                      19\n",
              "last_activity                                       17\n",
              "last_notable_activity                               15\n",
              "how_did_you_hear_about_x_education                  10\n",
              "city                                                 7\n",
              "lead_profile                                         6\n",
              "what_is_your_current_occupation                      6\n",
              "lead_origin                                          5\n",
              "search                                               2\n",
              "what_matters_most_to_you_in_choosing_a_course        2\n",
              "newspaper                                            2\n",
              "digital_advertisement                                2\n",
              "through_recommendations                              2\n",
              "do_not_call                                          2\n",
              "do_not_email                                         2\n",
              "a_free_copy_of_mastering_the_interview               2\n",
              "newspaper_article                                    2\n",
              "magazine                                             1\n",
              "x_education_forums                                   1\n",
              "receive_more_updates_about_our_courses               1\n",
              "update_me_on_supply_chain_content                    1\n",
              "get_updates_on_dm_content                            1\n",
              "i_agree_to_pay_the_amount_through_cheque             1"
            ]
          },
          "execution_count": 429,
          "metadata": {},
          "output_type": "execute_result"
        }
      ],
      "source": [
        "train_X[categorical].nunique().to_frame('nunique').sort_values('nunique', ascending=False)"
      ]
    },
    {
      "cell_type": "markdown",
      "metadata": {
        "id": "RSuMPxpduQJ2"
      },
      "source": []
    },
    {
      "cell_type": "markdown",
      "metadata": {
        "id": "GT4Tr6MEub_O"
      },
      "source": [
        "# Analysis of Data"
      ]
    },
    {
      "cell_type": "code",
      "execution_count": 430,
      "metadata": {
        "colab": {
          "base_uri": "https://localhost:8080/"
        },
        "id": "8866f0ec",
        "outputId": "d3d655bf-9ddb-43cb-fb4b-0bc444cec64d"
      },
      "outputs": [
        {
          "data": {
            "text/plain": [
              "converted\n",
              "0    3629\n",
              "1    2284\n",
              "Name: count, dtype: int64"
            ]
          },
          "execution_count": 430,
          "metadata": {},
          "output_type": "execute_result"
        }
      ],
      "source": [
        "train_X['converted'].value_counts()"
      ]
    },
    {
      "cell_type": "markdown",
      "metadata": {
        "id": "ec11b913"
      },
      "source": [
        "In our data, 2832 leads converted their contract and 4560 leads didn't convert. In order to find convering rate we can divide 2831 by 4560 or use mean() funtion, which will do the same thing."
      ]
    },
    {
      "cell_type": "code",
      "execution_count": 431,
      "metadata": {
        "colab": {
          "base_uri": "https://localhost:8080/"
        },
        "id": "c50b2c5a",
        "outputId": "d0084964-b788-48c6-d826-5e94361d9cef"
      },
      "outputs": [
        {
          "name": "stdout",
          "output_type": "stream",
          "text": [
            "Only 38.6% of leads have been successfully converted.\n"
          ]
        }
      ],
      "source": [
        "global_mean = round(train_X['converted'].mean(),3)\n",
        "print(f'Only {global_mean*100}% of leads have been successfully converted.')"
      ]
    },
    {
      "cell_type": "code",
      "execution_count": 432,
      "metadata": {
        "colab": {
          "base_uri": "https://localhost:8080/",
          "height": 560
        },
        "id": "CLCKHfzHttwN",
        "outputId": "697e04ef-bd03-4c1f-b31f-33db36a24d80"
      },
      "outputs": [
        {
          "data": {
            "text/html": [
              "<div>\n",
              "<style scoped>\n",
              "    .dataframe tbody tr th:only-of-type {\n",
              "        vertical-align: middle;\n",
              "    }\n",
              "\n",
              "    .dataframe tbody tr th {\n",
              "        vertical-align: top;\n",
              "    }\n",
              "\n",
              "    .dataframe thead th {\n",
              "        text-align: right;\n",
              "    }\n",
              "</style>\n",
              "<table border=\"1\" class=\"dataframe\">\n",
              "  <thead>\n",
              "    <tr style=\"text-align: right;\">\n",
              "      <th></th>\n",
              "      <th>prospect_id</th>\n",
              "      <th>lead_number</th>\n",
              "      <th>lead_origin</th>\n",
              "      <th>lead_source</th>\n",
              "      <th>do_not_email</th>\n",
              "      <th>do_not_call</th>\n",
              "      <th>converted</th>\n",
              "      <th>totalvisits</th>\n",
              "      <th>total_time_spent_on_website</th>\n",
              "      <th>page_views_per_visit</th>\n",
              "      <th>...</th>\n",
              "      <th>digital_advertisement</th>\n",
              "      <th>through_recommendations</th>\n",
              "      <th>receive_more_updates_about_our_courses</th>\n",
              "      <th>update_me_on_supply_chain_content</th>\n",
              "      <th>get_updates_on_dm_content</th>\n",
              "      <th>lead_profile</th>\n",
              "      <th>city</th>\n",
              "      <th>i_agree_to_pay_the_amount_through_cheque</th>\n",
              "      <th>a_free_copy_of_mastering_the_interview</th>\n",
              "      <th>last_notable_activity</th>\n",
              "    </tr>\n",
              "  </thead>\n",
              "  <tbody>\n",
              "    <tr>\n",
              "      <th>0</th>\n",
              "      <td>7927b2df-8bba-4d29-b9a2-b6e0beafe620</td>\n",
              "      <td>660737</td>\n",
              "      <td>API</td>\n",
              "      <td>Olark Chat</td>\n",
              "      <td>No</td>\n",
              "      <td>No</td>\n",
              "      <td>0</td>\n",
              "      <td>0.0</td>\n",
              "      <td>0</td>\n",
              "      <td>0.0</td>\n",
              "      <td>...</td>\n",
              "      <td>No</td>\n",
              "      <td>No</td>\n",
              "      <td>No</td>\n",
              "      <td>No</td>\n",
              "      <td>No</td>\n",
              "      <td>Select</td>\n",
              "      <td>Select</td>\n",
              "      <td>No</td>\n",
              "      <td>No</td>\n",
              "      <td>Modified</td>\n",
              "    </tr>\n",
              "    <tr>\n",
              "      <th>1</th>\n",
              "      <td>2a272436-5132-4136-86fa-dcc88c88f482</td>\n",
              "      <td>660728</td>\n",
              "      <td>API</td>\n",
              "      <td>Organic Search</td>\n",
              "      <td>No</td>\n",
              "      <td>No</td>\n",
              "      <td>0</td>\n",
              "      <td>5.0</td>\n",
              "      <td>674</td>\n",
              "      <td>2.5</td>\n",
              "      <td>...</td>\n",
              "      <td>No</td>\n",
              "      <td>No</td>\n",
              "      <td>No</td>\n",
              "      <td>No</td>\n",
              "      <td>No</td>\n",
              "      <td>Select</td>\n",
              "      <td>Select</td>\n",
              "      <td>No</td>\n",
              "      <td>No</td>\n",
              "      <td>Email Opened</td>\n",
              "    </tr>\n",
              "    <tr>\n",
              "      <th>2</th>\n",
              "      <td>8cc8c611-a219-4f35-ad23-fdfd2656bd8a</td>\n",
              "      <td>660727</td>\n",
              "      <td>Landing Page Submission</td>\n",
              "      <td>Direct Traffic</td>\n",
              "      <td>No</td>\n",
              "      <td>No</td>\n",
              "      <td>1</td>\n",
              "      <td>2.0</td>\n",
              "      <td>1532</td>\n",
              "      <td>2.0</td>\n",
              "      <td>...</td>\n",
              "      <td>No</td>\n",
              "      <td>No</td>\n",
              "      <td>No</td>\n",
              "      <td>No</td>\n",
              "      <td>No</td>\n",
              "      <td>Potential Lead</td>\n",
              "      <td>Mumbai</td>\n",
              "      <td>No</td>\n",
              "      <td>Yes</td>\n",
              "      <td>Email Opened</td>\n",
              "    </tr>\n",
              "    <tr>\n",
              "      <th>3</th>\n",
              "      <td>0cc2df48-7cf4-4e39-9de9-19797f9b38cc</td>\n",
              "      <td>660719</td>\n",
              "      <td>Landing Page Submission</td>\n",
              "      <td>Direct Traffic</td>\n",
              "      <td>No</td>\n",
              "      <td>No</td>\n",
              "      <td>0</td>\n",
              "      <td>1.0</td>\n",
              "      <td>305</td>\n",
              "      <td>1.0</td>\n",
              "      <td>...</td>\n",
              "      <td>No</td>\n",
              "      <td>No</td>\n",
              "      <td>No</td>\n",
              "      <td>No</td>\n",
              "      <td>No</td>\n",
              "      <td>Select</td>\n",
              "      <td>Mumbai</td>\n",
              "      <td>No</td>\n",
              "      <td>No</td>\n",
              "      <td>Modified</td>\n",
              "    </tr>\n",
              "    <tr>\n",
              "      <th>4</th>\n",
              "      <td>3256f628-e534-4826-9d63-4a8b88782852</td>\n",
              "      <td>660681</td>\n",
              "      <td>Landing Page Submission</td>\n",
              "      <td>Google</td>\n",
              "      <td>No</td>\n",
              "      <td>No</td>\n",
              "      <td>1</td>\n",
              "      <td>2.0</td>\n",
              "      <td>1428</td>\n",
              "      <td>1.0</td>\n",
              "      <td>...</td>\n",
              "      <td>No</td>\n",
              "      <td>No</td>\n",
              "      <td>No</td>\n",
              "      <td>No</td>\n",
              "      <td>No</td>\n",
              "      <td>Select</td>\n",
              "      <td>Mumbai</td>\n",
              "      <td>No</td>\n",
              "      <td>No</td>\n",
              "      <td>Modified</td>\n",
              "    </tr>\n",
              "  </tbody>\n",
              "</table>\n",
              "<p>5 rows × 31 columns</p>\n",
              "</div>"
            ],
            "text/plain": [
              "                            prospect_id  lead_number              lead_origin  \\\n",
              "0  7927b2df-8bba-4d29-b9a2-b6e0beafe620       660737                      API   \n",
              "1  2a272436-5132-4136-86fa-dcc88c88f482       660728                      API   \n",
              "2  8cc8c611-a219-4f35-ad23-fdfd2656bd8a       660727  Landing Page Submission   \n",
              "3  0cc2df48-7cf4-4e39-9de9-19797f9b38cc       660719  Landing Page Submission   \n",
              "4  3256f628-e534-4826-9d63-4a8b88782852       660681  Landing Page Submission   \n",
              "\n",
              "      lead_source do_not_email do_not_call  converted  totalvisits  \\\n",
              "0      Olark Chat           No          No          0          0.0   \n",
              "1  Organic Search           No          No          0          5.0   \n",
              "2  Direct Traffic           No          No          1          2.0   \n",
              "3  Direct Traffic           No          No          0          1.0   \n",
              "4          Google           No          No          1          2.0   \n",
              "\n",
              "   total_time_spent_on_website  page_views_per_visit  ...  \\\n",
              "0                            0                   0.0  ...   \n",
              "1                          674                   2.5  ...   \n",
              "2                         1532                   2.0  ...   \n",
              "3                          305                   1.0  ...   \n",
              "4                         1428                   1.0  ...   \n",
              "\n",
              "  digital_advertisement through_recommendations  \\\n",
              "0                    No                      No   \n",
              "1                    No                      No   \n",
              "2                    No                      No   \n",
              "3                    No                      No   \n",
              "4                    No                      No   \n",
              "\n",
              "  receive_more_updates_about_our_courses update_me_on_supply_chain_content  \\\n",
              "0                                     No                                No   \n",
              "1                                     No                                No   \n",
              "2                                     No                                No   \n",
              "3                                     No                                No   \n",
              "4                                     No                                No   \n",
              "\n",
              "  get_updates_on_dm_content    lead_profile    city  \\\n",
              "0                        No          Select  Select   \n",
              "1                        No          Select  Select   \n",
              "2                        No  Potential Lead  Mumbai   \n",
              "3                        No          Select  Mumbai   \n",
              "4                        No          Select  Mumbai   \n",
              "\n",
              "  i_agree_to_pay_the_amount_through_cheque  \\\n",
              "0                                       No   \n",
              "1                                       No   \n",
              "2                                       No   \n",
              "3                                       No   \n",
              "4                                       No   \n",
              "\n",
              "  a_free_copy_of_mastering_the_interview last_notable_activity  \n",
              "0                                     No              Modified  \n",
              "1                                     No          Email Opened  \n",
              "2                                    Yes          Email Opened  \n",
              "3                                     No              Modified  \n",
              "4                                     No              Modified  \n",
              "\n",
              "[5 rows x 31 columns]"
            ]
          },
          "execution_count": 432,
          "metadata": {},
          "output_type": "execute_result"
        }
      ],
      "source": [
        "leads.head()"
      ]
    },
    {
      "cell_type": "code",
      "execution_count": 433,
      "metadata": {
        "colab": {
          "base_uri": "https://localhost:8080/",
          "height": 269
        },
        "id": "h5EzpKbCF8Zg",
        "outputId": "53c0fe29-6302-4db4-897d-7798f10364f0"
      },
      "outputs": [
        {
          "data": {
            "text/html": [
              "<div>\n",
              "<style scoped>\n",
              "    .dataframe tbody tr th:only-of-type {\n",
              "        vertical-align: middle;\n",
              "    }\n",
              "\n",
              "    .dataframe tbody tr th {\n",
              "        vertical-align: top;\n",
              "    }\n",
              "\n",
              "    .dataframe thead th {\n",
              "        text-align: right;\n",
              "    }\n",
              "</style>\n",
              "<table border=\"1\" class=\"dataframe\">\n",
              "  <thead>\n",
              "    <tr style=\"text-align: right;\">\n",
              "      <th></th>\n",
              "      <th>mean</th>\n",
              "      <th>reliability</th>\n",
              "    </tr>\n",
              "    <tr>\n",
              "      <th>what_is_your_current_occupation</th>\n",
              "      <th></th>\n",
              "      <th></th>\n",
              "    </tr>\n",
              "  </thead>\n",
              "  <tbody>\n",
              "    <tr>\n",
              "      <th>Businessman</th>\n",
              "      <td>0.400000</td>\n",
              "      <td>1.036269</td>\n",
              "    </tr>\n",
              "    <tr>\n",
              "      <th>Housewife</th>\n",
              "      <td>1.000000</td>\n",
              "      <td>2.590674</td>\n",
              "    </tr>\n",
              "    <tr>\n",
              "      <th>Other</th>\n",
              "      <td>0.147387</td>\n",
              "      <td>0.381832</td>\n",
              "    </tr>\n",
              "    <tr>\n",
              "      <th>Student</th>\n",
              "      <td>0.377778</td>\n",
              "      <td>0.978699</td>\n",
              "    </tr>\n",
              "    <tr>\n",
              "      <th>Unemployed</th>\n",
              "      <td>0.431573</td>\n",
              "      <td>1.118065</td>\n",
              "    </tr>\n",
              "    <tr>\n",
              "      <th>Working Professional</th>\n",
              "      <td>0.924107</td>\n",
              "      <td>2.394060</td>\n",
              "    </tr>\n",
              "  </tbody>\n",
              "</table>\n",
              "</div>"
            ],
            "text/plain": [
              "                                     mean  reliability\n",
              "what_is_your_current_occupation                       \n",
              "Businessman                      0.400000     1.036269\n",
              "Housewife                        1.000000     2.590674\n",
              "Other                            0.147387     0.381832\n",
              "Student                          0.377778     0.978699\n",
              "Unemployed                       0.431573     1.118065\n",
              "Working Professional             0.924107     2.394060"
            ]
          },
          "execution_count": 433,
          "metadata": {},
          "output_type": "execute_result"
        }
      ],
      "source": [
        "grouped_train = train_X.groupby('what_is_your_current_occupation').converted.agg(['mean'])\n",
        "grouped_train['reliability'] = grouped_train['mean']/global_mean\n",
        "grouped_train"
      ]
    },
    {
      "cell_type": "markdown",
      "metadata": {
        "id": "Q1iq0RYEmU-j"
      },
      "source": [
        "Housewife and Working Professional categories are most likely to be converted."
      ]
    },
    {
      "cell_type": "code",
      "execution_count": 434,
      "metadata": {
        "id": "s3jd5H1hF_rA"
      },
      "outputs": [],
      "source": [
        "def converted_stat(column):\n",
        "    data_group = train_X.groupby(column).converted.agg(['mean'])\n",
        "    data_group['reliability'] = data_group['mean']/global_mean\n",
        "    return data_group"
      ]
    },
    {
      "cell_type": "code",
      "execution_count": 435,
      "metadata": {
        "colab": {
          "base_uri": "https://localhost:8080/",
          "height": 613
        },
        "id": "RR5-3R0u3nF7",
        "outputId": "126203a9-6b01-4a72-aa7a-ff95343d778e"
      },
      "outputs": [
        {
          "data": {
            "text/html": [
              "<div>\n",
              "<style scoped>\n",
              "    .dataframe tbody tr th:only-of-type {\n",
              "        vertical-align: middle;\n",
              "    }\n",
              "\n",
              "    .dataframe tbody tr th {\n",
              "        vertical-align: top;\n",
              "    }\n",
              "\n",
              "    .dataframe thead th {\n",
              "        text-align: right;\n",
              "    }\n",
              "</style>\n",
              "<table border=\"1\" class=\"dataframe\">\n",
              "  <thead>\n",
              "    <tr style=\"text-align: right;\">\n",
              "      <th></th>\n",
              "      <th>mean</th>\n",
              "      <th>reliability</th>\n",
              "    </tr>\n",
              "    <tr>\n",
              "      <th>last_activity</th>\n",
              "      <th></th>\n",
              "      <th></th>\n",
              "    </tr>\n",
              "  </thead>\n",
              "  <tbody>\n",
              "    <tr>\n",
              "      <th>Approached upfront</th>\n",
              "      <td>1.000000</td>\n",
              "      <td>2.590674</td>\n",
              "    </tr>\n",
              "    <tr>\n",
              "      <th>Converted to Lead</th>\n",
              "      <td>0.124542</td>\n",
              "      <td>0.322648</td>\n",
              "    </tr>\n",
              "    <tr>\n",
              "      <th>Email Bounced</th>\n",
              "      <td>0.084577</td>\n",
              "      <td>0.219112</td>\n",
              "    </tr>\n",
              "    <tr>\n",
              "      <th>Email Link Clicked</th>\n",
              "      <td>0.238095</td>\n",
              "      <td>0.616827</td>\n",
              "    </tr>\n",
              "    <tr>\n",
              "      <th>Email Marked Spam</th>\n",
              "      <td>1.000000</td>\n",
              "      <td>2.590674</td>\n",
              "    </tr>\n",
              "    <tr>\n",
              "      <th>Email Opened</th>\n",
              "      <td>0.367506</td>\n",
              "      <td>0.952087</td>\n",
              "    </tr>\n",
              "    <tr>\n",
              "      <th>Email Received</th>\n",
              "      <td>1.000000</td>\n",
              "      <td>2.590674</td>\n",
              "    </tr>\n",
              "    <tr>\n",
              "      <th>Form Submitted on Website</th>\n",
              "      <td>0.227848</td>\n",
              "      <td>0.590280</td>\n",
              "    </tr>\n",
              "    <tr>\n",
              "      <th>Had a Phone Conversation</th>\n",
              "      <td>0.736842</td>\n",
              "      <td>1.908917</td>\n",
              "    </tr>\n",
              "    <tr>\n",
              "      <th>Olark Chat Conversation</th>\n",
              "      <td>0.086677</td>\n",
              "      <td>0.224553</td>\n",
              "    </tr>\n",
              "    <tr>\n",
              "      <th>Other</th>\n",
              "      <td>0.784615</td>\n",
              "      <td>2.032682</td>\n",
              "    </tr>\n",
              "    <tr>\n",
              "      <th>Page Visited on Website</th>\n",
              "      <td>0.234043</td>\n",
              "      <td>0.606328</td>\n",
              "    </tr>\n",
              "    <tr>\n",
              "      <th>Resubscribed to emails</th>\n",
              "      <td>1.000000</td>\n",
              "      <td>2.590674</td>\n",
              "    </tr>\n",
              "    <tr>\n",
              "      <th>SMS Sent</th>\n",
              "      <td>0.627396</td>\n",
              "      <td>1.625378</td>\n",
              "    </tr>\n",
              "    <tr>\n",
              "      <th>Unreachable</th>\n",
              "      <td>0.372549</td>\n",
              "      <td>0.965153</td>\n",
              "    </tr>\n",
              "    <tr>\n",
              "      <th>Unsubscribed</th>\n",
              "      <td>0.297297</td>\n",
              "      <td>0.770200</td>\n",
              "    </tr>\n",
              "    <tr>\n",
              "      <th>View in browser link Clicked</th>\n",
              "      <td>0.200000</td>\n",
              "      <td>0.518135</td>\n",
              "    </tr>\n",
              "  </tbody>\n",
              "</table>\n",
              "</div>"
            ],
            "text/plain": [
              "                                  mean  reliability\n",
              "last_activity                                      \n",
              "Approached upfront            1.000000     2.590674\n",
              "Converted to Lead             0.124542     0.322648\n",
              "Email Bounced                 0.084577     0.219112\n",
              "Email Link Clicked            0.238095     0.616827\n",
              "Email Marked Spam             1.000000     2.590674\n",
              "Email Opened                  0.367506     0.952087\n",
              "Email Received                1.000000     2.590674\n",
              "Form Submitted on Website     0.227848     0.590280\n",
              "Had a Phone Conversation      0.736842     1.908917\n",
              "Olark Chat Conversation       0.086677     0.224553\n",
              "Other                         0.784615     2.032682\n",
              "Page Visited on Website       0.234043     0.606328\n",
              "Resubscribed to emails        1.000000     2.590674\n",
              "SMS Sent                      0.627396     1.625378\n",
              "Unreachable                   0.372549     0.965153\n",
              "Unsubscribed                  0.297297     0.770200\n",
              "View in browser link Clicked  0.200000     0.518135"
            ]
          },
          "execution_count": 435,
          "metadata": {},
          "output_type": "execute_result"
        }
      ],
      "source": [
        "converted_stat('last_activity')"
      ]
    },
    {
      "cell_type": "code",
      "execution_count": 436,
      "metadata": {
        "colab": {
          "base_uri": "https://localhost:8080/",
          "height": 269
        },
        "id": "S-QOEDQj8Lwm",
        "outputId": "71b605de-b971-471e-f5d8-7beb633e1889"
      },
      "outputs": [
        {
          "data": {
            "text/html": [
              "<div>\n",
              "<style scoped>\n",
              "    .dataframe tbody tr th:only-of-type {\n",
              "        vertical-align: middle;\n",
              "    }\n",
              "\n",
              "    .dataframe tbody tr th {\n",
              "        vertical-align: top;\n",
              "    }\n",
              "\n",
              "    .dataframe thead th {\n",
              "        text-align: right;\n",
              "    }\n",
              "</style>\n",
              "<table border=\"1\" class=\"dataframe\">\n",
              "  <thead>\n",
              "    <tr style=\"text-align: right;\">\n",
              "      <th></th>\n",
              "      <th>mean</th>\n",
              "      <th>reliability</th>\n",
              "    </tr>\n",
              "    <tr>\n",
              "      <th>lead_profile</th>\n",
              "      <th></th>\n",
              "      <th></th>\n",
              "    </tr>\n",
              "  </thead>\n",
              "  <tbody>\n",
              "    <tr>\n",
              "      <th>Dual Specialization Student</th>\n",
              "      <td>1.000000</td>\n",
              "      <td>2.590674</td>\n",
              "    </tr>\n",
              "    <tr>\n",
              "      <th>Lateral Student</th>\n",
              "      <td>0.947368</td>\n",
              "      <td>2.454322</td>\n",
              "    </tr>\n",
              "    <tr>\n",
              "      <th>Other Leads</th>\n",
              "      <td>0.353125</td>\n",
              "      <td>0.914832</td>\n",
              "    </tr>\n",
              "    <tr>\n",
              "      <th>Potential Lead</th>\n",
              "      <td>0.790831</td>\n",
              "      <td>2.048785</td>\n",
              "    </tr>\n",
              "    <tr>\n",
              "      <th>Select</th>\n",
              "      <td>0.300529</td>\n",
              "      <td>0.778572</td>\n",
              "    </tr>\n",
              "    <tr>\n",
              "      <th>Student of SomeSchool</th>\n",
              "      <td>0.024390</td>\n",
              "      <td>0.063187</td>\n",
              "    </tr>\n",
              "  </tbody>\n",
              "</table>\n",
              "</div>"
            ],
            "text/plain": [
              "                                 mean  reliability\n",
              "lead_profile                                      \n",
              "Dual Specialization Student  1.000000     2.590674\n",
              "Lateral Student              0.947368     2.454322\n",
              "Other Leads                  0.353125     0.914832\n",
              "Potential Lead               0.790831     2.048785\n",
              "Select                       0.300529     0.778572\n",
              "Student of SomeSchool        0.024390     0.063187"
            ]
          },
          "execution_count": 436,
          "metadata": {},
          "output_type": "execute_result"
        }
      ],
      "source": [
        "converted_stat('lead_profile')"
      ]
    },
    {
      "cell_type": "code",
      "execution_count": 437,
      "metadata": {
        "colab": {
          "base_uri": "https://localhost:8080/",
          "height": 676
        },
        "id": "YJ6ArSJ_8TKT",
        "outputId": "6114d0d4-a315-4b2e-85ac-f6ec55b42e39"
      },
      "outputs": [
        {
          "data": {
            "text/html": [
              "<div>\n",
              "<style scoped>\n",
              "    .dataframe tbody tr th:only-of-type {\n",
              "        vertical-align: middle;\n",
              "    }\n",
              "\n",
              "    .dataframe tbody tr th {\n",
              "        vertical-align: top;\n",
              "    }\n",
              "\n",
              "    .dataframe thead th {\n",
              "        text-align: right;\n",
              "    }\n",
              "</style>\n",
              "<table border=\"1\" class=\"dataframe\">\n",
              "  <thead>\n",
              "    <tr style=\"text-align: right;\">\n",
              "      <th></th>\n",
              "      <th>mean</th>\n",
              "      <th>reliability</th>\n",
              "    </tr>\n",
              "    <tr>\n",
              "      <th>lead_source</th>\n",
              "      <th></th>\n",
              "      <th></th>\n",
              "    </tr>\n",
              "  </thead>\n",
              "  <tbody>\n",
              "    <tr>\n",
              "      <th>Click2call</th>\n",
              "      <td>0.666667</td>\n",
              "      <td>1.727116</td>\n",
              "    </tr>\n",
              "    <tr>\n",
              "      <th>Direct Traffic</th>\n",
              "      <td>0.319214</td>\n",
              "      <td>0.826980</td>\n",
              "    </tr>\n",
              "    <tr>\n",
              "      <th>Facebook</th>\n",
              "      <td>0.181818</td>\n",
              "      <td>0.471032</td>\n",
              "    </tr>\n",
              "    <tr>\n",
              "      <th>Google</th>\n",
              "      <td>0.404506</td>\n",
              "      <td>1.047944</td>\n",
              "    </tr>\n",
              "    <tr>\n",
              "      <th>Live Chat</th>\n",
              "      <td>1.000000</td>\n",
              "      <td>2.590674</td>\n",
              "    </tr>\n",
              "    <tr>\n",
              "      <th>NC_EDM</th>\n",
              "      <td>1.000000</td>\n",
              "      <td>2.590674</td>\n",
              "    </tr>\n",
              "    <tr>\n",
              "      <th>Olark Chat</th>\n",
              "      <td>0.254222</td>\n",
              "      <td>0.658607</td>\n",
              "    </tr>\n",
              "    <tr>\n",
              "      <th>Organic Search</th>\n",
              "      <td>0.379167</td>\n",
              "      <td>0.982297</td>\n",
              "    </tr>\n",
              "    <tr>\n",
              "      <th>Pay per Click Ads</th>\n",
              "      <td>0.000000</td>\n",
              "      <td>0.000000</td>\n",
              "    </tr>\n",
              "    <tr>\n",
              "      <th>Press_Release</th>\n",
              "      <td>0.000000</td>\n",
              "      <td>0.000000</td>\n",
              "    </tr>\n",
              "    <tr>\n",
              "      <th>Reference</th>\n",
              "      <td>0.919771</td>\n",
              "      <td>2.382826</td>\n",
              "    </tr>\n",
              "    <tr>\n",
              "      <th>Referral Sites</th>\n",
              "      <td>0.260274</td>\n",
              "      <td>0.674285</td>\n",
              "    </tr>\n",
              "    <tr>\n",
              "      <th>Social Media</th>\n",
              "      <td>0.500000</td>\n",
              "      <td>1.295337</td>\n",
              "    </tr>\n",
              "    <tr>\n",
              "      <th>WeLearn</th>\n",
              "      <td>1.000000</td>\n",
              "      <td>2.590674</td>\n",
              "    </tr>\n",
              "    <tr>\n",
              "      <th>Welingak Website</th>\n",
              "      <td>0.979798</td>\n",
              "      <td>2.538337</td>\n",
              "    </tr>\n",
              "    <tr>\n",
              "      <th>bing</th>\n",
              "      <td>0.166667</td>\n",
              "      <td>0.431779</td>\n",
              "    </tr>\n",
              "    <tr>\n",
              "      <th>blog</th>\n",
              "      <td>0.000000</td>\n",
              "      <td>0.000000</td>\n",
              "    </tr>\n",
              "    <tr>\n",
              "      <th>welearnblog_Home</th>\n",
              "      <td>0.000000</td>\n",
              "      <td>0.000000</td>\n",
              "    </tr>\n",
              "    <tr>\n",
              "      <th>youtubechannel</th>\n",
              "      <td>0.000000</td>\n",
              "      <td>0.000000</td>\n",
              "    </tr>\n",
              "  </tbody>\n",
              "</table>\n",
              "</div>"
            ],
            "text/plain": [
              "                       mean  reliability\n",
              "lead_source                             \n",
              "Click2call         0.666667     1.727116\n",
              "Direct Traffic     0.319214     0.826980\n",
              "Facebook           0.181818     0.471032\n",
              "Google             0.404506     1.047944\n",
              "Live Chat          1.000000     2.590674\n",
              "NC_EDM             1.000000     2.590674\n",
              "Olark Chat         0.254222     0.658607\n",
              "Organic Search     0.379167     0.982297\n",
              "Pay per Click Ads  0.000000     0.000000\n",
              "Press_Release      0.000000     0.000000\n",
              "Reference          0.919771     2.382826\n",
              "Referral Sites     0.260274     0.674285\n",
              "Social Media       0.500000     1.295337\n",
              "WeLearn            1.000000     2.590674\n",
              "Welingak Website   0.979798     2.538337\n",
              "bing               0.166667     0.431779\n",
              "blog               0.000000     0.000000\n",
              "welearnblog_Home   0.000000     0.000000\n",
              "youtubechannel     0.000000     0.000000"
            ]
          },
          "execution_count": 437,
          "metadata": {},
          "output_type": "execute_result"
        }
      ],
      "source": [
        "converted_stat('lead_source')"
      ]
    },
    {
      "cell_type": "code",
      "execution_count": 438,
      "metadata": {
        "colab": {
          "base_uri": "https://localhost:8080/",
          "height": 143
        },
        "id": "g_Wy6oS-GDlx",
        "outputId": "6478bc7b-16e2-4550-b860-8ffbbd54fc20"
      },
      "outputs": [
        {
          "data": {
            "text/html": [
              "<div>\n",
              "<style scoped>\n",
              "    .dataframe tbody tr th:only-of-type {\n",
              "        vertical-align: middle;\n",
              "    }\n",
              "\n",
              "    .dataframe tbody tr th {\n",
              "        vertical-align: top;\n",
              "    }\n",
              "\n",
              "    .dataframe thead th {\n",
              "        text-align: right;\n",
              "    }\n",
              "</style>\n",
              "<table border=\"1\" class=\"dataframe\">\n",
              "  <thead>\n",
              "    <tr style=\"text-align: right;\">\n",
              "      <th></th>\n",
              "      <th>mean</th>\n",
              "      <th>reliability</th>\n",
              "    </tr>\n",
              "    <tr>\n",
              "      <th>what_matters_most_to_you_in_choosing_a_course</th>\n",
              "      <th></th>\n",
              "      <th></th>\n",
              "    </tr>\n",
              "  </thead>\n",
              "  <tbody>\n",
              "    <tr>\n",
              "      <th>Better Career Prospects</th>\n",
              "      <td>0.485245</td>\n",
              "      <td>1.257112</td>\n",
              "    </tr>\n",
              "    <tr>\n",
              "      <th>Other</th>\n",
              "      <td>0.143191</td>\n",
              "      <td>0.370961</td>\n",
              "    </tr>\n",
              "  </tbody>\n",
              "</table>\n",
              "</div>"
            ],
            "text/plain": [
              "                                                   mean  reliability\n",
              "what_matters_most_to_you_in_choosing_a_course                       \n",
              "Better Career Prospects                        0.485245     1.257112\n",
              "Other                                          0.143191     0.370961"
            ]
          },
          "execution_count": 438,
          "metadata": {},
          "output_type": "execute_result"
        }
      ],
      "source": [
        "converted_stat('what_matters_most_to_you_in_choosing_a_course')"
      ]
    },
    {
      "cell_type": "code",
      "execution_count": 439,
      "metadata": {
        "colab": {
          "base_uri": "https://localhost:8080/",
          "height": 237
        },
        "id": "zu7IPzMAGWGc",
        "outputId": "4c5b9654-4743-4cc7-9bd3-f32b1bb9ade4"
      },
      "outputs": [
        {
          "data": {
            "text/html": [
              "<div>\n",
              "<style scoped>\n",
              "    .dataframe tbody tr th:only-of-type {\n",
              "        vertical-align: middle;\n",
              "    }\n",
              "\n",
              "    .dataframe tbody tr th {\n",
              "        vertical-align: top;\n",
              "    }\n",
              "\n",
              "    .dataframe thead th {\n",
              "        text-align: right;\n",
              "    }\n",
              "</style>\n",
              "<table border=\"1\" class=\"dataframe\">\n",
              "  <thead>\n",
              "    <tr style=\"text-align: right;\">\n",
              "      <th></th>\n",
              "      <th>mean</th>\n",
              "      <th>reliability</th>\n",
              "    </tr>\n",
              "    <tr>\n",
              "      <th>lead_origin</th>\n",
              "      <th></th>\n",
              "      <th></th>\n",
              "    </tr>\n",
              "  </thead>\n",
              "  <tbody>\n",
              "    <tr>\n",
              "      <th>API</th>\n",
              "      <td>0.308132</td>\n",
              "      <td>0.798269</td>\n",
              "    </tr>\n",
              "    <tr>\n",
              "      <th>Landing Page Submission</th>\n",
              "      <td>0.363375</td>\n",
              "      <td>0.941386</td>\n",
              "    </tr>\n",
              "    <tr>\n",
              "      <th>Lead Add Form</th>\n",
              "      <td>0.924211</td>\n",
              "      <td>2.394328</td>\n",
              "    </tr>\n",
              "    <tr>\n",
              "      <th>Lead Import</th>\n",
              "      <td>0.181818</td>\n",
              "      <td>0.471032</td>\n",
              "    </tr>\n",
              "    <tr>\n",
              "      <th>Quick Add Form</th>\n",
              "      <td>1.000000</td>\n",
              "      <td>2.590674</td>\n",
              "    </tr>\n",
              "  </tbody>\n",
              "</table>\n",
              "</div>"
            ],
            "text/plain": [
              "                             mean  reliability\n",
              "lead_origin                                   \n",
              "API                      0.308132     0.798269\n",
              "Landing Page Submission  0.363375     0.941386\n",
              "Lead Add Form            0.924211     2.394328\n",
              "Lead Import              0.181818     0.471032\n",
              "Quick Add Form           1.000000     2.590674"
            ]
          },
          "execution_count": 439,
          "metadata": {},
          "output_type": "execute_result"
        }
      ],
      "source": [
        "converted_stat('lead_origin')"
      ]
    },
    {
      "cell_type": "code",
      "execution_count": 440,
      "metadata": {
        "colab": {
          "base_uri": "https://localhost:8080/",
          "height": 676
        },
        "id": "qQ3AeSOD8xi8",
        "outputId": "fc276c1f-55ae-4037-85bc-cc98dde0aecd"
      },
      "outputs": [
        {
          "data": {
            "text/html": [
              "<div>\n",
              "<style scoped>\n",
              "    .dataframe tbody tr th:only-of-type {\n",
              "        vertical-align: middle;\n",
              "    }\n",
              "\n",
              "    .dataframe tbody tr th {\n",
              "        vertical-align: top;\n",
              "    }\n",
              "\n",
              "    .dataframe thead th {\n",
              "        text-align: right;\n",
              "    }\n",
              "</style>\n",
              "<table border=\"1\" class=\"dataframe\">\n",
              "  <thead>\n",
              "    <tr style=\"text-align: right;\">\n",
              "      <th></th>\n",
              "      <th>mean</th>\n",
              "      <th>reliability</th>\n",
              "    </tr>\n",
              "    <tr>\n",
              "      <th>specialization</th>\n",
              "      <th></th>\n",
              "      <th></th>\n",
              "    </tr>\n",
              "  </thead>\n",
              "  <tbody>\n",
              "    <tr>\n",
              "      <th>Banking, Investment And Insurance</th>\n",
              "      <td>0.457014</td>\n",
              "      <td>1.183973</td>\n",
              "    </tr>\n",
              "    <tr>\n",
              "      <th>Business Administration</th>\n",
              "      <td>0.455556</td>\n",
              "      <td>1.180196</td>\n",
              "    </tr>\n",
              "    <tr>\n",
              "      <th>E-Business</th>\n",
              "      <td>0.432432</td>\n",
              "      <td>1.120291</td>\n",
              "    </tr>\n",
              "    <tr>\n",
              "      <th>E-COMMERCE</th>\n",
              "      <td>0.363636</td>\n",
              "      <td>0.942063</td>\n",
              "    </tr>\n",
              "    <tr>\n",
              "      <th>Finance Management</th>\n",
              "      <td>0.464678</td>\n",
              "      <td>1.203829</td>\n",
              "    </tr>\n",
              "    <tr>\n",
              "      <th>Healthcare Management</th>\n",
              "      <td>0.484848</td>\n",
              "      <td>1.256084</td>\n",
              "    </tr>\n",
              "    <tr>\n",
              "      <th>Hospitality Management</th>\n",
              "      <td>0.318841</td>\n",
              "      <td>0.826012</td>\n",
              "    </tr>\n",
              "    <tr>\n",
              "      <th>Human Resource Management</th>\n",
              "      <td>0.460573</td>\n",
              "      <td>1.193196</td>\n",
              "    </tr>\n",
              "    <tr>\n",
              "      <th>IT Projects Management</th>\n",
              "      <td>0.394958</td>\n",
              "      <td>1.023207</td>\n",
              "    </tr>\n",
              "    <tr>\n",
              "      <th>International Business</th>\n",
              "      <td>0.341880</td>\n",
              "      <td>0.885700</td>\n",
              "    </tr>\n",
              "    <tr>\n",
              "      <th>Marketing Management</th>\n",
              "      <td>0.481061</td>\n",
              "      <td>1.246271</td>\n",
              "    </tr>\n",
              "    <tr>\n",
              "      <th>Media and Advertising</th>\n",
              "      <td>0.441860</td>\n",
              "      <td>1.144716</td>\n",
              "    </tr>\n",
              "    <tr>\n",
              "      <th>Operations Management</th>\n",
              "      <td>0.459375</td>\n",
              "      <td>1.190091</td>\n",
              "    </tr>\n",
              "    <tr>\n",
              "      <th>Retail Management</th>\n",
              "      <td>0.375000</td>\n",
              "      <td>0.971503</td>\n",
              "    </tr>\n",
              "    <tr>\n",
              "      <th>Rural and Agribusiness</th>\n",
              "      <td>0.431373</td>\n",
              "      <td>1.117545</td>\n",
              "    </tr>\n",
              "    <tr>\n",
              "      <th>Select</th>\n",
              "      <td>0.286319</td>\n",
              "      <td>0.741758</td>\n",
              "    </tr>\n",
              "    <tr>\n",
              "      <th>Services Excellence</th>\n",
              "      <td>0.360000</td>\n",
              "      <td>0.932642</td>\n",
              "    </tr>\n",
              "    <tr>\n",
              "      <th>Supply Chain Management</th>\n",
              "      <td>0.413043</td>\n",
              "      <td>1.070061</td>\n",
              "    </tr>\n",
              "    <tr>\n",
              "      <th>Travel and Tourism</th>\n",
              "      <td>0.362205</td>\n",
              "      <td>0.938354</td>\n",
              "    </tr>\n",
              "  </tbody>\n",
              "</table>\n",
              "</div>"
            ],
            "text/plain": [
              "                                       mean  reliability\n",
              "specialization                                          \n",
              "Banking, Investment And Insurance  0.457014     1.183973\n",
              "Business Administration            0.455556     1.180196\n",
              "E-Business                         0.432432     1.120291\n",
              "E-COMMERCE                         0.363636     0.942063\n",
              "Finance Management                 0.464678     1.203829\n",
              "Healthcare Management              0.484848     1.256084\n",
              "Hospitality Management             0.318841     0.826012\n",
              "Human Resource Management          0.460573     1.193196\n",
              "IT Projects Management             0.394958     1.023207\n",
              "International Business             0.341880     0.885700\n",
              "Marketing Management               0.481061     1.246271\n",
              "Media and Advertising              0.441860     1.144716\n",
              "Operations Management              0.459375     1.190091\n",
              "Retail Management                  0.375000     0.971503\n",
              "Rural and Agribusiness             0.431373     1.117545\n",
              "Select                             0.286319     0.741758\n",
              "Services Excellence                0.360000     0.932642\n",
              "Supply Chain Management            0.413043     1.070061\n",
              "Travel and Tourism                 0.362205     0.938354"
            ]
          },
          "execution_count": 440,
          "metadata": {},
          "output_type": "execute_result"
        }
      ],
      "source": [
        "converted_stat('specialization')"
      ]
    },
    {
      "cell_type": "code",
      "execution_count": 441,
      "metadata": {
        "colab": {
          "base_uri": "https://localhost:8080/",
          "height": 143
        },
        "id": "OH87FIt8GTSB",
        "outputId": "ea8b0ad4-3ec8-4f2b-9903-3078d4a1934d"
      },
      "outputs": [
        {
          "data": {
            "text/html": [
              "<div>\n",
              "<style scoped>\n",
              "    .dataframe tbody tr th:only-of-type {\n",
              "        vertical-align: middle;\n",
              "    }\n",
              "\n",
              "    .dataframe tbody tr th {\n",
              "        vertical-align: top;\n",
              "    }\n",
              "\n",
              "    .dataframe thead th {\n",
              "        text-align: right;\n",
              "    }\n",
              "</style>\n",
              "<table border=\"1\" class=\"dataframe\">\n",
              "  <thead>\n",
              "    <tr style=\"text-align: right;\">\n",
              "      <th></th>\n",
              "      <th>mean</th>\n",
              "      <th>reliability</th>\n",
              "    </tr>\n",
              "    <tr>\n",
              "      <th>do_not_email</th>\n",
              "      <th></th>\n",
              "      <th></th>\n",
              "    </tr>\n",
              "  </thead>\n",
              "  <tbody>\n",
              "    <tr>\n",
              "      <th>No</th>\n",
              "      <td>0.405112</td>\n",
              "      <td>1.049513</td>\n",
              "    </tr>\n",
              "    <tr>\n",
              "      <th>Yes</th>\n",
              "      <td>0.170526</td>\n",
              "      <td>0.441778</td>\n",
              "    </tr>\n",
              "  </tbody>\n",
              "</table>\n",
              "</div>"
            ],
            "text/plain": [
              "                  mean  reliability\n",
              "do_not_email                       \n",
              "No            0.405112     1.049513\n",
              "Yes           0.170526     0.441778"
            ]
          },
          "execution_count": 441,
          "metadata": {},
          "output_type": "execute_result"
        }
      ],
      "source": [
        "converted_stat('do_not_email')"
      ]
    },
    {
      "cell_type": "code",
      "execution_count": 442,
      "metadata": {
        "colab": {
          "base_uri": "https://localhost:8080/",
          "height": 300
        },
        "id": "AZ7f85jOGOBC",
        "outputId": "1dc37fd3-c26e-4b1c-e280-ff635ac9c752"
      },
      "outputs": [
        {
          "data": {
            "text/html": [
              "<div>\n",
              "<style scoped>\n",
              "    .dataframe tbody tr th:only-of-type {\n",
              "        vertical-align: middle;\n",
              "    }\n",
              "\n",
              "    .dataframe tbody tr th {\n",
              "        vertical-align: top;\n",
              "    }\n",
              "\n",
              "    .dataframe thead th {\n",
              "        text-align: right;\n",
              "    }\n",
              "</style>\n",
              "<table border=\"1\" class=\"dataframe\">\n",
              "  <thead>\n",
              "    <tr style=\"text-align: right;\">\n",
              "      <th></th>\n",
              "      <th>mean</th>\n",
              "      <th>reliability</th>\n",
              "    </tr>\n",
              "    <tr>\n",
              "      <th>city</th>\n",
              "      <th></th>\n",
              "      <th></th>\n",
              "    </tr>\n",
              "  </thead>\n",
              "  <tbody>\n",
              "    <tr>\n",
              "      <th>Mumbai</th>\n",
              "      <td>0.407927</td>\n",
              "      <td>1.056804</td>\n",
              "    </tr>\n",
              "    <tr>\n",
              "      <th>Other Cities</th>\n",
              "      <td>0.389522</td>\n",
              "      <td>1.009123</td>\n",
              "    </tr>\n",
              "    <tr>\n",
              "      <th>Other Cities of Maharashtra</th>\n",
              "      <td>0.427119</td>\n",
              "      <td>1.106525</td>\n",
              "    </tr>\n",
              "    <tr>\n",
              "      <th>Other Metro Cities</th>\n",
              "      <td>0.410359</td>\n",
              "      <td>1.063105</td>\n",
              "    </tr>\n",
              "    <tr>\n",
              "      <th>Select</th>\n",
              "      <td>0.343924</td>\n",
              "      <td>0.890996</td>\n",
              "    </tr>\n",
              "    <tr>\n",
              "      <th>Thane &amp; Outskirts</th>\n",
              "      <td>0.457906</td>\n",
              "      <td>1.186284</td>\n",
              "    </tr>\n",
              "    <tr>\n",
              "      <th>Tier II Cities</th>\n",
              "      <td>0.372093</td>\n",
              "      <td>0.963972</td>\n",
              "    </tr>\n",
              "  </tbody>\n",
              "</table>\n",
              "</div>"
            ],
            "text/plain": [
              "                                 mean  reliability\n",
              "city                                              \n",
              "Mumbai                       0.407927     1.056804\n",
              "Other Cities                 0.389522     1.009123\n",
              "Other Cities of Maharashtra  0.427119     1.106525\n",
              "Other Metro Cities           0.410359     1.063105\n",
              "Select                       0.343924     0.890996\n",
              "Thane & Outskirts            0.457906     1.186284\n",
              "Tier II Cities               0.372093     0.963972"
            ]
          },
          "execution_count": 442,
          "metadata": {},
          "output_type": "execute_result"
        }
      ],
      "source": [
        "converted_stat('city')"
      ]
    },
    {
      "cell_type": "code",
      "execution_count": 443,
      "metadata": {
        "colab": {
          "base_uri": "https://localhost:8080/",
          "height": 143
        },
        "id": "g80GlESlGJ-n",
        "outputId": "cea0749f-1f70-4846-cd75-4a9697632147"
      },
      "outputs": [
        {
          "data": {
            "text/html": [
              "<div>\n",
              "<style scoped>\n",
              "    .dataframe tbody tr th:only-of-type {\n",
              "        vertical-align: middle;\n",
              "    }\n",
              "\n",
              "    .dataframe tbody tr th {\n",
              "        vertical-align: top;\n",
              "    }\n",
              "\n",
              "    .dataframe thead th {\n",
              "        text-align: right;\n",
              "    }\n",
              "</style>\n",
              "<table border=\"1\" class=\"dataframe\">\n",
              "  <thead>\n",
              "    <tr style=\"text-align: right;\">\n",
              "      <th></th>\n",
              "      <th>mean</th>\n",
              "      <th>reliability</th>\n",
              "    </tr>\n",
              "    <tr>\n",
              "      <th>a_free_copy_of_mastering_the_interview</th>\n",
              "      <th></th>\n",
              "      <th></th>\n",
              "    </tr>\n",
              "  </thead>\n",
              "  <tbody>\n",
              "    <tr>\n",
              "      <th>No</th>\n",
              "      <td>0.399409</td>\n",
              "      <td>1.034738</td>\n",
              "    </tr>\n",
              "    <tr>\n",
              "      <th>Yes</th>\n",
              "      <td>0.357451</td>\n",
              "      <td>0.926040</td>\n",
              "    </tr>\n",
              "  </tbody>\n",
              "</table>\n",
              "</div>"
            ],
            "text/plain": [
              "                                            mean  reliability\n",
              "a_free_copy_of_mastering_the_interview                       \n",
              "No                                      0.399409     1.034738\n",
              "Yes                                     0.357451     0.926040"
            ]
          },
          "execution_count": 443,
          "metadata": {},
          "output_type": "execute_result"
        }
      ],
      "source": [
        "converted_stat('a_free_copy_of_mastering_the_interview')"
      ]
    },
    {
      "cell_type": "markdown",
      "metadata": {
        "id": "G2EK_Gh67jjP"
      },
      "source": [
        "People who have submitted the Lead Add Form and Quick Add Form are most likely to be converted."
      ]
    },
    {
      "cell_type": "markdown",
      "metadata": {
        "id": "J0bCUOx0707o"
      },
      "source": [
        "# Logistic Regression"
      ]
    },
    {
      "cell_type": "code",
      "execution_count": 444,
      "metadata": {
        "colab": {
          "base_uri": "https://localhost:8080/",
          "height": 833
        },
        "id": "H3CMFXadDXhq",
        "outputId": "c7c6acf2-db9f-47c4-b593-84a12cef562a"
      },
      "outputs": [
        {
          "data": {
            "text/html": [
              "<div>\n",
              "<style scoped>\n",
              "    .dataframe tbody tr th:only-of-type {\n",
              "        vertical-align: middle;\n",
              "    }\n",
              "\n",
              "    .dataframe tbody tr th {\n",
              "        vertical-align: top;\n",
              "    }\n",
              "\n",
              "    .dataframe thead th {\n",
              "        text-align: right;\n",
              "    }\n",
              "</style>\n",
              "<table border=\"1\" class=\"dataframe\">\n",
              "  <thead>\n",
              "    <tr style=\"text-align: right;\">\n",
              "      <th></th>\n",
              "      <th>Mi</th>\n",
              "    </tr>\n",
              "  </thead>\n",
              "  <tbody>\n",
              "    <tr>\n",
              "      <th>what_is_your_current_occupation</th>\n",
              "      <td>0.095197</td>\n",
              "    </tr>\n",
              "    <tr>\n",
              "      <th>last_activity</th>\n",
              "      <td>0.088512</td>\n",
              "    </tr>\n",
              "    <tr>\n",
              "      <th>lead_profile</th>\n",
              "      <td>0.082869</td>\n",
              "    </tr>\n",
              "    <tr>\n",
              "      <th>last_notable_activity</th>\n",
              "      <td>0.073860</td>\n",
              "    </tr>\n",
              "    <tr>\n",
              "      <th>lead_source</th>\n",
              "      <td>0.061560</td>\n",
              "    </tr>\n",
              "    <tr>\n",
              "      <th>what_matters_most_to_you_in_choosing_a_course</th>\n",
              "      <td>0.060058</td>\n",
              "    </tr>\n",
              "    <tr>\n",
              "      <th>lead_origin</th>\n",
              "      <td>0.056251</td>\n",
              "    </tr>\n",
              "    <tr>\n",
              "      <th>specialization</th>\n",
              "      <td>0.014624</td>\n",
              "    </tr>\n",
              "    <tr>\n",
              "      <th>do_not_email</th>\n",
              "      <td>0.010327</td>\n",
              "    </tr>\n",
              "    <tr>\n",
              "      <th>city</th>\n",
              "      <td>0.003002</td>\n",
              "    </tr>\n",
              "    <tr>\n",
              "      <th>country</th>\n",
              "      <td>0.002936</td>\n",
              "    </tr>\n",
              "    <tr>\n",
              "      <th>how_did_you_hear_about_x_education</th>\n",
              "      <td>0.001446</td>\n",
              "    </tr>\n",
              "    <tr>\n",
              "      <th>a_free_copy_of_mastering_the_interview</th>\n",
              "      <td>0.000797</td>\n",
              "    </tr>\n",
              "    <tr>\n",
              "      <th>do_not_call</th>\n",
              "      <td>0.000206</td>\n",
              "    </tr>\n",
              "    <tr>\n",
              "      <th>through_recommendations</th>\n",
              "      <td>0.000168</td>\n",
              "    </tr>\n",
              "    <tr>\n",
              "      <th>newspaper</th>\n",
              "      <td>0.000053</td>\n",
              "    </tr>\n",
              "    <tr>\n",
              "      <th>x_education_forums</th>\n",
              "      <td>0.000053</td>\n",
              "    </tr>\n",
              "    <tr>\n",
              "      <th>digital_advertisement</th>\n",
              "      <td>0.000018</td>\n",
              "    </tr>\n",
              "    <tr>\n",
              "      <th>newspaper_article</th>\n",
              "      <td>0.000006</td>\n",
              "    </tr>\n",
              "    <tr>\n",
              "      <th>search</th>\n",
              "      <td>0.000003</td>\n",
              "    </tr>\n",
              "    <tr>\n",
              "      <th>receive_more_updates_about_our_courses</th>\n",
              "      <td>0.000000</td>\n",
              "    </tr>\n",
              "    <tr>\n",
              "      <th>update_me_on_supply_chain_content</th>\n",
              "      <td>0.000000</td>\n",
              "    </tr>\n",
              "    <tr>\n",
              "      <th>get_updates_on_dm_content</th>\n",
              "      <td>0.000000</td>\n",
              "    </tr>\n",
              "    <tr>\n",
              "      <th>magazine</th>\n",
              "      <td>0.000000</td>\n",
              "    </tr>\n",
              "    <tr>\n",
              "      <th>i_agree_to_pay_the_amount_through_cheque</th>\n",
              "      <td>0.000000</td>\n",
              "    </tr>\n",
              "  </tbody>\n",
              "</table>\n",
              "</div>"
            ],
            "text/plain": [
              "                                                     Mi\n",
              "what_is_your_current_occupation                0.095197\n",
              "last_activity                                  0.088512\n",
              "lead_profile                                   0.082869\n",
              "last_notable_activity                          0.073860\n",
              "lead_source                                    0.061560\n",
              "what_matters_most_to_you_in_choosing_a_course  0.060058\n",
              "lead_origin                                    0.056251\n",
              "specialization                                 0.014624\n",
              "do_not_email                                   0.010327\n",
              "city                                           0.003002\n",
              "country                                        0.002936\n",
              "how_did_you_hear_about_x_education             0.001446\n",
              "a_free_copy_of_mastering_the_interview         0.000797\n",
              "do_not_call                                    0.000206\n",
              "through_recommendations                        0.000168\n",
              "newspaper                                      0.000053\n",
              "x_education_forums                             0.000053\n",
              "digital_advertisement                          0.000018\n",
              "newspaper_article                              0.000006\n",
              "search                                         0.000003\n",
              "receive_more_updates_about_our_courses         0.000000\n",
              "update_me_on_supply_chain_content              0.000000\n",
              "get_updates_on_dm_content                      0.000000\n",
              "magazine                                       0.000000\n",
              "i_agree_to_pay_the_amount_through_cheque       0.000000"
            ]
          },
          "execution_count": 444,
          "metadata": {},
          "output_type": "execute_result"
        }
      ],
      "source": [
        "from sklearn.metrics import mutual_info_score\n",
        "\n",
        "def calculate_mi(series):\n",
        "    return mutual_info_score(series, leads['converted'])\n",
        "\n",
        "data_mi = leads[categorical].apply(calculate_mi)\n",
        "data_mi = data_mi.sort_values(ascending=False).to_frame(name='Mi')\n",
        "data_mi"
      ]
    },
    {
      "cell_type": "code",
      "execution_count": 445,
      "metadata": {
        "colab": {
          "base_uri": "https://localhost:8080/",
          "height": 143
        },
        "id": "jzBpHQE1B28v",
        "outputId": "d063d5ee-1750-4b0f-89e6-625a56e7283d"
      },
      "outputs": [
        {
          "data": {
            "text/html": [
              "<div>\n",
              "<style scoped>\n",
              "    .dataframe tbody tr th:only-of-type {\n",
              "        vertical-align: middle;\n",
              "    }\n",
              "\n",
              "    .dataframe tbody tr th {\n",
              "        vertical-align: top;\n",
              "    }\n",
              "\n",
              "    .dataframe thead th {\n",
              "        text-align: right;\n",
              "    }\n",
              "</style>\n",
              "<table border=\"1\" class=\"dataframe\">\n",
              "  <thead>\n",
              "    <tr style=\"text-align: right;\">\n",
              "      <th></th>\n",
              "      <th>Correlations</th>\n",
              "    </tr>\n",
              "  </thead>\n",
              "  <tbody>\n",
              "    <tr>\n",
              "      <th>totalvisits</th>\n",
              "      <td>0.029119</td>\n",
              "    </tr>\n",
              "    <tr>\n",
              "      <th>total_time_spent_on_website</th>\n",
              "      <td>0.362483</td>\n",
              "    </tr>\n",
              "    <tr>\n",
              "      <th>page_views_per_visit</th>\n",
              "      <td>-0.005068</td>\n",
              "    </tr>\n",
              "  </tbody>\n",
              "</table>\n",
              "</div>"
            ],
            "text/plain": [
              "                             Correlations\n",
              "totalvisits                      0.029119\n",
              "total_time_spent_on_website      0.362483\n",
              "page_views_per_visit            -0.005068"
            ]
          },
          "execution_count": 445,
          "metadata": {},
          "output_type": "execute_result"
        }
      ],
      "source": [
        "leads[numerical].corrwith(leads['converted']).to_frame('Correlations')"
      ]
    },
    {
      "cell_type": "code",
      "execution_count": 446,
      "metadata": {
        "id": "6TyD0F8hDR6o"
      },
      "outputs": [],
      "source": [
        "cat = list(data_mi.iloc[0:9,:].index)"
      ]
    },
    {
      "cell_type": "code",
      "execution_count": 447,
      "metadata": {
        "colab": {
          "base_uri": "https://localhost:8080/"
        },
        "id": "BMR_12SYIN_v",
        "outputId": "7369981e-f513-4ea5-acad-425828566554"
      },
      "outputs": [
        {
          "data": {
            "text/plain": [
              "['what_is_your_current_occupation',\n",
              " 'last_activity',\n",
              " 'lead_profile',\n",
              " 'last_notable_activity',\n",
              " 'lead_source',\n",
              " 'what_matters_most_to_you_in_choosing_a_course',\n",
              " 'lead_origin',\n",
              " 'specialization',\n",
              " 'do_not_email']"
            ]
          },
          "execution_count": 447,
          "metadata": {},
          "output_type": "execute_result"
        }
      ],
      "source": [
        "cat"
      ]
    },
    {
      "cell_type": "code",
      "execution_count": 448,
      "metadata": {
        "id": "iUt7TSSZIUyw"
      },
      "outputs": [],
      "source": [
        "train_dict = train_X[cat+numerical].to_dict(orient='records')"
      ]
    },
    {
      "cell_type": "code",
      "execution_count": 449,
      "metadata": {
        "colab": {
          "base_uri": "https://localhost:8080/"
        },
        "id": "j0vRpG9MIYay",
        "outputId": "a2829c38-5125-48cb-b915-90210dcedb5c"
      },
      "outputs": [
        {
          "data": {
            "text/plain": [
              "{'what_is_your_current_occupation': 'Unemployed',\n",
              " 'last_activity': 'SMS Sent',\n",
              " 'lead_profile': 'Select',\n",
              " 'last_notable_activity': 'SMS Sent',\n",
              " 'lead_source': 'Direct Traffic',\n",
              " 'what_matters_most_to_you_in_choosing_a_course': 'Better Career Prospects',\n",
              " 'lead_origin': 'Landing Page Submission',\n",
              " 'specialization': 'Supply Chain Management',\n",
              " 'do_not_email': 'No',\n",
              " 'totalvisits': 4.0,\n",
              " 'total_time_spent_on_website': 1376,\n",
              " 'page_views_per_visit': 4.0}"
            ]
          },
          "execution_count": 449,
          "metadata": {},
          "output_type": "execute_result"
        }
      ],
      "source": [
        "train_dict[0]"
      ]
    },
    {
      "cell_type": "code",
      "execution_count": 450,
      "metadata": {
        "id": "fnZXdq2bIclh"
      },
      "outputs": [],
      "source": [
        "from sklearn.feature_extraction import DictVectorizer\n",
        "\n",
        "dv = DictVectorizer(sparse=False)\n",
        "X_train = dv.fit_transform(train_dict)"
      ]
    },
    {
      "cell_type": "code",
      "execution_count": 451,
      "metadata": {
        "colab": {
          "base_uri": "https://localhost:8080/"
        },
        "id": "eME-xglUInsX",
        "outputId": "d9ada997-0c0b-4af4-a365-06d24dbd8a48"
      },
      "outputs": [
        {
          "data": {
            "text/plain": [
              "12"
            ]
          },
          "execution_count": 451,
          "metadata": {},
          "output_type": "execute_result"
        }
      ],
      "source": [
        "len(train_dict[0])"
      ]
    },
    {
      "cell_type": "code",
      "execution_count": 452,
      "metadata": {
        "id": "jWjG4_s4IqwU"
      },
      "outputs": [],
      "source": [
        "#dv.get_feature_names()"
      ]
    },
    {
      "cell_type": "code",
      "execution_count": 455,
      "metadata": {
        "id": "eu8z9ONWC2e7"
      },
      "outputs": [],
      "source": [
        "val_dict = val_X[cat+numerical].to_dict(orient='records')\n",
        "X_val = dv.transform(val_dict)"
      ]
    },
    {
      "cell_type": "code",
      "execution_count": 456,
      "metadata": {
        "colab": {
          "base_uri": "https://localhost:8080/"
        },
        "id": "xh9pdHyoC3Th",
        "outputId": "4214fe5d-f30b-42ac-cc5f-61a14547ee6f"
      },
      "outputs": [
        {
          "data": {
            "text/plain": [
              "94"
            ]
          },
          "execution_count": 456,
          "metadata": {},
          "output_type": "execute_result"
        }
      ],
      "source": [
        "len(X_val[0])"
      ]
    },
    {
      "cell_type": "code",
      "execution_count": 457,
      "metadata": {
        "colab": {
          "base_uri": "https://localhost:8080/",
          "height": 74
        },
        "id": "kiNNrE_uIzAe",
        "outputId": "32021250-9b33-4174-c8ff-43a4532500dc"
      },
      "outputs": [
        {
          "data": {
            "text/html": [
              "<style>#sk-container-id-1 {\n",
              "  /* Definition of color scheme common for light and dark mode */\n",
              "  --sklearn-color-text: black;\n",
              "  --sklearn-color-line: gray;\n",
              "  /* Definition of color scheme for unfitted estimators */\n",
              "  --sklearn-color-unfitted-level-0: #fff5e6;\n",
              "  --sklearn-color-unfitted-level-1: #f6e4d2;\n",
              "  --sklearn-color-unfitted-level-2: #ffe0b3;\n",
              "  --sklearn-color-unfitted-level-3: chocolate;\n",
              "  /* Definition of color scheme for fitted estimators */\n",
              "  --sklearn-color-fitted-level-0: #f0f8ff;\n",
              "  --sklearn-color-fitted-level-1: #d4ebff;\n",
              "  --sklearn-color-fitted-level-2: #b3dbfd;\n",
              "  --sklearn-color-fitted-level-3: cornflowerblue;\n",
              "\n",
              "  /* Specific color for light theme */\n",
              "  --sklearn-color-text-on-default-background: var(--sg-text-color, var(--theme-code-foreground, var(--jp-content-font-color1, black)));\n",
              "  --sklearn-color-background: var(--sg-background-color, var(--theme-background, var(--jp-layout-color0, white)));\n",
              "  --sklearn-color-border-box: var(--sg-text-color, var(--theme-code-foreground, var(--jp-content-font-color1, black)));\n",
              "  --sklearn-color-icon: #696969;\n",
              "\n",
              "  @media (prefers-color-scheme: dark) {\n",
              "    /* Redefinition of color scheme for dark theme */\n",
              "    --sklearn-color-text-on-default-background: var(--sg-text-color, var(--theme-code-foreground, var(--jp-content-font-color1, white)));\n",
              "    --sklearn-color-background: var(--sg-background-color, var(--theme-background, var(--jp-layout-color0, #111)));\n",
              "    --sklearn-color-border-box: var(--sg-text-color, var(--theme-code-foreground, var(--jp-content-font-color1, white)));\n",
              "    --sklearn-color-icon: #878787;\n",
              "  }\n",
              "}\n",
              "\n",
              "#sk-container-id-1 {\n",
              "  color: var(--sklearn-color-text);\n",
              "}\n",
              "\n",
              "#sk-container-id-1 pre {\n",
              "  padding: 0;\n",
              "}\n",
              "\n",
              "#sk-container-id-1 input.sk-hidden--visually {\n",
              "  border: 0;\n",
              "  clip: rect(1px 1px 1px 1px);\n",
              "  clip: rect(1px, 1px, 1px, 1px);\n",
              "  height: 1px;\n",
              "  margin: -1px;\n",
              "  overflow: hidden;\n",
              "  padding: 0;\n",
              "  position: absolute;\n",
              "  width: 1px;\n",
              "}\n",
              "\n",
              "#sk-container-id-1 div.sk-dashed-wrapped {\n",
              "  border: 1px dashed var(--sklearn-color-line);\n",
              "  margin: 0 0.4em 0.5em 0.4em;\n",
              "  box-sizing: border-box;\n",
              "  padding-bottom: 0.4em;\n",
              "  background-color: var(--sklearn-color-background);\n",
              "}\n",
              "\n",
              "#sk-container-id-1 div.sk-container {\n",
              "  /* jupyter's `normalize.less` sets `[hidden] { display: none; }`\n",
              "     but bootstrap.min.css set `[hidden] { display: none !important; }`\n",
              "     so we also need the `!important` here to be able to override the\n",
              "     default hidden behavior on the sphinx rendered scikit-learn.org.\n",
              "     See: https://github.com/scikit-learn/scikit-learn/issues/21755 */\n",
              "  display: inline-block !important;\n",
              "  position: relative;\n",
              "}\n",
              "\n",
              "#sk-container-id-1 div.sk-text-repr-fallback {\n",
              "  display: none;\n",
              "}\n",
              "\n",
              "div.sk-parallel-item,\n",
              "div.sk-serial,\n",
              "div.sk-item {\n",
              "  /* draw centered vertical line to link estimators */\n",
              "  background-image: linear-gradient(var(--sklearn-color-text-on-default-background), var(--sklearn-color-text-on-default-background));\n",
              "  background-size: 2px 100%;\n",
              "  background-repeat: no-repeat;\n",
              "  background-position: center center;\n",
              "}\n",
              "\n",
              "/* Parallel-specific style estimator block */\n",
              "\n",
              "#sk-container-id-1 div.sk-parallel-item::after {\n",
              "  content: \"\";\n",
              "  width: 100%;\n",
              "  border-bottom: 2px solid var(--sklearn-color-text-on-default-background);\n",
              "  flex-grow: 1;\n",
              "}\n",
              "\n",
              "#sk-container-id-1 div.sk-parallel {\n",
              "  display: flex;\n",
              "  align-items: stretch;\n",
              "  justify-content: center;\n",
              "  background-color: var(--sklearn-color-background);\n",
              "  position: relative;\n",
              "}\n",
              "\n",
              "#sk-container-id-1 div.sk-parallel-item {\n",
              "  display: flex;\n",
              "  flex-direction: column;\n",
              "}\n",
              "\n",
              "#sk-container-id-1 div.sk-parallel-item:first-child::after {\n",
              "  align-self: flex-end;\n",
              "  width: 50%;\n",
              "}\n",
              "\n",
              "#sk-container-id-1 div.sk-parallel-item:last-child::after {\n",
              "  align-self: flex-start;\n",
              "  width: 50%;\n",
              "}\n",
              "\n",
              "#sk-container-id-1 div.sk-parallel-item:only-child::after {\n",
              "  width: 0;\n",
              "}\n",
              "\n",
              "/* Serial-specific style estimator block */\n",
              "\n",
              "#sk-container-id-1 div.sk-serial {\n",
              "  display: flex;\n",
              "  flex-direction: column;\n",
              "  align-items: center;\n",
              "  background-color: var(--sklearn-color-background);\n",
              "  padding-right: 1em;\n",
              "  padding-left: 1em;\n",
              "}\n",
              "\n",
              "\n",
              "/* Toggleable style: style used for estimator/Pipeline/ColumnTransformer box that is\n",
              "clickable and can be expanded/collapsed.\n",
              "- Pipeline and ColumnTransformer use this feature and define the default style\n",
              "- Estimators will overwrite some part of the style using the `sk-estimator` class\n",
              "*/\n",
              "\n",
              "/* Pipeline and ColumnTransformer style (default) */\n",
              "\n",
              "#sk-container-id-1 div.sk-toggleable {\n",
              "  /* Default theme specific background. It is overwritten whether we have a\n",
              "  specific estimator or a Pipeline/ColumnTransformer */\n",
              "  background-color: var(--sklearn-color-background);\n",
              "}\n",
              "\n",
              "/* Toggleable label */\n",
              "#sk-container-id-1 label.sk-toggleable__label {\n",
              "  cursor: pointer;\n",
              "  display: block;\n",
              "  width: 100%;\n",
              "  margin-bottom: 0;\n",
              "  padding: 0.5em;\n",
              "  box-sizing: border-box;\n",
              "  text-align: center;\n",
              "}\n",
              "\n",
              "#sk-container-id-1 label.sk-toggleable__label-arrow:before {\n",
              "  /* Arrow on the left of the label */\n",
              "  content: \"▸\";\n",
              "  float: left;\n",
              "  margin-right: 0.25em;\n",
              "  color: var(--sklearn-color-icon);\n",
              "}\n",
              "\n",
              "#sk-container-id-1 label.sk-toggleable__label-arrow:hover:before {\n",
              "  color: var(--sklearn-color-text);\n",
              "}\n",
              "\n",
              "/* Toggleable content - dropdown */\n",
              "\n",
              "#sk-container-id-1 div.sk-toggleable__content {\n",
              "  max-height: 0;\n",
              "  max-width: 0;\n",
              "  overflow: hidden;\n",
              "  text-align: left;\n",
              "  /* unfitted */\n",
              "  background-color: var(--sklearn-color-unfitted-level-0);\n",
              "}\n",
              "\n",
              "#sk-container-id-1 div.sk-toggleable__content.fitted {\n",
              "  /* fitted */\n",
              "  background-color: var(--sklearn-color-fitted-level-0);\n",
              "}\n",
              "\n",
              "#sk-container-id-1 div.sk-toggleable__content pre {\n",
              "  margin: 0.2em;\n",
              "  border-radius: 0.25em;\n",
              "  color: var(--sklearn-color-text);\n",
              "  /* unfitted */\n",
              "  background-color: var(--sklearn-color-unfitted-level-0);\n",
              "}\n",
              "\n",
              "#sk-container-id-1 div.sk-toggleable__content.fitted pre {\n",
              "  /* unfitted */\n",
              "  background-color: var(--sklearn-color-fitted-level-0);\n",
              "}\n",
              "\n",
              "#sk-container-id-1 input.sk-toggleable__control:checked~div.sk-toggleable__content {\n",
              "  /* Expand drop-down */\n",
              "  max-height: 200px;\n",
              "  max-width: 100%;\n",
              "  overflow: auto;\n",
              "}\n",
              "\n",
              "#sk-container-id-1 input.sk-toggleable__control:checked~label.sk-toggleable__label-arrow:before {\n",
              "  content: \"▾\";\n",
              "}\n",
              "\n",
              "/* Pipeline/ColumnTransformer-specific style */\n",
              "\n",
              "#sk-container-id-1 div.sk-label input.sk-toggleable__control:checked~label.sk-toggleable__label {\n",
              "  color: var(--sklearn-color-text);\n",
              "  background-color: var(--sklearn-color-unfitted-level-2);\n",
              "}\n",
              "\n",
              "#sk-container-id-1 div.sk-label.fitted input.sk-toggleable__control:checked~label.sk-toggleable__label {\n",
              "  background-color: var(--sklearn-color-fitted-level-2);\n",
              "}\n",
              "\n",
              "/* Estimator-specific style */\n",
              "\n",
              "/* Colorize estimator box */\n",
              "#sk-container-id-1 div.sk-estimator input.sk-toggleable__control:checked~label.sk-toggleable__label {\n",
              "  /* unfitted */\n",
              "  background-color: var(--sklearn-color-unfitted-level-2);\n",
              "}\n",
              "\n",
              "#sk-container-id-1 div.sk-estimator.fitted input.sk-toggleable__control:checked~label.sk-toggleable__label {\n",
              "  /* fitted */\n",
              "  background-color: var(--sklearn-color-fitted-level-2);\n",
              "}\n",
              "\n",
              "#sk-container-id-1 div.sk-label label.sk-toggleable__label,\n",
              "#sk-container-id-1 div.sk-label label {\n",
              "  /* The background is the default theme color */\n",
              "  color: var(--sklearn-color-text-on-default-background);\n",
              "}\n",
              "\n",
              "/* On hover, darken the color of the background */\n",
              "#sk-container-id-1 div.sk-label:hover label.sk-toggleable__label {\n",
              "  color: var(--sklearn-color-text);\n",
              "  background-color: var(--sklearn-color-unfitted-level-2);\n",
              "}\n",
              "\n",
              "/* Label box, darken color on hover, fitted */\n",
              "#sk-container-id-1 div.sk-label.fitted:hover label.sk-toggleable__label.fitted {\n",
              "  color: var(--sklearn-color-text);\n",
              "  background-color: var(--sklearn-color-fitted-level-2);\n",
              "}\n",
              "\n",
              "/* Estimator label */\n",
              "\n",
              "#sk-container-id-1 div.sk-label label {\n",
              "  font-family: monospace;\n",
              "  font-weight: bold;\n",
              "  display: inline-block;\n",
              "  line-height: 1.2em;\n",
              "}\n",
              "\n",
              "#sk-container-id-1 div.sk-label-container {\n",
              "  text-align: center;\n",
              "}\n",
              "\n",
              "/* Estimator-specific */\n",
              "#sk-container-id-1 div.sk-estimator {\n",
              "  font-family: monospace;\n",
              "  border: 1px dotted var(--sklearn-color-border-box);\n",
              "  border-radius: 0.25em;\n",
              "  box-sizing: border-box;\n",
              "  margin-bottom: 0.5em;\n",
              "  /* unfitted */\n",
              "  background-color: var(--sklearn-color-unfitted-level-0);\n",
              "}\n",
              "\n",
              "#sk-container-id-1 div.sk-estimator.fitted {\n",
              "  /* fitted */\n",
              "  background-color: var(--sklearn-color-fitted-level-0);\n",
              "}\n",
              "\n",
              "/* on hover */\n",
              "#sk-container-id-1 div.sk-estimator:hover {\n",
              "  /* unfitted */\n",
              "  background-color: var(--sklearn-color-unfitted-level-2);\n",
              "}\n",
              "\n",
              "#sk-container-id-1 div.sk-estimator.fitted:hover {\n",
              "  /* fitted */\n",
              "  background-color: var(--sklearn-color-fitted-level-2);\n",
              "}\n",
              "\n",
              "/* Specification for estimator info (e.g. \"i\" and \"?\") */\n",
              "\n",
              "/* Common style for \"i\" and \"?\" */\n",
              "\n",
              ".sk-estimator-doc-link,\n",
              "a:link.sk-estimator-doc-link,\n",
              "a:visited.sk-estimator-doc-link {\n",
              "  float: right;\n",
              "  font-size: smaller;\n",
              "  line-height: 1em;\n",
              "  font-family: monospace;\n",
              "  background-color: var(--sklearn-color-background);\n",
              "  border-radius: 1em;\n",
              "  height: 1em;\n",
              "  width: 1em;\n",
              "  text-decoration: none !important;\n",
              "  margin-left: 1ex;\n",
              "  /* unfitted */\n",
              "  border: var(--sklearn-color-unfitted-level-1) 1pt solid;\n",
              "  color: var(--sklearn-color-unfitted-level-1);\n",
              "}\n",
              "\n",
              ".sk-estimator-doc-link.fitted,\n",
              "a:link.sk-estimator-doc-link.fitted,\n",
              "a:visited.sk-estimator-doc-link.fitted {\n",
              "  /* fitted */\n",
              "  border: var(--sklearn-color-fitted-level-1) 1pt solid;\n",
              "  color: var(--sklearn-color-fitted-level-1);\n",
              "}\n",
              "\n",
              "/* On hover */\n",
              "div.sk-estimator:hover .sk-estimator-doc-link:hover,\n",
              ".sk-estimator-doc-link:hover,\n",
              "div.sk-label-container:hover .sk-estimator-doc-link:hover,\n",
              ".sk-estimator-doc-link:hover {\n",
              "  /* unfitted */\n",
              "  background-color: var(--sklearn-color-unfitted-level-3);\n",
              "  color: var(--sklearn-color-background);\n",
              "  text-decoration: none;\n",
              "}\n",
              "\n",
              "div.sk-estimator.fitted:hover .sk-estimator-doc-link.fitted:hover,\n",
              ".sk-estimator-doc-link.fitted:hover,\n",
              "div.sk-label-container:hover .sk-estimator-doc-link.fitted:hover,\n",
              ".sk-estimator-doc-link.fitted:hover {\n",
              "  /* fitted */\n",
              "  background-color: var(--sklearn-color-fitted-level-3);\n",
              "  color: var(--sklearn-color-background);\n",
              "  text-decoration: none;\n",
              "}\n",
              "\n",
              "/* Span, style for the box shown on hovering the info icon */\n",
              ".sk-estimator-doc-link span {\n",
              "  display: none;\n",
              "  z-index: 9999;\n",
              "  position: relative;\n",
              "  font-weight: normal;\n",
              "  right: .2ex;\n",
              "  padding: .5ex;\n",
              "  margin: .5ex;\n",
              "  width: min-content;\n",
              "  min-width: 20ex;\n",
              "  max-width: 50ex;\n",
              "  color: var(--sklearn-color-text);\n",
              "  box-shadow: 2pt 2pt 4pt #999;\n",
              "  /* unfitted */\n",
              "  background: var(--sklearn-color-unfitted-level-0);\n",
              "  border: .5pt solid var(--sklearn-color-unfitted-level-3);\n",
              "}\n",
              "\n",
              ".sk-estimator-doc-link.fitted span {\n",
              "  /* fitted */\n",
              "  background: var(--sklearn-color-fitted-level-0);\n",
              "  border: var(--sklearn-color-fitted-level-3);\n",
              "}\n",
              "\n",
              ".sk-estimator-doc-link:hover span {\n",
              "  display: block;\n",
              "}\n",
              "\n",
              "/* \"?\"-specific style due to the `<a>` HTML tag */\n",
              "\n",
              "#sk-container-id-1 a.estimator_doc_link {\n",
              "  float: right;\n",
              "  font-size: 1rem;\n",
              "  line-height: 1em;\n",
              "  font-family: monospace;\n",
              "  background-color: var(--sklearn-color-background);\n",
              "  border-radius: 1rem;\n",
              "  height: 1rem;\n",
              "  width: 1rem;\n",
              "  text-decoration: none;\n",
              "  /* unfitted */\n",
              "  color: var(--sklearn-color-unfitted-level-1);\n",
              "  border: var(--sklearn-color-unfitted-level-1) 1pt solid;\n",
              "}\n",
              "\n",
              "#sk-container-id-1 a.estimator_doc_link.fitted {\n",
              "  /* fitted */\n",
              "  border: var(--sklearn-color-fitted-level-1) 1pt solid;\n",
              "  color: var(--sklearn-color-fitted-level-1);\n",
              "}\n",
              "\n",
              "/* On hover */\n",
              "#sk-container-id-1 a.estimator_doc_link:hover {\n",
              "  /* unfitted */\n",
              "  background-color: var(--sklearn-color-unfitted-level-3);\n",
              "  color: var(--sklearn-color-background);\n",
              "  text-decoration: none;\n",
              "}\n",
              "\n",
              "#sk-container-id-1 a.estimator_doc_link.fitted:hover {\n",
              "  /* fitted */\n",
              "  background-color: var(--sklearn-color-fitted-level-3);\n",
              "}\n",
              "</style><div id=\"sk-container-id-1\" class=\"sk-top-container\"><div class=\"sk-text-repr-fallback\"><pre>LogisticRegression(random_state=1, solver=&#x27;liblinear&#x27;)</pre><b>In a Jupyter environment, please rerun this cell to show the HTML representation or trust the notebook. <br />On GitHub, the HTML representation is unable to render, please try loading this page with nbviewer.org.</b></div><div class=\"sk-container\" hidden><div class=\"sk-item\"><div class=\"sk-estimator fitted sk-toggleable\"><input class=\"sk-toggleable__control sk-hidden--visually\" id=\"sk-estimator-id-1\" type=\"checkbox\" checked><label for=\"sk-estimator-id-1\" class=\"sk-toggleable__label fitted sk-toggleable__label-arrow fitted\">&nbsp;&nbsp;LogisticRegression<a class=\"sk-estimator-doc-link fitted\" rel=\"noreferrer\" target=\"_blank\" href=\"https://scikit-learn.org/1.4/modules/generated/sklearn.linear_model.LogisticRegression.html\">?<span>Documentation for LogisticRegression</span></a><span class=\"sk-estimator-doc-link fitted\">i<span>Fitted</span></span></label><div class=\"sk-toggleable__content fitted\"><pre>LogisticRegression(random_state=1, solver=&#x27;liblinear&#x27;)</pre></div> </div></div></div></div>"
            ],
            "text/plain": [
              "LogisticRegression(random_state=1, solver='liblinear')"
            ]
          },
          "execution_count": 457,
          "metadata": {},
          "output_type": "execute_result"
        }
      ],
      "source": [
        "from sklearn.linear_model import LogisticRegression\n",
        "\n",
        "model = LogisticRegression(solver='liblinear', random_state=1)\n",
        "model.fit(X_train, train_y)"
      ]
    },
    {
      "cell_type": "code",
      "execution_count": 458,
      "metadata": {
        "id": "eaRn-ReHI9Iv"
      },
      "outputs": [],
      "source": [
        "preds = model.predict_proba(X_val)[:,1]"
      ]
    },
    {
      "cell_type": "code",
      "execution_count": 459,
      "metadata": {
        "colab": {
          "base_uri": "https://localhost:8080/"
        },
        "id": "gxEfAh9e2vuD",
        "outputId": "22bca8f7-faed-4599-b546-c5d9248af1de"
      },
      "outputs": [
        {
          "data": {
            "text/plain": [
              "array([  0.,   1.,   0.,   0.,   0.,   0.,   0.,   0.,   0.,   0.,   0.,\n",
              "         0.,   0.,   0.,   0.,   1.,   0.,   0.,   0.,   0.,   0.,   0.,\n",
              "         0.,   0.,   0.,   0.,   0.,   0.,   0.,   0.,   1.,   0.,   0.,\n",
              "         0.,   0.,   1.,   0.,   0.,   0.,   0.,   0.,   0.,   0.,   1.,\n",
              "         0.,   0.,   1.,   0.,   0.,   0.,   0.,   0.,   0.,   0.,   0.,\n",
              "         0.,   0.,   0.,   0.,   0.,   0.,   0.,   0.,   0.,   3.,   0.,\n",
              "         0.,   0.,   0.,   1.,   0.,   0.,   0.,   0.,   0.,   0.,   0.,\n",
              "         0.,   0.,   0.,   0.,   0.,   0.,   0., 296.,   3.,   0.,   0.,\n",
              "         0.,   0.,   1.,   0.,   1.,   0.])"
            ]
          },
          "execution_count": 459,
          "metadata": {},
          "output_type": "execute_result"
        }
      ],
      "source": [
        "X_val[12]"
      ]
    },
    {
      "cell_type": "code",
      "execution_count": 460,
      "metadata": {
        "colab": {
          "base_uri": "https://localhost:8080/"
        },
        "id": "By5hC7Ed34os",
        "outputId": "55449bdf-6738-49ba-dd77-c55fa5f6076f"
      },
      "outputs": [
        {
          "data": {
            "text/plain": [
              "array([0.03101186, 0.43507442, 0.81248926, ..., 0.60922484, 0.03101186,\n",
              "       0.25475963])"
            ]
          },
          "execution_count": 460,
          "metadata": {},
          "output_type": "execute_result"
        }
      ],
      "source": [
        "preds"
      ]
    },
    {
      "cell_type": "code",
      "execution_count": 461,
      "metadata": {
        "colab": {
          "base_uri": "https://localhost:8080/"
        },
        "id": "GQ-GuO0VJAMk",
        "outputId": "2adb6c57-6241-4058-9460-483e3ebb3c27"
      },
      "outputs": [
        {
          "data": {
            "text/plain": [
              "array([0.03101186, 0.43507442, 0.81248926, 0.03699833, 0.95044176])"
            ]
          },
          "execution_count": 461,
          "metadata": {},
          "output_type": "execute_result"
        }
      ],
      "source": [
        "preds[:5]"
      ]
    },
    {
      "cell_type": "code",
      "execution_count": 462,
      "metadata": {
        "id": "Mlf_UFnbJED0"
      },
      "outputs": [],
      "source": [
        "pred = (preds>0.5).astype(int).reshape(-1,1)"
      ]
    },
    {
      "cell_type": "code",
      "execution_count": 463,
      "metadata": {
        "colab": {
          "base_uri": "https://localhost:8080/"
        },
        "id": "0-097u6nJHXh",
        "outputId": "c804f062-8767-4100-b789-d170ab78f86c"
      },
      "outputs": [
        {
          "data": {
            "text/plain": [
              "array([[0],\n",
              "       [0],\n",
              "       [1],\n",
              "       [0],\n",
              "       [1]])"
            ]
          },
          "execution_count": 463,
          "metadata": {},
          "output_type": "execute_result"
        }
      ],
      "source": [
        "pred[:5]"
      ]
    },
    {
      "cell_type": "code",
      "execution_count": 464,
      "metadata": {
        "colab": {
          "base_uri": "https://localhost:8080/"
        },
        "id": "f2aByl3PJKXK",
        "outputId": "e5fd892a-3b13-406b-bf24-3f57b9f75d35"
      },
      "outputs": [
        {
          "data": {
            "text/plain": [
              "0.8242055442866801"
            ]
          },
          "execution_count": 464,
          "metadata": {},
          "output_type": "execute_result"
        }
      ],
      "source": [
        "(pred==val_y).mean()"
      ]
    },
    {
      "cell_type": "code",
      "execution_count": 465,
      "metadata": {
        "id": "VsRuMyJJJOXg"
      },
      "outputs": [],
      "source": [
        "from sklearn.metrics import accuracy_score"
      ]
    },
    {
      "cell_type": "code",
      "execution_count": 466,
      "metadata": {
        "colab": {
          "base_uri": "https://localhost:8080/"
        },
        "id": "J-b9x-CqJQ-y",
        "outputId": "949b3e6c-f7fc-4a25-a7ea-ddfd3ea60fec"
      },
      "outputs": [
        {
          "name": "stdout",
          "output_type": "stream",
          "text": [
            "0.0 0.371\n",
            "0.1 0.669\n",
            "0.2 0.786\n",
            "0.3 0.823\n",
            "0.4 0.834\n",
            "0.5 0.824\n",
            "0.6 0.811\n",
            "0.7 0.793\n",
            "0.8 0.771\n",
            "0.9 0.728\n",
            "1.0 0.629\n"
          ]
        }
      ],
      "source": [
        "thresholds = np.linspace(0,1,11)\n",
        "\n",
        "for i in thresholds:\n",
        "    churn = preds>=i\n",
        "    acc = accuracy_score(val_y, churn)\n",
        "    print(f'{round(i,1)} {round(acc,3)}')"
      ]
    },
    {
      "cell_type": "code",
      "execution_count": 467,
      "metadata": {
        "id": "NLtiC-WYJYT3"
      },
      "outputs": [],
      "source": [
        "thresholds = np.linspace(0,1,21)\n",
        "accs = []\n",
        "\n",
        "for i in thresholds:\n",
        "    churn = preds>=i\n",
        "    acc = accuracy_score(val_y, churn)\n",
        "    accs.append(acc)"
      ]
    },
    {
      "cell_type": "code",
      "execution_count": 468,
      "metadata": {
        "colab": {
          "base_uri": "https://localhost:8080/",
          "height": 472
        },
        "id": "nMLQUaRXJZhB",
        "outputId": "188c00bd-d350-48d1-f376-23003c8f0d11"
      },
      "outputs": [
        {
          "data": {
            "image/png": "[encoded data removed]",
            "text/plain": [
              "<Figure size 640x480 with 1 Axes>"
            ]
          },
          "metadata": {},
          "output_type": "display_data"
        }
      ],
      "source": [
        "plt.plot(thresholds, accs)\n",
        "plt.xlabel('Thresholds')\n",
        "plt.ylabel('Accuracy')\n",
        "plt.title('Threshold vs Accuracy')\n",
        "plt.show()"
      ]
    },
    {
      "cell_type": "markdown",
      "metadata": {
        "id": "jt2J0iVI5cRR"
      },
      "source": [
        "Threshold = 0.4"
      ]
    },
    {
      "cell_type": "code",
      "execution_count": 471,
      "metadata": {
        "id": "BNq1WtwPuzFG"
      },
      "outputs": [],
      "source": [
        "test_dict = test_X[cat+numerical].to_dict(orient='records')"
      ]
    },
    {
      "cell_type": "code",
      "execution_count": 472,
      "metadata": {
        "colab": {
          "base_uri": "https://localhost:8080/"
        },
        "id": "MGqTHSmPu1yI",
        "outputId": "06bc4461-b532-43d0-9add-5c4929a1f0f0"
      },
      "outputs": [
        {
          "data": {
            "text/plain": [
              "{'what_is_your_current_occupation': 'Unemployed',\n",
              " 'last_activity': 'Email Link Clicked',\n",
              " 'lead_profile': 'Potential Lead',\n",
              " 'last_notable_activity': 'Modified',\n",
              " 'lead_source': 'Reference',\n",
              " 'what_matters_most_to_you_in_choosing_a_course': 'Better Career Prospects',\n",
              " 'lead_origin': 'Lead Add Form',\n",
              " 'specialization': 'Services Excellence',\n",
              " 'do_not_email': 'No',\n",
              " 'totalvisits': 0.0,\n",
              " 'total_time_spent_on_website': 0,\n",
              " 'page_views_per_visit': 0.0}"
            ]
          },
          "execution_count": 472,
          "metadata": {},
          "output_type": "execute_result"
        }
      ],
      "source": [
        "test_dict[0]"
      ]
    },
    {
      "cell_type": "code",
      "execution_count": 473,
      "metadata": {
        "colab": {
          "base_uri": "https://localhost:8080/"
        },
        "id": "iE2LjtI_u3jz",
        "outputId": "0afa690e-b6f9-486f-a600-f05b20d2d2a5"
      },
      "outputs": [
        {
          "data": {
            "text/plain": [
              "array([1., 0., 0., 0., 0., 1., 0., 0., 0., 0., 0., 0., 0., 0., 0., 0., 0.,\n",
              "       0., 0., 0., 0., 0., 0., 0., 0., 0., 1., 0., 0., 0., 0., 0., 0., 0.,\n",
              "       0., 0., 1., 0., 0., 0., 0., 0., 1., 0., 0., 0., 0., 0., 0., 0., 0.,\n",
              "       0., 0., 0., 0., 1., 0., 0., 0., 0., 0., 0., 0., 0., 0., 0., 0., 0.,\n",
              "       0., 0., 0., 0., 0., 0., 0., 0., 0., 0., 0., 0., 0., 1., 0., 0., 0.,\n",
              "       0., 0., 0., 0., 0., 1., 0., 1., 0.])"
            ]
          },
          "execution_count": 473,
          "metadata": {},
          "output_type": "execute_result"
        }
      ],
      "source": [
        "X_test = dv.transform(test_dict)\n",
        "X_test[0]"
      ]
    },
    {
      "cell_type": "code",
      "execution_count": 474,
      "metadata": {
        "id": "vCpf3ySOu5Z6"
      },
      "outputs": [],
      "source": [
        "preds_test = model.predict_proba(X_test)"
      ]
    },
    {
      "cell_type": "code",
      "execution_count": 475,
      "metadata": {
        "id": "eO4fajCSu70N"
      },
      "outputs": [],
      "source": [
        "preds_test = preds_test[:,1]"
      ]
    },
    {
      "cell_type": "code",
      "execution_count": 476,
      "metadata": {
        "colab": {
          "base_uri": "https://localhost:8080/"
        },
        "id": "nZx8AUchu9tR",
        "outputId": "f3497ab8-764c-4c2d-8ced-10f5bcb5bc6c"
      },
      "outputs": [
        {
          "data": {
            "text/plain": [
              "array([0.91912688, 0.93503539, 0.43071699, 0.13130697, 0.83044827,\n",
              "       0.05702407, 0.03101186, 0.93607965, 0.82939047, 0.21278632])"
            ]
          },
          "execution_count": 476,
          "metadata": {},
          "output_type": "execute_result"
        }
      ],
      "source": [
        "preds_test[:10]"
      ]
    },
    {
      "cell_type": "code",
      "execution_count": 477,
      "metadata": {
        "id": "dmYN3d0Ju_Wz"
      },
      "outputs": [],
      "source": [
        "pred_test =  (preds_test>0.5).astype(int).reshape(-1,1)"
      ]
    },
    {
      "cell_type": "code",
      "execution_count": 478,
      "metadata": {
        "colab": {
          "base_uri": "https://localhost:8080/"
        },
        "id": "EBEpPh_OvA_j",
        "outputId": "de543268-38b4-42de-d8e9-19c7cc0b0ca4"
      },
      "outputs": [
        {
          "data": {
            "text/plain": [
              "array([[1],\n",
              "       [1],\n",
              "       [0],\n",
              "       [0],\n",
              "       [1]])"
            ]
          },
          "execution_count": 478,
          "metadata": {},
          "output_type": "execute_result"
        }
      ],
      "source": [
        "pred_test[:5]"
      ]
    },
    {
      "cell_type": "code",
      "execution_count": 479,
      "metadata": {
        "colab": {
          "base_uri": "https://localhost:8080/"
        },
        "id": "gPlDKLV54E7L",
        "outputId": "d00827c6-67be-4a8c-df55-e64b550cb07e"
      },
      "outputs": [
        {
          "data": {
            "text/plain": [
              "656"
            ]
          },
          "execution_count": 479,
          "metadata": {},
          "output_type": "execute_result"
        }
      ],
      "source": [
        "y = pred_test\n",
        "np.count_nonzero(y == 1)"
      ]
    },
    {
      "cell_type": "markdown",
      "metadata": {
        "id": "CG2TDAe8FPzX"
      },
      "source": [
        "656 leads have been converted"
      ]
    },
    {
      "cell_type": "code",
      "execution_count": 480,
      "metadata": {
        "colab": {
          "base_uri": "https://localhost:8080/"
        },
        "id": "mc3dn7GYvDLH",
        "outputId": "650be760-48e3-49ef-cd79-f55e38c4110c"
      },
      "outputs": [
        {
          "data": {
            "text/plain": [
              "0.8403679653679653"
            ]
          },
          "execution_count": 480,
          "metadata": {},
          "output_type": "execute_result"
        }
      ],
      "source": [
        "(pred_test==test_y).mean()"
      ]
    },
    {
      "cell_type": "markdown",
      "metadata": {
        "id": "CSzSxkaB57wa"
      },
      "source": [
        "There is an 83.93% accuray of our model."
      ]
    },
    {
      "cell_type": "markdown",
      "metadata": {
        "id": "cfAhHO5nLmf8"
      },
      "source": [
        "# Confusion Table"
      ]
    },
    {
      "cell_type": "code",
      "execution_count": 481,
      "metadata": {
        "id": "ELPLpZC2Lqp7"
      },
      "outputs": [],
      "source": [
        "t = 0.4\n",
        "\n",
        "predict_convert = (preds>=t).reshape(-1,1)\n",
        "predict_no_convert = (preds<t).reshape(-1,1)\n",
        "\n",
        "actual_convert = (val_y==1)\n",
        "actual_no_convert = (val_y==0)\n",
        "\n",
        "true_positive = (predict_convert & actual_convert).sum()\n",
        "true_negative = (predict_no_convert & actual_no_convert).sum()\n",
        "\n",
        "false_positive = (predict_convert & actual_no_convert).sum()\n",
        "false_negative = (predict_no_convert & actual_convert).sum()"
      ]
    },
    {
      "cell_type": "code",
      "execution_count": 482,
      "metadata": {
        "colab": {
          "base_uri": "https://localhost:8080/"
        },
        "id": "J1BEphx_LwYQ",
        "outputId": "54fd7733-14a6-4b8d-fcad-e73d32c57f72"
      },
      "outputs": [
        {
          "data": {
            "text/plain": [
              "array([[806, 125],\n",
              "       [121, 427]])"
            ]
          },
          "execution_count": 482,
          "metadata": {},
          "output_type": "execute_result"
        }
      ],
      "source": [
        "confussion_table = np.array([[true_negative, false_positive],[false_negative,true_positive]])\n",
        "confussion_table"
      ]
    },
    {
      "cell_type": "code",
      "execution_count": 483,
      "metadata": {
        "colab": {
          "base_uri": "https://localhost:8080/"
        },
        "id": "mSv-0-gALxDW",
        "outputId": "6bd6c69c-8ea8-469d-d8fa-1a0e52661e17"
      },
      "outputs": [
        {
          "data": {
            "text/plain": [
              "array([[0.54496281, 0.08451657],\n",
              "       [0.08181204, 0.28870859]])"
            ]
          },
          "execution_count": 483,
          "metadata": {},
          "output_type": "execute_result"
        }
      ],
      "source": [
        "confussion_table/confussion_table.sum()"
      ]
    },
    {
      "cell_type": "code",
      "execution_count": 484,
      "metadata": {
        "colab": {
          "base_uri": "https://localhost:8080/"
        },
        "id": "B15tLYd9L5eb",
        "outputId": "87061bd8-e5aa-4fc1-e7d4-bb28d0d99220"
      },
      "outputs": [
        {
          "name": "stdout",
          "output_type": "stream",
          "text": [
            "The fraction of true positives among all positive examples: 0.7791970802919708\n",
            "The fraction of false positives among all negative examples: 0.13426423200859292\n"
          ]
        }
      ],
      "source": [
        "tpr = true_positive/(true_positive+false_negative)\n",
        "fpr = false_positive/(true_negative+false_positive)\n",
        "print(f'The fraction of true positives among all positive examples: {tpr}\\nThe fraction of false positives among all negative examples: {fpr}')"
      ]
    },
    {
      "cell_type": "markdown",
      "metadata": {
        "id": "MN-5k-WMNSfW"
      },
      "source": [
        "# ROC Curve"
      ]
    },
    {
      "cell_type": "code",
      "execution_count": 485,
      "metadata": {
        "id": "l60v9UdoL-1N"
      },
      "outputs": [],
      "source": [
        "scores = []\n",
        "\n",
        "thresholds = np.linspace(0,1,101)\n",
        "\n",
        "for t in thresholds:\n",
        "    tp = ((preds>=t).reshape(-1,1)&(val_y==1)).sum()\n",
        "    fp = ((preds>=t).reshape(-1,1)&(val_y==0)).sum()\n",
        "    fn = ((preds<t).reshape(-1,1)&(val_y==1)).sum()\n",
        "    tn = ((preds<t).reshape(-1,1)&(val_y==0)).sum()\n",
        "    scores.append((t,tp,fp,fn,tn))"
      ]
    },
    {
      "cell_type": "code",
      "execution_count": 486,
      "metadata": {
        "colab": {
          "base_uri": "https://localhost:8080/",
          "height": 394
        },
        "id": "fGEZa5jyL_k0",
        "outputId": "298826f8-f503-43c5-9d05-2ec231a768b5"
      },
      "outputs": [
        {
          "data": {
            "text/html": [
              "<div>\n",
              "<style scoped>\n",
              "    .dataframe tbody tr th:only-of-type {\n",
              "        vertical-align: middle;\n",
              "    }\n",
              "\n",
              "    .dataframe tbody tr th {\n",
              "        vertical-align: top;\n",
              "    }\n",
              "\n",
              "    .dataframe thead th {\n",
              "        text-align: right;\n",
              "    }\n",
              "</style>\n",
              "<table border=\"1\" class=\"dataframe\">\n",
              "  <thead>\n",
              "    <tr style=\"text-align: right;\">\n",
              "      <th></th>\n",
              "      <th>thresholds</th>\n",
              "      <th>tp</th>\n",
              "      <th>fp</th>\n",
              "      <th>fn</th>\n",
              "      <th>tn</th>\n",
              "    </tr>\n",
              "  </thead>\n",
              "  <tbody>\n",
              "    <tr>\n",
              "      <th>0</th>\n",
              "      <td>0.0</td>\n",
              "      <td>548</td>\n",
              "      <td>931</td>\n",
              "      <td>0</td>\n",
              "      <td>0</td>\n",
              "    </tr>\n",
              "    <tr>\n",
              "      <th>10</th>\n",
              "      <td>0.1</td>\n",
              "      <td>532</td>\n",
              "      <td>473</td>\n",
              "      <td>16</td>\n",
              "      <td>458</td>\n",
              "    </tr>\n",
              "    <tr>\n",
              "      <th>20</th>\n",
              "      <td>0.2</td>\n",
              "      <td>506</td>\n",
              "      <td>274</td>\n",
              "      <td>42</td>\n",
              "      <td>657</td>\n",
              "    </tr>\n",
              "    <tr>\n",
              "      <th>30</th>\n",
              "      <td>0.3</td>\n",
              "      <td>467</td>\n",
              "      <td>181</td>\n",
              "      <td>81</td>\n",
              "      <td>750</td>\n",
              "    </tr>\n",
              "    <tr>\n",
              "      <th>40</th>\n",
              "      <td>0.4</td>\n",
              "      <td>427</td>\n",
              "      <td>125</td>\n",
              "      <td>121</td>\n",
              "      <td>806</td>\n",
              "    </tr>\n",
              "    <tr>\n",
              "      <th>50</th>\n",
              "      <td>0.5</td>\n",
              "      <td>387</td>\n",
              "      <td>99</td>\n",
              "      <td>161</td>\n",
              "      <td>832</td>\n",
              "    </tr>\n",
              "    <tr>\n",
              "      <th>60</th>\n",
              "      <td>0.6</td>\n",
              "      <td>344</td>\n",
              "      <td>75</td>\n",
              "      <td>204</td>\n",
              "      <td>856</td>\n",
              "    </tr>\n",
              "    <tr>\n",
              "      <th>70</th>\n",
              "      <td>0.7</td>\n",
              "      <td>295</td>\n",
              "      <td>53</td>\n",
              "      <td>253</td>\n",
              "      <td>878</td>\n",
              "    </tr>\n",
              "    <tr>\n",
              "      <th>80</th>\n",
              "      <td>0.8</td>\n",
              "      <td>240</td>\n",
              "      <td>31</td>\n",
              "      <td>308</td>\n",
              "      <td>900</td>\n",
              "    </tr>\n",
              "    <tr>\n",
              "      <th>90</th>\n",
              "      <td>0.9</td>\n",
              "      <td>159</td>\n",
              "      <td>14</td>\n",
              "      <td>389</td>\n",
              "      <td>917</td>\n",
              "    </tr>\n",
              "    <tr>\n",
              "      <th>100</th>\n",
              "      <td>1.0</td>\n",
              "      <td>0</td>\n",
              "      <td>0</td>\n",
              "      <td>548</td>\n",
              "      <td>931</td>\n",
              "    </tr>\n",
              "  </tbody>\n",
              "</table>\n",
              "</div>"
            ],
            "text/plain": [
              "     thresholds   tp   fp   fn   tn\n",
              "0           0.0  548  931    0    0\n",
              "10          0.1  532  473   16  458\n",
              "20          0.2  506  274   42  657\n",
              "30          0.3  467  181   81  750\n",
              "40          0.4  427  125  121  806\n",
              "50          0.5  387   99  161  832\n",
              "60          0.6  344   75  204  856\n",
              "70          0.7  295   53  253  878\n",
              "80          0.8  240   31  308  900\n",
              "90          0.9  159   14  389  917\n",
              "100         1.0    0    0  548  931"
            ]
          },
          "execution_count": 486,
          "metadata": {},
          "output_type": "execute_result"
        }
      ],
      "source": [
        "df_scores = pd.DataFrame(scores)\n",
        "df_scores.columns = ['thresholds','tp','fp','fn','tn']\n",
        "df_scores[::10]"
      ]
    },
    {
      "cell_type": "code",
      "execution_count": 487,
      "metadata": {
        "colab": {
          "base_uri": "https://localhost:8080/",
          "height": 394
        },
        "id": "pFE5eH7AMEuy",
        "outputId": "66feb671-a126-43ef-afe6-c3ecfd82dde3"
      },
      "outputs": [
        {
          "data": {
            "text/html": [
              "<div>\n",
              "<style scoped>\n",
              "    .dataframe tbody tr th:only-of-type {\n",
              "        vertical-align: middle;\n",
              "    }\n",
              "\n",
              "    .dataframe tbody tr th {\n",
              "        vertical-align: top;\n",
              "    }\n",
              "\n",
              "    .dataframe thead th {\n",
              "        text-align: right;\n",
              "    }\n",
              "</style>\n",
              "<table border=\"1\" class=\"dataframe\">\n",
              "  <thead>\n",
              "    <tr style=\"text-align: right;\">\n",
              "      <th></th>\n",
              "      <th>thresholds</th>\n",
              "      <th>tp</th>\n",
              "      <th>fp</th>\n",
              "      <th>fn</th>\n",
              "      <th>tn</th>\n",
              "      <th>tpr</th>\n",
              "      <th>fpr</th>\n",
              "    </tr>\n",
              "  </thead>\n",
              "  <tbody>\n",
              "    <tr>\n",
              "      <th>0</th>\n",
              "      <td>0.0</td>\n",
              "      <td>548</td>\n",
              "      <td>931</td>\n",
              "      <td>0</td>\n",
              "      <td>0</td>\n",
              "      <td>1.000000</td>\n",
              "      <td>1.000000</td>\n",
              "    </tr>\n",
              "    <tr>\n",
              "      <th>10</th>\n",
              "      <td>0.1</td>\n",
              "      <td>532</td>\n",
              "      <td>473</td>\n",
              "      <td>16</td>\n",
              "      <td>458</td>\n",
              "      <td>0.970803</td>\n",
              "      <td>0.508056</td>\n",
              "    </tr>\n",
              "    <tr>\n",
              "      <th>20</th>\n",
              "      <td>0.2</td>\n",
              "      <td>506</td>\n",
              "      <td>274</td>\n",
              "      <td>42</td>\n",
              "      <td>657</td>\n",
              "      <td>0.923358</td>\n",
              "      <td>0.294307</td>\n",
              "    </tr>\n",
              "    <tr>\n",
              "      <th>30</th>\n",
              "      <td>0.3</td>\n",
              "      <td>467</td>\n",
              "      <td>181</td>\n",
              "      <td>81</td>\n",
              "      <td>750</td>\n",
              "      <td>0.852190</td>\n",
              "      <td>0.194415</td>\n",
              "    </tr>\n",
              "    <tr>\n",
              "      <th>40</th>\n",
              "      <td>0.4</td>\n",
              "      <td>427</td>\n",
              "      <td>125</td>\n",
              "      <td>121</td>\n",
              "      <td>806</td>\n",
              "      <td>0.779197</td>\n",
              "      <td>0.134264</td>\n",
              "    </tr>\n",
              "    <tr>\n",
              "      <th>50</th>\n",
              "      <td>0.5</td>\n",
              "      <td>387</td>\n",
              "      <td>99</td>\n",
              "      <td>161</td>\n",
              "      <td>832</td>\n",
              "      <td>0.706204</td>\n",
              "      <td>0.106337</td>\n",
              "    </tr>\n",
              "    <tr>\n",
              "      <th>60</th>\n",
              "      <td>0.6</td>\n",
              "      <td>344</td>\n",
              "      <td>75</td>\n",
              "      <td>204</td>\n",
              "      <td>856</td>\n",
              "      <td>0.627737</td>\n",
              "      <td>0.080559</td>\n",
              "    </tr>\n",
              "    <tr>\n",
              "      <th>70</th>\n",
              "      <td>0.7</td>\n",
              "      <td>295</td>\n",
              "      <td>53</td>\n",
              "      <td>253</td>\n",
              "      <td>878</td>\n",
              "      <td>0.538321</td>\n",
              "      <td>0.056928</td>\n",
              "    </tr>\n",
              "    <tr>\n",
              "      <th>80</th>\n",
              "      <td>0.8</td>\n",
              "      <td>240</td>\n",
              "      <td>31</td>\n",
              "      <td>308</td>\n",
              "      <td>900</td>\n",
              "      <td>0.437956</td>\n",
              "      <td>0.033298</td>\n",
              "    </tr>\n",
              "    <tr>\n",
              "      <th>90</th>\n",
              "      <td>0.9</td>\n",
              "      <td>159</td>\n",
              "      <td>14</td>\n",
              "      <td>389</td>\n",
              "      <td>917</td>\n",
              "      <td>0.290146</td>\n",
              "      <td>0.015038</td>\n",
              "    </tr>\n",
              "    <tr>\n",
              "      <th>100</th>\n",
              "      <td>1.0</td>\n",
              "      <td>0</td>\n",
              "      <td>0</td>\n",
              "      <td>548</td>\n",
              "      <td>931</td>\n",
              "      <td>0.000000</td>\n",
              "      <td>0.000000</td>\n",
              "    </tr>\n",
              "  </tbody>\n",
              "</table>\n",
              "</div>"
            ],
            "text/plain": [
              "     thresholds   tp   fp   fn   tn       tpr       fpr\n",
              "0           0.0  548  931    0    0  1.000000  1.000000\n",
              "10          0.1  532  473   16  458  0.970803  0.508056\n",
              "20          0.2  506  274   42  657  0.923358  0.294307\n",
              "30          0.3  467  181   81  750  0.852190  0.194415\n",
              "40          0.4  427  125  121  806  0.779197  0.134264\n",
              "50          0.5  387   99  161  832  0.706204  0.106337\n",
              "60          0.6  344   75  204  856  0.627737  0.080559\n",
              "70          0.7  295   53  253  878  0.538321  0.056928\n",
              "80          0.8  240   31  308  900  0.437956  0.033298\n",
              "90          0.9  159   14  389  917  0.290146  0.015038\n",
              "100         1.0    0    0  548  931  0.000000  0.000000"
            ]
          },
          "execution_count": 487,
          "metadata": {},
          "output_type": "execute_result"
        }
      ],
      "source": [
        "df_scores['tpr'] = df_scores.tp / (df_scores.tp+df_scores.fn)\n",
        "df_scores['fpr'] = df_scores.fp / (df_scores.fp+df_scores.tn)\n",
        "df_scores[::10]"
      ]
    },
    {
      "cell_type": "code",
      "execution_count": 488,
      "metadata": {
        "colab": {
          "base_uri": "https://localhost:8080/",
          "height": 472
        },
        "id": "T3_9rSUNMIO1",
        "outputId": "62b40ae5-8524-4d66-a0c4-50a93a5aad83"
      },
      "outputs": [
        {
          "data": {
            "image/png": "[encoded data removed]",
            "text/plain": [
              "<Figure size 640x480 with 1 Axes>"
            ]
          },
          "metadata": {},
          "output_type": "display_data"
        }
      ],
      "source": [
        "plt.plot(df_scores.thresholds, df_scores.tpr, label='TPR')\n",
        "plt.plot(df_scores.thresholds, df_scores.fpr, label='FPR')\n",
        "plt.xlabel('Thresholds')\n",
        "plt.title('TPR and FPR')\n",
        "plt.legend()\n",
        "plt.show()"
      ]
    },
    {
      "cell_type": "code",
      "execution_count": 489,
      "metadata": {
        "id": "e5b82c96"
      },
      "outputs": [],
      "source": [
        "np.random.seed(1)\n",
        "y_rand = np.random.uniform(0,1, size=len(val_y))\n",
        "y_rand = y_rand.reshape(-1,1)"
      ]
    },
    {
      "cell_type": "code",
      "execution_count": 490,
      "metadata": {
        "id": "2e1b6de4"
      },
      "outputs": [],
      "source": [
        "def tpr_fpr_dataframe(y_val, y_pred):\n",
        "    scores = []\n",
        "    thresholds = np.linspace(0,1,101)\n",
        "\n",
        "    for t in thresholds:\n",
        "        tp = ((y_pred>=t)&(y_val==1)).sum()\n",
        "        fp = ((y_pred>=t)&(y_val==0)).sum()\n",
        "        fn = ((y_pred<t)&(y_val==1)).sum()\n",
        "        tn = ((y_pred<t)&(y_val==0)).sum()\n",
        "        scores.append((t,tp,fp,fn,tn))\n",
        "\n",
        "        df_scores = pd.DataFrame(scores)\n",
        "    df_scores.columns = ['thresholds','tp','fp','fn','tn']\n",
        "\n",
        "    df_scores['tpr'] = df_scores.tp / (df_scores.tp+df_scores.fn)\n",
        "    df_scores['fpr'] = df_scores.fp / (df_scores.fp+df_scores.tn)\n",
        "\n",
        "    return df_scores"
      ]
    },
    {
      "cell_type": "code",
      "execution_count": 491,
      "metadata": {
        "id": "af959c35"
      },
      "outputs": [],
      "source": [
        "df_rand = tpr_fpr_dataframe(val_y, y_rand)"
      ]
    },
    {
      "cell_type": "code",
      "execution_count": 492,
      "metadata": {
        "colab": {
          "base_uri": "https://localhost:8080/",
          "height": 394
        },
        "id": "aad995e5",
        "outputId": "688e15b4-ce38-4823-ce7d-dbff45546193"
      },
      "outputs": [
        {
          "data": {
            "text/html": [
              "<div>\n",
              "<style scoped>\n",
              "    .dataframe tbody tr th:only-of-type {\n",
              "        vertical-align: middle;\n",
              "    }\n",
              "\n",
              "    .dataframe tbody tr th {\n",
              "        vertical-align: top;\n",
              "    }\n",
              "\n",
              "    .dataframe thead th {\n",
              "        text-align: right;\n",
              "    }\n",
              "</style>\n",
              "<table border=\"1\" class=\"dataframe\">\n",
              "  <thead>\n",
              "    <tr style=\"text-align: right;\">\n",
              "      <th></th>\n",
              "      <th>thresholds</th>\n",
              "      <th>tp</th>\n",
              "      <th>fp</th>\n",
              "      <th>fn</th>\n",
              "      <th>tn</th>\n",
              "      <th>tpr</th>\n",
              "      <th>fpr</th>\n",
              "    </tr>\n",
              "  </thead>\n",
              "  <tbody>\n",
              "    <tr>\n",
              "      <th>0</th>\n",
              "      <td>0.0</td>\n",
              "      <td>548</td>\n",
              "      <td>931</td>\n",
              "      <td>0</td>\n",
              "      <td>0</td>\n",
              "      <td>1.000000</td>\n",
              "      <td>1.000000</td>\n",
              "    </tr>\n",
              "    <tr>\n",
              "      <th>10</th>\n",
              "      <td>0.1</td>\n",
              "      <td>492</td>\n",
              "      <td>838</td>\n",
              "      <td>56</td>\n",
              "      <td>93</td>\n",
              "      <td>0.897810</td>\n",
              "      <td>0.900107</td>\n",
              "    </tr>\n",
              "    <tr>\n",
              "      <th>20</th>\n",
              "      <td>0.2</td>\n",
              "      <td>435</td>\n",
              "      <td>746</td>\n",
              "      <td>113</td>\n",
              "      <td>185</td>\n",
              "      <td>0.793796</td>\n",
              "      <td>0.801289</td>\n",
              "    </tr>\n",
              "    <tr>\n",
              "      <th>30</th>\n",
              "      <td>0.3</td>\n",
              "      <td>381</td>\n",
              "      <td>660</td>\n",
              "      <td>167</td>\n",
              "      <td>271</td>\n",
              "      <td>0.695255</td>\n",
              "      <td>0.708915</td>\n",
              "    </tr>\n",
              "    <tr>\n",
              "      <th>40</th>\n",
              "      <td>0.4</td>\n",
              "      <td>332</td>\n",
              "      <td>565</td>\n",
              "      <td>216</td>\n",
              "      <td>366</td>\n",
              "      <td>0.605839</td>\n",
              "      <td>0.606874</td>\n",
              "    </tr>\n",
              "    <tr>\n",
              "      <th>50</th>\n",
              "      <td>0.5</td>\n",
              "      <td>281</td>\n",
              "      <td>469</td>\n",
              "      <td>267</td>\n",
              "      <td>462</td>\n",
              "      <td>0.512774</td>\n",
              "      <td>0.503759</td>\n",
              "    </tr>\n",
              "    <tr>\n",
              "      <th>60</th>\n",
              "      <td>0.6</td>\n",
              "      <td>215</td>\n",
              "      <td>380</td>\n",
              "      <td>333</td>\n",
              "      <td>551</td>\n",
              "      <td>0.392336</td>\n",
              "      <td>0.408163</td>\n",
              "    </tr>\n",
              "    <tr>\n",
              "      <th>70</th>\n",
              "      <td>0.7</td>\n",
              "      <td>169</td>\n",
              "      <td>273</td>\n",
              "      <td>379</td>\n",
              "      <td>658</td>\n",
              "      <td>0.308394</td>\n",
              "      <td>0.293233</td>\n",
              "    </tr>\n",
              "    <tr>\n",
              "      <th>80</th>\n",
              "      <td>0.8</td>\n",
              "      <td>110</td>\n",
              "      <td>191</td>\n",
              "      <td>438</td>\n",
              "      <td>740</td>\n",
              "      <td>0.200730</td>\n",
              "      <td>0.205156</td>\n",
              "    </tr>\n",
              "    <tr>\n",
              "      <th>90</th>\n",
              "      <td>0.9</td>\n",
              "      <td>56</td>\n",
              "      <td>93</td>\n",
              "      <td>492</td>\n",
              "      <td>838</td>\n",
              "      <td>0.102190</td>\n",
              "      <td>0.099893</td>\n",
              "    </tr>\n",
              "    <tr>\n",
              "      <th>100</th>\n",
              "      <td>1.0</td>\n",
              "      <td>0</td>\n",
              "      <td>0</td>\n",
              "      <td>548</td>\n",
              "      <td>931</td>\n",
              "      <td>0.000000</td>\n",
              "      <td>0.000000</td>\n",
              "    </tr>\n",
              "  </tbody>\n",
              "</table>\n",
              "</div>"
            ],
            "text/plain": [
              "     thresholds   tp   fp   fn   tn       tpr       fpr\n",
              "0           0.0  548  931    0    0  1.000000  1.000000\n",
              "10          0.1  492  838   56   93  0.897810  0.900107\n",
              "20          0.2  435  746  113  185  0.793796  0.801289\n",
              "30          0.3  381  660  167  271  0.695255  0.708915\n",
              "40          0.4  332  565  216  366  0.605839  0.606874\n",
              "50          0.5  281  469  267  462  0.512774  0.503759\n",
              "60          0.6  215  380  333  551  0.392336  0.408163\n",
              "70          0.7  169  273  379  658  0.308394  0.293233\n",
              "80          0.8  110  191  438  740  0.200730  0.205156\n",
              "90          0.9   56   93  492  838  0.102190  0.099893\n",
              "100         1.0    0    0  548  931  0.000000  0.000000"
            ]
          },
          "execution_count": 492,
          "metadata": {},
          "output_type": "execute_result"
        }
      ],
      "source": [
        "df_rand[::10]"
      ]
    },
    {
      "cell_type": "code",
      "execution_count": 493,
      "metadata": {
        "colab": {
          "base_uri": "https://localhost:8080/",
          "height": 472
        },
        "id": "afaac184",
        "outputId": "e04724cb-d586-431f-d0a1-a9053a160725"
      },
      "outputs": [
        {
          "data": {
            "image/png": "[encoded data removed]",
            "text/plain": [
              "<Figure size 640x480 with 1 Axes>"
            ]
          },
          "metadata": {},
          "output_type": "display_data"
        }
      ],
      "source": [
        "plt.plot(df_rand.thresholds, df_rand.tpr, label='TPR')\n",
        "plt.plot(df_rand.thresholds, df_rand.fpr, label='FPR')\n",
        "plt.xlabel('Thresholds')\n",
        "plt.title('TPR and FPR for the random model')\n",
        "plt.legend()\n",
        "plt.show()"
      ]
    },
    {
      "cell_type": "code",
      "execution_count": 494,
      "metadata": {
        "colab": {
          "base_uri": "https://localhost:8080/",
          "height": 394
        },
        "id": "a6220dca",
        "outputId": "f22f3ac7-a419-41a1-c78b-b3798661d6b8"
      },
      "outputs": [
        {
          "data": {
            "text/html": [
              "<div>\n",
              "<style scoped>\n",
              "    .dataframe tbody tr th:only-of-type {\n",
              "        vertical-align: middle;\n",
              "    }\n",
              "\n",
              "    .dataframe tbody tr th {\n",
              "        vertical-align: top;\n",
              "    }\n",
              "\n",
              "    .dataframe thead th {\n",
              "        text-align: right;\n",
              "    }\n",
              "</style>\n",
              "<table border=\"1\" class=\"dataframe\">\n",
              "  <thead>\n",
              "    <tr style=\"text-align: right;\">\n",
              "      <th></th>\n",
              "      <th>thresholds</th>\n",
              "      <th>tp</th>\n",
              "      <th>fp</th>\n",
              "      <th>fn</th>\n",
              "      <th>tn</th>\n",
              "      <th>tpr</th>\n",
              "      <th>fpr</th>\n",
              "    </tr>\n",
              "  </thead>\n",
              "  <tbody>\n",
              "    <tr>\n",
              "      <th>0</th>\n",
              "      <td>0.0</td>\n",
              "      <td>548</td>\n",
              "      <td>931</td>\n",
              "      <td>0</td>\n",
              "      <td>0</td>\n",
              "      <td>1.000000</td>\n",
              "      <td>1.000000</td>\n",
              "    </tr>\n",
              "    <tr>\n",
              "      <th>10</th>\n",
              "      <td>0.1</td>\n",
              "      <td>548</td>\n",
              "      <td>783</td>\n",
              "      <td>0</td>\n",
              "      <td>148</td>\n",
              "      <td>1.000000</td>\n",
              "      <td>0.841031</td>\n",
              "    </tr>\n",
              "    <tr>\n",
              "      <th>20</th>\n",
              "      <td>0.2</td>\n",
              "      <td>548</td>\n",
              "      <td>635</td>\n",
              "      <td>0</td>\n",
              "      <td>296</td>\n",
              "      <td>1.000000</td>\n",
              "      <td>0.682062</td>\n",
              "    </tr>\n",
              "    <tr>\n",
              "      <th>30</th>\n",
              "      <td>0.3</td>\n",
              "      <td>548</td>\n",
              "      <td>487</td>\n",
              "      <td>0</td>\n",
              "      <td>444</td>\n",
              "      <td>1.000000</td>\n",
              "      <td>0.523093</td>\n",
              "    </tr>\n",
              "    <tr>\n",
              "      <th>40</th>\n",
              "      <td>0.4</td>\n",
              "      <td>548</td>\n",
              "      <td>339</td>\n",
              "      <td>0</td>\n",
              "      <td>592</td>\n",
              "      <td>1.000000</td>\n",
              "      <td>0.364125</td>\n",
              "    </tr>\n",
              "    <tr>\n",
              "      <th>50</th>\n",
              "      <td>0.5</td>\n",
              "      <td>548</td>\n",
              "      <td>192</td>\n",
              "      <td>0</td>\n",
              "      <td>739</td>\n",
              "      <td>1.000000</td>\n",
              "      <td>0.206230</td>\n",
              "    </tr>\n",
              "    <tr>\n",
              "      <th>60</th>\n",
              "      <td>0.6</td>\n",
              "      <td>548</td>\n",
              "      <td>44</td>\n",
              "      <td>0</td>\n",
              "      <td>887</td>\n",
              "      <td>1.000000</td>\n",
              "      <td>0.047261</td>\n",
              "    </tr>\n",
              "    <tr>\n",
              "      <th>70</th>\n",
              "      <td>0.7</td>\n",
              "      <td>444</td>\n",
              "      <td>0</td>\n",
              "      <td>104</td>\n",
              "      <td>931</td>\n",
              "      <td>0.810219</td>\n",
              "      <td>0.000000</td>\n",
              "    </tr>\n",
              "    <tr>\n",
              "      <th>80</th>\n",
              "      <td>0.8</td>\n",
              "      <td>296</td>\n",
              "      <td>0</td>\n",
              "      <td>252</td>\n",
              "      <td>931</td>\n",
              "      <td>0.540146</td>\n",
              "      <td>0.000000</td>\n",
              "    </tr>\n",
              "    <tr>\n",
              "      <th>90</th>\n",
              "      <td>0.9</td>\n",
              "      <td>148</td>\n",
              "      <td>0</td>\n",
              "      <td>400</td>\n",
              "      <td>931</td>\n",
              "      <td>0.270073</td>\n",
              "      <td>0.000000</td>\n",
              "    </tr>\n",
              "    <tr>\n",
              "      <th>100</th>\n",
              "      <td>1.0</td>\n",
              "      <td>1</td>\n",
              "      <td>0</td>\n",
              "      <td>547</td>\n",
              "      <td>931</td>\n",
              "      <td>0.001825</td>\n",
              "      <td>0.000000</td>\n",
              "    </tr>\n",
              "  </tbody>\n",
              "</table>\n",
              "</div>"
            ],
            "text/plain": [
              "     thresholds   tp   fp   fn   tn       tpr       fpr\n",
              "0           0.0  548  931    0    0  1.000000  1.000000\n",
              "10          0.1  548  783    0  148  1.000000  0.841031\n",
              "20          0.2  548  635    0  296  1.000000  0.682062\n",
              "30          0.3  548  487    0  444  1.000000  0.523093\n",
              "40          0.4  548  339    0  592  1.000000  0.364125\n",
              "50          0.5  548  192    0  739  1.000000  0.206230\n",
              "60          0.6  548   44    0  887  1.000000  0.047261\n",
              "70          0.7  444    0  104  931  0.810219  0.000000\n",
              "80          0.8  296    0  252  931  0.540146  0.000000\n",
              "90          0.9  148    0  400  931  0.270073  0.000000\n",
              "100         1.0    1    0  547  931  0.001825  0.000000"
            ]
          },
          "execution_count": 494,
          "metadata": {},
          "output_type": "execute_result"
        }
      ],
      "source": [
        "num_neg = (val_y==0).sum()\n",
        "num_pos = (val_y==1).sum()\n",
        "\n",
        "y_ideal = np.repeat([0,1], [num_neg, num_pos])\n",
        "y_pred_ideal = np.linspace(0,1, num_neg+num_pos)\n",
        "\n",
        "df_ideal = tpr_fpr_dataframe(y_ideal, y_pred_ideal)\n",
        "df_ideal[::10]"
      ]
    },
    {
      "cell_type": "code",
      "execution_count": 495,
      "metadata": {
        "colab": {
          "base_uri": "https://localhost:8080/",
          "height": 472
        },
        "id": "484c3f11",
        "outputId": "55e21880-8e39-44a5-c745-7d0c96ab7439"
      },
      "outputs": [
        {
          "data": {
            "image/png": "[encoded data removed]",
            "text/plain": [
              "<Figure size 640x480 with 1 Axes>"
            ]
          },
          "metadata": {},
          "output_type": "display_data"
        }
      ],
      "source": [
        "plt.plot(df_ideal.thresholds, df_ideal.tpr, label='TPR')\n",
        "plt.plot(df_ideal.thresholds, df_ideal.fpr, label='FPR')\n",
        "plt.xlabel('Thresholds')\n",
        "plt.title('TPR and FPR for the ideal model')\n",
        "plt.legend()\n",
        "plt.show()"
      ]
    },
    {
      "cell_type": "code",
      "execution_count": 496,
      "metadata": {
        "colab": {
          "base_uri": "https://localhost:8080/",
          "height": 487
        },
        "id": "a8b8dd7c",
        "outputId": "75e70dac-5ec4-4ed5-fc62-a894537307d4"
      },
      "outputs": [
        {
          "data": {
            "image/png": "[encoded data removed]",
            "text/plain": [
              "<Figure size 500x500 with 1 Axes>"
            ]
          },
          "metadata": {},
          "output_type": "display_data"
        }
      ],
      "source": [
        "plt.figure(figsize=(5,5))\n",
        "\n",
        "plt.plot(df_scores.fpr, df_scores.tpr, label=\"Model\")\n",
        "plt.plot(df_rand.fpr, df_rand.tpr,'b--', label=\"Random\")\n",
        "plt.plot(df_ideal.fpr, df_ideal.tpr,'y--',label=\"Ideal\")\n",
        "plt.legend()\n",
        "\n",
        "plt.xlabel('False Positive Rate')\n",
        "plt.ylabel('True Positive Rate')\n",
        "plt.title('ROC curve')\n",
        "\n",
        "plt.show()"
      ]
    },
    {
      "cell_type": "code",
      "execution_count": 497,
      "metadata": {
        "id": "9611c122"
      },
      "outputs": [],
      "source": [
        "from sklearn.metrics import roc_curve"
      ]
    },
    {
      "cell_type": "code",
      "execution_count": 498,
      "metadata": {
        "id": "f045a2a9"
      },
      "outputs": [],
      "source": [
        "fpr, tpr, thresholds = roc_curve(val_y, preds.reshape(-1,1))"
      ]
    },
    {
      "cell_type": "code",
      "execution_count": 499,
      "metadata": {
        "colab": {
          "base_uri": "https://localhost:8080/",
          "height": 445
        },
        "id": "36ec7a1e",
        "outputId": "36a95d37-f1eb-4988-c720-e39df1392a79"
      },
      "outputs": [
        {
          "data": {
            "image/png": "[encoded data removed]",
            "text/plain": [
              "<Figure size 500x500 with 1 Axes>"
            ]
          },
          "metadata": {},
          "output_type": "display_data"
        }
      ],
      "source": [
        "plt.figure(figsize=(5,5))\n",
        "plt.plot(fpr,tpr)\n",
        "plt.plot([0,1],[0,1], 'b--')\n",
        "plt.show()"
      ]
    },
    {
      "cell_type": "code",
      "execution_count": 500,
      "metadata": {
        "id": "ab6a128b"
      },
      "outputs": [],
      "source": [
        "from sklearn.metrics import auc"
      ]
    },
    {
      "cell_type": "code",
      "execution_count": 501,
      "metadata": {
        "colab": {
          "base_uri": "https://localhost:8080/"
        },
        "id": "17f506cb",
        "outputId": "e1aa6882-75f6-47d9-b622-628b23877470"
      },
      "outputs": [
        {
          "data": {
            "text/plain": [
              "0.901810705073424"
            ]
          },
          "execution_count": 501,
          "metadata": {},
          "output_type": "execute_result"
        }
      ],
      "source": [
        "auc(fpr,tpr)"
      ]
    },
    {
      "cell_type": "code",
      "execution_count": 502,
      "metadata": {
        "id": "b119659c"
      },
      "outputs": [],
      "source": [
        "from sklearn.metrics import roc_auc_score"
      ]
    },
    {
      "cell_type": "code",
      "execution_count": 503,
      "metadata": {
        "colab": {
          "base_uri": "https://localhost:8080/"
        },
        "id": "3ea5d18d",
        "outputId": "effda321-e5a7-4046-87e9-8c761cec00c8"
      },
      "outputs": [
        {
          "data": {
            "text/plain": [
              "1.0"
            ]
          },
          "execution_count": 503,
          "metadata": {},
          "output_type": "execute_result"
        }
      ],
      "source": [
        "roc_auc_score(y_ideal, y_pred_ideal)"
      ]
    },
    {
      "cell_type": "code",
      "execution_count": 504,
      "metadata": {
        "colab": {
          "base_uri": "https://localhost:8080/"
        },
        "id": "f4203802",
        "outputId": "d0a53e71-aab6-48d8-bf03-951db239e8b6"
      },
      "outputs": [
        {
          "data": {
            "text/plain": [
              "0.4981007001340682"
            ]
          },
          "execution_count": 504,
          "metadata": {},
          "output_type": "execute_result"
        }
      ],
      "source": [
        "roc_auc_score(val_y, y_rand)"
      ]
    },
    {
      "cell_type": "markdown",
      "metadata": {
        "id": "GL3UlvCVNG-j"
      },
      "source": [
        "An AUC of 0.9 means the model is reasonably good."
      ]
    }
  ],
  "metadata": {
    "colab": {
      "provenance": []
    },
    "kernelspec": {
      "display_name": "Python 3",
      "language": "python",
      "name": "python3"
    },
    "language_info": {
      "codemirror_mode": {
        "name": "ipython",
        "version": 3
      },
      "file_extension": ".py",
      "mimetype": "text/x-python",
      "name": "python",
      "nbconvert_exporter": "python",
      "pygments_lexer": "ipython3",
      "version": "3.12.2"
    }
  },
  "nbformat": 4,
  "nbformat_minor": 0
}
